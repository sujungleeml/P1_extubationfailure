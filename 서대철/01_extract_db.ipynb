{
 "cells": [
  {
   "cell_type": "code",
   "execution_count": 4,
   "metadata": {},
   "outputs": [],
   "source": [
    "import psycopg2\n",
    "from dfply import *\n",
    "import pandas as pd"
   ]
  },
  {
   "cell_type": "markdown",
   "metadata": {},
   "source": [
    "### 1. DB 연결"
   ]
  },
  {
   "cell_type": "markdown",
   "metadata": {},
   "source": [
    "#### 1.1. DB 관련 파라미터 설정"
   ]
  },
  {
   "cell_type": "code",
   "execution_count": 5,
   "metadata": {},
   "outputs": [
    {
     "name": "stdout",
     "output_type": "stream",
     "text": [
      "--------- Database Configuration ---------\n",
      "Database Name: mimic4\n",
      "User: postgres\n",
      "Password: ****\n",
      "Host: localhost\n",
      "Port: 5432\n",
      "\n",
      "--------- Intubation and Extubation Codes ---------\n",
      "Intubation Item ID: 224385\n",
      "Extubation Item IDs: 225468, 225477, 227194\n",
      "\n",
      "--------- SQL Queries for Required Tables ---------\n",
      "pg_tables: SELECT * FROM PG_TABLES;\n",
      "patients: SELECT * FROM mimiciv_hosp.patients;\n",
      "admissions: SELECT * FROM mimiciv_hosp.admissions;\n",
      "transfers: SELECT * FROM mimiciv_hosp.transfers;\n",
      "icustays: SELECT * FROM mimiciv_icu.icustays;\n",
      "d_items: SELECT * FROM mimiciv_icu.d_items;\n",
      "intubation_all: SELECT * FROM mimiciv_icu.procedureevents WHERE itemid IN (224385);\n",
      "extubation_all: SELECT * FROM mimiciv_icu.procedureevents WHERE itemid IN (225468, 225477, 227194);\n"
     ]
    }
   ],
   "source": [
    "############ DB Parameter 설정 (필요에 따라 수정해서 사용) ############\n",
    "\n",
    "database_name = 'mimic4'\n",
    "user = 'postgres'\n",
    "password = '1234'\n",
    "host = 'localhost'\n",
    "port = 5432\n",
    "\n",
    "# 삽관/발관 코드 (이 지정값들을 기준으로 'intubation_all', 'extubation_all' 데이터 추출)\n",
    "int_itemids = \"224385\"\n",
    "ext_itemids = \"225468, 225477, 227194\"\n",
    "\n",
    "# 필요한 테이블 쿼리 '(저장될 dataframe 이름): (SQL 쿼리문)'. 필요에 따라 쿼리문을 추가, 삭제, 수정해서 사용\n",
    "tables_query = {\n",
    "    'pg_tables': \"SELECT * FROM PG_TABLES;\",  # DB에 포함된 전체 테이블 리스트\n",
    "    'patients': \"SELECT * FROM mimiciv_hosp.patients;\",  # 환자 기록\n",
    "    'admissions': \"SELECT * FROM mimiciv_hosp.admissions;\",  # 입원 기록\n",
    "    'transfers': \"SELECT * FROM mimiciv_hosp.transfers;\",  # 병동 이동 기록\n",
    "    'icustays': \"SELECT * FROM mimiciv_icu.icustays;\",  # 중환자실 기록\n",
    "    'd_items': \"SELECT * FROM mimiciv_icu.d_items;\",  # 아이템 딕셔너리\n",
    "    'intubation_all': f\"SELECT * FROM mimiciv_icu.procedureevents WHERE itemid IN ({int_itemids});\",  # 삽관 이벤트\n",
    "    'extubation_all': f\"SELECT * FROM mimiciv_icu.procedureevents WHERE itemid IN ({ext_itemids});\"  # 발관 이벤트\n",
    "}\n",
    "\n",
    "\n",
    "# 파라미터 로그\n",
    "print(\"--------- Database Configuration ---------\")\n",
    "print(\"Database Name:\", database_name)\n",
    "print(\"User:\", user)\n",
    "print(\"Password:\", \"*\" * len(password)) \n",
    "print(\"Host:\", host)\n",
    "print(\"Port:\", port)\n",
    "print()\n",
    "\n",
    "print(\"--------- Intubation and Extubation Codes ---------\")\n",
    "print(\"Intubation Item ID:\", int_itemids)\n",
    "print(\"Extubation Item IDs:\", ext_itemids)\n",
    "print()\n",
    "\n",
    "print(\"--------- SQL Queries for Required Tables ---------\")\n",
    "for table_name, query in tables_query.items():\n",
    "    print(f\"{table_name}: {query}\")\n"
   ]
  },
  {
   "cell_type": "markdown",
   "metadata": {},
   "source": [
    "#### 1.2. DB 연결, 데이터 추출"
   ]
  },
  {
   "cell_type": "code",
   "execution_count": 6,
   "metadata": {},
   "outputs": [
    {
     "name": "stdout",
     "output_type": "stream",
     "text": [
      "mimic4 DATABASE CONNECTED.\n",
      "RETRIEVING DATA...\n",
      "RETRIEVED pg_tables: (99, 8)\n",
      "RETRIEVED patients: (299712, 6)\n",
      "RETRIEVED admissions: (431231, 16)\n",
      "RETRIEVED transfers: (1890972, 7)\n",
      "RETRIEVED icustays: (73181, 8)\n",
      "RETRIEVED d_items: (4014, 9)\n",
      "RETRIEVED intubation_all: (8488, 22)\n",
      "RETRIEVED extubation_all: (23122, 22)\n",
      "8 DATAFRAMES SAVED AT dataframes DICTIONARY.\n",
      "CONNECTION CLOSED.\n"
     ]
    }
   ],
   "source": [
    "try:\n",
    "    # 연결 파라미터 설정\n",
    "    params = {\n",
    "        'database': database_name,  \n",
    "        'user': user,    \n",
    "        'password': password,   \n",
    "        'host': host,   \n",
    "        'port': port      \n",
    "    }\n",
    "\n",
    "    # PostgreSQL 데이터베이스 연결\n",
    "    conn = psycopg2.connect(**params)\n",
    "    conn.autocommit = True  \n",
    "    curs = conn.cursor()\n",
    "    print(f'{database_name} DATABASE CONNECTED.')\n",
    "\n",
    "    # 테이블 불러오기\n",
    "    print('RETRIEVING DATA...')\n",
    "\n",
    "    dataframes = {}  # 테이블 저장소\n",
    "\n",
    "    for table_name, query in tables_query.items():\n",
    "        curs.execute(query)\n",
    "        columns_name = [desc[0] for desc in curs.description]\n",
    "        dataframes[table_name] = pd.DataFrame(curs.fetchall(), columns=columns_name)\n",
    "        print(f'RETRIEVED {table_name}: {dataframes[table_name].shape}')\n",
    "    print(f'{len(dataframes)} DATAFRAMES SAVED AT dataframes DICTIONARY.' )\n",
    "\n",
    "\n",
    "except Exception as e:\n",
    "    print(f\"Connection failed due to: {e}\")\n",
    "finally:\n",
    "    # Close the cursor and connection to clean up\n",
    "    if conn:\n",
    "        curs.close()\n",
    "        conn.close()\n",
    "print('CONNECTION CLOSED.')\n",
    "\n",
    "# Dataframe을 개별 변수로 저장\n",
    "for key in dataframes:\n",
    "    globals()[key] = dataframes[key]"
   ]
  },
  {
   "cell_type": "markdown",
   "metadata": {},
   "source": [
    "### 2. 데이터 정제"
   ]
  },
  {
   "cell_type": "markdown",
   "metadata": {},
   "source": [
    "#### 2.1. 환자 정보 필터링 \n",
    "- 성인 환자 (anchor age >= 18) >>\n",
    "\n",
    "    - 병원 입원(hadm_id) 정보가 있는 환자 >>\n",
    "    \n",
    "        -  중환자실 입원(stay_id) 정보가 있는 환자"
   ]
  },
  {
   "cell_type": "code",
   "execution_count": 7,
   "metadata": {},
   "outputs": [
    {
     "data": {
      "text/plain": [
       "(73181, 13)"
      ]
     },
     "execution_count": 7,
     "metadata": {},
     "output_type": "execute_result"
    }
   ],
   "source": [
    "# 18세 이상 환자 필터링\n",
    "adults_pat = patients >> filter_by(X.anchor_age >= 18)\n",
    "\n",
    "# admissions (입원기록) 테이블 결합\n",
    "adults_hadm = adults_pat >> left_join(admissions, by = \"subject_id\") \\\n",
    "    >> select(\"subject_id\", \"gender\", \"anchor_age\", \"hadm_id\", \"admittime\", \"dischtime\", \"deathtime\")\n",
    "\n",
    "# 입원정보(hadm_id) 없는 행 삭제\n",
    "adults_hadm2 = adults_hadm >> mask(adults_hadm.hadm_id.notnull())\n",
    "\n",
    "# icu (응급병동) 테이블 결합\n",
    "adults_icu = adults_hadm2 >> left_join(icustays, by = (\"subject_id\", \"hadm_id\"))\n",
    "\n",
    "# icu 입원정보(stay_id) 없는 행 삭제\n",
    "adults_icu2 = adults_icu >> mask(adults_icu.stay_id.notnull())\n",
    "\n",
    "adults_icu2.shape  # (73181, 13)\n"
   ]
  },
  {
   "cell_type": "markdown",
   "metadata": {},
   "source": [
    "ICU 입원 기록이 있는 환자 기술통계"
   ]
  },
  {
   "cell_type": "code",
   "execution_count": 8,
   "metadata": {},
   "outputs": [
    {
     "name": "stdout",
     "output_type": "stream",
     "text": [
      "<환자별 중환자실(ICU) 입원 횟수 기술통계>\n",
      "고유 환자수: 50,920명\n",
      "평균 입원 횟수: 1.44 회\n",
      "표준편차: 1.15 회\n",
      "중간값: 1.0 회\n",
      "최솟값: 1 회\n",
      "최댓값: 37 회\n"
     ]
    }
   ],
   "source": [
    "num_pat = len(adults_icu2.subject_id.unique())\n",
    "icustay_per_adult = adults_icu2.groupby(['subject_id'])['stay_id'].agg('count')\n",
    "mean_icustay_count = icustay_per_adult.mean()\n",
    "median_icustay_count = icustay_per_adult.median()\n",
    "std_dev_icustay_count = icustay_per_adult.std()\n",
    "min_icustay_count = icustay_per_adult.min()\n",
    "max_icustay_count = icustay_per_adult.max()\n",
    "\n",
    "print('<환자별 중환자실(ICU) 입원 횟수 기술통계>')\n",
    "print(f'고유 환자수: {\"{:,}\".format(num_pat)}명')\n",
    "print(f\"평균 입원 횟수: {round(mean_icustay_count, 2)} 회\")\n",
    "print(f\"표준편차: {round(std_dev_icustay_count, 2)} 회\")\n",
    "print(f\"중간값: {median_icustay_count} 회\")\n",
    "print(f\"최솟값: {min_icustay_count} 회\")\n",
    "print(f\"최댓값: {max_icustay_count} 회\")"
   ]
  },
  {
   "cell_type": "markdown",
   "metadata": {},
   "source": [
    "#### 2.2. 삽관/발관 (intubation/extubation) 정보 필터링 \n"
   ]
  },
  {
   "cell_type": "code",
   "execution_count": 9,
   "metadata": {},
   "outputs": [
    {
     "name": "stdout",
     "output_type": "stream",
     "text": [
      "intubation1 shape: (8488, 6)\n",
      "extubation1 shape: (23122, 7)\n"
     ]
    }
   ],
   "source": [
    "# 필요한 칼럼만 조회\n",
    "intubation1 = intubation_all >> select(\"subject_id\", \"hadm_id\", \"stay_id\", \"starttime\", \"itemid\", \"patientweight\")\n",
    "\n",
    "extubation1 = extubation_all >> select(\"subject_id\", \"hadm_id\", \"stay_id\", \"starttime\", \"itemid\", \"patientweight\")\n",
    "\n",
    "# 칼럼명 변경, 시간자료 datetime 변환\n",
    "intubation1.rename(columns={'starttime':'intubationtime'}, inplace=True)\n",
    "extubation1.rename(columns={'starttime':'extubationtime'}, inplace=True)\n",
    "\n",
    "intubation1['intubationtime'] = pd.to_datetime(intubation1['intubationtime'])\n",
    "extubation1['extubationtime'] = pd.to_datetime(extubation1['extubationtime'])\n",
    "\n",
    "# extubation 코드 유형 정리: 225477, 225468 = unplanned\n",
    "def label_extubation(row):\n",
    "    if row['itemid'] == 225477:\n",
    "        return 'Unplanned Extuabtion (non-patient initiated)'\n",
    "    elif row['itemid'] == 225468:\n",
    "        return 'Unplanned Extuabtion (patient-initiated)'\n",
    "    else:\n",
    "        return 'Planned Extubation'\n",
    "    \n",
    "extubation1['extubationcause'] = extubation1.apply(lambda row: label_extubation(row), axis=1)\n",
    "\n",
    "print(f'intubation1 shape: {intubation1.shape}')   # (8488, 6)\n",
    "print(f'extubation1 shape: {extubation1.shape}')   # (23122, 6)"
   ]
  },
  {
   "cell_type": "markdown",
   "metadata": {},
   "source": [
    "#### 2.3. 삽관/발관 (intubation/extubation) 중복값 삭제\n"
   ]
  },
  {
   "cell_type": "code",
   "execution_count": 10,
   "metadata": {},
   "outputs": [
    {
     "name": "stdout",
     "output_type": "stream",
     "text": [
      "필터링된 삽관 데이터 크기: (8232, 6)\n",
      "필터링된 발관 데이터 크기: (22653, 7)\n"
     ]
    }
   ],
   "source": [
    "# (오리지널 코드와 결과 비교 필요)\n",
    "# 대표적인 차이점: \n",
    "### 먼저 subject_id, hadm_id, intubation/extubation time 이 \"모두\" 일치하는 중복데이터를 제거하고 시작했음. \n",
    "### groupby 함수를 이용해서 [subject_id, hadm_id]로 묶어준 다음에 비교 코드를 수행했음.\n",
    "### 결과적으로, 이 방법을 사용했을 때 오리지널 코드보다 데이터 손실이 더 적었음. 이전 코드가 불필요한 행을 삭제한 것인지, 해당 코드가 삭제되어야 할 중복행을 놓친 것인지 검증 필요.\n",
    "### 결과 데이터를 엑셀로 추출해서 육안으로 검증을 했을 때는 오류가 보이진 않았음. HJ님이 검증을 도와주면 좋을 것 같음.  \n",
    "\n",
    "def filter_close_events(df, time_col, group_cols, time_diff=1):\n",
    "    \"\"\"\n",
    "    같은 그룹 내에서 이전 이벤트와 1시간 이내에 발생한 이벤트를 필터링합니다.\n",
    "\n",
    "    :param df: 처리할 DataFrame\n",
    "    :param time_col: 시간 데이터가 포함된 열의 이름\n",
    "    :param group_cols: 그룹화할 열의 리스트\n",
    "    :param time_diff: 중복으로 처리되는 기준 시간\n",
    "    :return: 필터링된 DataFrame\n",
    "    \"\"\"\n",
    "    # 중복 제거\n",
    "    df_deduped = df.drop_duplicates(subset=group_cols + [time_col])\n",
    "\n",
    "    # 행을 시간 순으로 정렬\n",
    "    df_sorted = df_deduped.sort_values(by=group_cols + [time_col])\n",
    "\n",
    "    # 각 그룹에 적용할 함수 정의\n",
    "    def filter_rows(group):\n",
    "        # 이벤트 간 시간 차이 계산\n",
    "        group['time_diff'] = group[time_col].diff()\n",
    "\n",
    "        # 시간 차이가 1시간 이하인 행 표시\n",
    "        mask = group['time_diff'] <= pd.Timedelta(hours=time_diff)\n",
    "\n",
    "        # 연속된 쌍의 두 번째 행을 표시하기 위해 마스크를 이동\n",
    "        mask_shifted = mask.shift(-1, fill_value=False)\n",
    "\n",
    "        # 제거 표시가 안된 행만 유지\n",
    "        return group[~mask_shifted]\n",
    "\n",
    "    # 각 그룹에 함수 적용\n",
    "    return df_sorted.groupby(group_cols, group_keys=False).apply(filter_rows).drop(columns=['time_diff'])\n",
    "\n",
    "# intubation1 및 extubation1 DataFrame에 함수 적용\n",
    "filtered_intubation = filter_close_events(intubation1, 'intubationtime', ['subject_id', 'hadm_id'])\n",
    "filtered_extubation = filter_close_events(extubation1, 'extubationtime', ['subject_id', 'hadm_id'])\n",
    "\n",
    "# 결과 확인\n",
    "print(f'필터링된 삽관 데이터 크기: {filtered_intubation.shape}')\n",
    "print(f'필터링된 발관 데이터 크기: {filtered_extubation.shape}')\n"
   ]
  },
  {
   "cell_type": "code",
   "execution_count": 11,
   "metadata": {},
   "outputs": [],
   "source": [
    "# 검증코드: 두개 이상의 삽관/발관 기록이 있는 환자들만 따로 필터링 하여 삽관/발관 이벤트 시간 비교\n",
    "\n",
    "# Intubation\n",
    "intubation_filtered_indexed = filtered_intubation.set_index(['subject_id', 'hadm_id'])\n",
    "intubation_filtered_sorted = intubation_filtered_indexed.sort_index()\n",
    "intubation_filtered_by_hadm_id = filtered_intubation.groupby('subject_id').filter(lambda x: x['hadm_id'].nunique() > 1)\n",
    "intubation_filtered_by_hadm_id_indexed = intubation_filtered_by_hadm_id.set_index(['subject_id', 'hadm_id'])\n",
    "intubation_filtered_by_hadm_id_sorted = intubation_filtered_by_hadm_id_indexed.sort_index()\n",
    "\n",
    "# Extubation\n",
    "extubation_filtered_indexed = filtered_extubation.set_index(['subject_id', 'hadm_id'])\n",
    "extubation_filtered_sorted = extubation_filtered_indexed.sort_index()\n",
    "extubation_filtered_by_hadm_id = filtered_extubation.groupby('subject_id').filter(lambda x: x['hadm_id'].nunique() > 1)\n",
    "extubation_filtered_by_hadm_id_indexed = extubation_filtered_by_hadm_id.set_index(['subject_id', 'hadm_id'])\n",
    "extubation_filtered_by_hadm_id_sorted = extubation_filtered_by_hadm_id_indexed.sort_index()\n",
    "\n"
   ]
  },
  {
   "cell_type": "code",
   "execution_count": 12,
   "metadata": {},
   "outputs": [
    {
     "data": {
      "text/html": [
       "<div>\n",
       "<style scoped>\n",
       "    .dataframe tbody tr th:only-of-type {\n",
       "        vertical-align: middle;\n",
       "    }\n",
       "\n",
       "    .dataframe tbody tr th {\n",
       "        vertical-align: top;\n",
       "    }\n",
       "\n",
       "    .dataframe thead th {\n",
       "        text-align: right;\n",
       "    }\n",
       "</style>\n",
       "<table border=\"1\" class=\"dataframe\">\n",
       "  <thead>\n",
       "    <tr style=\"text-align: right;\">\n",
       "      <th></th>\n",
       "      <th></th>\n",
       "      <th>stay_id</th>\n",
       "      <th>intubationtime</th>\n",
       "      <th>itemid</th>\n",
       "      <th>patientweight</th>\n",
       "    </tr>\n",
       "    <tr>\n",
       "      <th>subject_id</th>\n",
       "      <th>hadm_id</th>\n",
       "      <th></th>\n",
       "      <th></th>\n",
       "      <th></th>\n",
       "      <th></th>\n",
       "    </tr>\n",
       "  </thead>\n",
       "  <tbody>\n",
       "    <tr>\n",
       "      <th rowspan=\"3\" valign=\"top\">10004401</th>\n",
       "      <th>27939719</th>\n",
       "      <td>31202136</td>\n",
       "      <td>2144-04-11 05:03:00</td>\n",
       "      <td>224385</td>\n",
       "      <td>120.0</td>\n",
       "    </tr>\n",
       "    <tr>\n",
       "      <th>29988601</th>\n",
       "      <td>32773003</td>\n",
       "      <td>2144-01-27 19:00:00</td>\n",
       "      <td>224385</td>\n",
       "      <td>76.0</td>\n",
       "    </tr>\n",
       "    <tr>\n",
       "      <th>29988601</th>\n",
       "      <td>32773003</td>\n",
       "      <td>2144-01-30 13:00:00</td>\n",
       "      <td>224385</td>\n",
       "      <td>76.0</td>\n",
       "    </tr>\n",
       "    <tr>\n",
       "      <th rowspan=\"2\" valign=\"top\">10098215</th>\n",
       "      <th>20652197</th>\n",
       "      <td>37703075</td>\n",
       "      <td>2118-09-02 07:45:00</td>\n",
       "      <td>224385</td>\n",
       "      <td>66.0</td>\n",
       "    </tr>\n",
       "    <tr>\n",
       "      <th>21701015</th>\n",
       "      <td>30598744</td>\n",
       "      <td>2118-01-10 13:09:00</td>\n",
       "      <td>224385</td>\n",
       "      <td>57.0</td>\n",
       "    </tr>\n",
       "    <tr>\n",
       "      <th>...</th>\n",
       "      <th>...</th>\n",
       "      <td>...</td>\n",
       "      <td>...</td>\n",
       "      <td>...</td>\n",
       "      <td>...</td>\n",
       "    </tr>\n",
       "    <tr>\n",
       "      <th rowspan=\"2\" valign=\"top\">19956723</th>\n",
       "      <th>23886623</th>\n",
       "      <td>33940420</td>\n",
       "      <td>2194-10-28 07:00:00</td>\n",
       "      <td>224385</td>\n",
       "      <td>92.0</td>\n",
       "    </tr>\n",
       "    <tr>\n",
       "      <th>27397573</th>\n",
       "      <td>38452346</td>\n",
       "      <td>2194-11-21 17:15:00</td>\n",
       "      <td>224385</td>\n",
       "      <td>85.0</td>\n",
       "    </tr>\n",
       "    <tr>\n",
       "      <th rowspan=\"3\" valign=\"top\">19960105</th>\n",
       "      <th>20796727</th>\n",
       "      <td>31681448</td>\n",
       "      <td>2146-08-19 04:35:00</td>\n",
       "      <td>224385</td>\n",
       "      <td>61.2</td>\n",
       "    </tr>\n",
       "    <tr>\n",
       "      <th>27292691</th>\n",
       "      <td>31512322</td>\n",
       "      <td>2147-08-09 01:10:00</td>\n",
       "      <td>224385</td>\n",
       "      <td>56.8</td>\n",
       "    </tr>\n",
       "    <tr>\n",
       "      <th>27292691</th>\n",
       "      <td>31512322</td>\n",
       "      <td>2147-08-15 12:40:00</td>\n",
       "      <td>224385</td>\n",
       "      <td>56.8</td>\n",
       "    </tr>\n",
       "  </tbody>\n",
       "</table>\n",
       "<p>842 rows × 4 columns</p>\n",
       "</div>"
      ],
      "text/plain": [
       "                      stay_id      intubationtime  itemid  patientweight\n",
       "subject_id hadm_id                                                      \n",
       "10004401   27939719  31202136 2144-04-11 05:03:00  224385          120.0\n",
       "           29988601  32773003 2144-01-27 19:00:00  224385           76.0\n",
       "           29988601  32773003 2144-01-30 13:00:00  224385           76.0\n",
       "10098215   20652197  37703075 2118-09-02 07:45:00  224385           66.0\n",
       "           21701015  30598744 2118-01-10 13:09:00  224385           57.0\n",
       "...                       ...                 ...     ...            ...\n",
       "19956723   23886623  33940420 2194-10-28 07:00:00  224385           92.0\n",
       "           27397573  38452346 2194-11-21 17:15:00  224385           85.0\n",
       "19960105   20796727  31681448 2146-08-19 04:35:00  224385           61.2\n",
       "           27292691  31512322 2147-08-09 01:10:00  224385           56.8\n",
       "           27292691  31512322 2147-08-15 12:40:00  224385           56.8\n",
       "\n",
       "[842 rows x 4 columns]"
      ]
     },
     "execution_count": 12,
     "metadata": {},
     "output_type": "execute_result"
    }
   ],
   "source": [
    "intubation_filtered_by_hadm_id_sorted"
   ]
  },
  {
   "cell_type": "code",
   "execution_count": 13,
   "metadata": {},
   "outputs": [
    {
     "name": "stdout",
     "output_type": "stream",
     "text": [
      "Number of common \"index\" combinations between pat_int_group and pat_ext_group: 5601\n"
     ]
    }
   ],
   "source": [
    "# 검증 코드: intubation / extubation 테이블에서 중첩되는 [\"subject_id\", \"hadm_id\"] 그룹 숫자 구하기   # 5,601 그룹이 존재하는 것으로 나타남.\n",
    "\n",
    "pat_int_group = filtered_intubation.groupby([\"subject_id\", \"hadm_id\"])[['intubationtime', 'itemid']].count()\n",
    "pat_ext_group = filtered_extubation.groupby([\"subject_id\", \"hadm_id\"])[['extubationtime', 'itemid']].count()\n",
    "unique_indices_int = pat_int_group.index.unique()\n",
    "unique_indices_ext = pat_ext_group.index.unique()\n",
    "\n",
    "\n",
    "unique_indices_int = pat_int_group.index.unique()\n",
    "unique_indices_ext = pat_ext_group.index.unique()\n",
    "\n",
    "common_indices = unique_indices_int.intersection(unique_indices_ext)\n",
    "\n",
    "count_of_common_indices = len(common_indices)\n",
    "\n",
    "print(f'Number of common \"index\" combinations between pat_int_group and pat_ext_group: {count_of_common_indices}')\n"
   ]
  },
  {
   "cell_type": "markdown",
   "metadata": {},
   "source": [
    "#### 2.4. 삽관/발관 (intubation/extubation) 테이블 결합"
   ]
  },
  {
   "cell_type": "code",
   "execution_count": 19,
   "metadata": {},
   "outputs": [
    {
     "name": "stdout",
     "output_type": "stream",
     "text": [
      "<class 'pandas.core.frame.DataFrame'>\n",
      "RangeIndex: 10928 entries, 0 to 10927\n",
      "Data columns (total 11 columns):\n",
      " #   Column           Non-Null Count  Dtype         \n",
      "---  ------           --------------  -----         \n",
      " 0   subject_id       10928 non-null  int64         \n",
      " 1   hadm_id          10928 non-null  int64         \n",
      " 2   stay_id_x        10928 non-null  int64         \n",
      " 3   intubationtime   10928 non-null  datetime64[ns]\n",
      " 4   int_itemid       10928 non-null  int64         \n",
      " 5   int_weight       10928 non-null  float64       \n",
      " 6   stay_id_y        9387 non-null   float64       \n",
      " 7   extubationtime   9387 non-null   datetime64[ns]\n",
      " 8   ext_itemid       9387 non-null   float64       \n",
      " 9   ext_weight       9387 non-null   float64       \n",
      " 10  extubationcause  9387 non-null   object        \n",
      "dtypes: datetime64[ns](2), float64(4), int64(4), object(1)\n",
      "memory usage: 939.2+ KB\n"
     ]
    }
   ],
   "source": [
    "\n",
    "intubation_extubation = filtered_intubation >> left_join(filtered_extubation, by=(\"subject_id\", \"hadm_id\"))\n",
    "intubation_extubation_inner = filtered_intubation >> inner_join(filtered_extubation, by=(\"subject_id\", \"hadm_id\"))  # 테스트용. intubation/extubation 값이 모두 존재하는 데이터는 9387 건 있는 것으로 나옴.\n",
    "\n",
    "# 칼럼명 정리\n",
    "intubation_extubation.rename(columns={'itemid_x':'int_itemid', 'itemid_y':'ext_itemid', 'patientweight_x':'int_weight', 'patientweight_y':'ext_weight'}, inplace=True)\n",
    "\n",
    "\n",
    "intubation_extubation.info()"
   ]
  },
  {
   "cell_type": "markdown",
   "metadata": {},
   "source": [
    "#### 2.5. 입원/퇴원시각, 사망시각, 삽관/발관 시간차 변수 추가"
   ]
  },
  {
   "cell_type": "code",
   "execution_count": null,
   "metadata": {},
   "outputs": [],
   "source": []
  },
  {
   "cell_type": "code",
   "execution_count": 23,
   "metadata": {},
   "outputs": [
    {
     "name": "stdout",
     "output_type": "stream",
     "text": [
      "<class 'pandas.core.frame.DataFrame'>\n",
      "RangeIndex: 10928 entries, 0 to 10927\n",
      "Data columns (total 13 columns):\n",
      " #   Column           Non-Null Count  Dtype          \n",
      "---  ------           --------------  -----          \n",
      " 0   subject_id       10928 non-null  int64          \n",
      " 1   hadm_id          10928 non-null  int64          \n",
      " 2   admittime        10928 non-null  datetime64[ns] \n",
      " 3   intubationtime   10928 non-null  datetime64[ns] \n",
      " 4   int_itemid       10928 non-null  int64          \n",
      " 5   int_weight       10928 non-null  float64        \n",
      " 6   extubationtime   9387 non-null   datetime64[ns] \n",
      " 7   ext_itemid       9387 non-null   float64        \n",
      " 8   ext_weight       9387 non-null   float64        \n",
      " 9   extubationcause  9387 non-null   object         \n",
      " 10  int_ext_time     9387 non-null   timedelta64[ns]\n",
      " 11  dischtime        10928 non-null  datetime64[ns] \n",
      " 12  deathtime        2950 non-null   datetime64[ns] \n",
      "dtypes: datetime64[ns](5), float64(3), int64(3), object(1), timedelta64[ns](1)\n",
      "memory usage: 1.1+ MB\n"
     ]
    }
   ],
   "source": [
    "# 발관시간 - 삽관시간 계산\n",
    "intubation_extubation['int_ext_time'] = intubation_extubation['extubationtime'] - intubation_extubation['intubationtime']\n",
    "\n",
    "# 입원시각, 퇴원시각, 사망시각 결합\n",
    "intubation_extubation = intubation_extubation >> left_join(admissions, by = (\"subject_id\", \"hadm_id\")) >> select(\"subject_id\", \"hadm_id\", \"admittime\", \"intubationtime\",\"int_itemid\",\"int_weight\",\"extubationtime\",\"ext_itemid\",'ext_weight',\"extubationcause\",\"int_ext_time\",\"dischtime\", \"deathtime\")\n",
    "\n",
    "intubation_extubation.info()"
   ]
  },
  {
   "cell_type": "markdown",
   "metadata": {},
   "source": [
    "### 3. 데이터 저장\n",
    "\n",
    "1. 성인 ICU 환자 데이터 ('adults_icu2.csv')\n",
    "2. 삽관/발관 이벤트 데이터 ('intubation_extubation.csv')\n",
    "3. (검증 데이터) 중복값 필터링 후 groupby 된 intubation 데이터 ('intubation_filtered_by_hadm_id_sorted.csv') \n",
    "4. (검증 데이터) 중복값 필터링 후 groupby 된 extubation 데이터 ('extubation_filtered_by_hadm_id_sorted.csv')"
   ]
  },
  {
   "cell_type": "code",
   "execution_count": 24,
   "metadata": {},
   "outputs": [],
   "source": [
    "# 환자, 삽관/발관 데이터 저장\n",
    "adults_icu2.to_csv('../outputs/adults_icu2.csv', index=False)\n",
    "intubation_extubation.to_csv('../outputs/intubation_extubation.csv', index=False)\n",
    "\n",
    "# 검증용 데이터 저장\n",
    "intubation_filtered_by_hadm_id_sorted.to_csv('../outputs/intubation_filtered_by_hadm_id_sorted.csv')\n",
    "extubation_filtered_by_hadm_id_sorted.to_csv('../outputs/extubation_filtered_by_hadm_id_sorted.csv')"
   ]
  },
  {
   "cell_type": "code",
   "execution_count": null,
   "metadata": {},
   "outputs": [],
   "source": []
  }
 ],
 "metadata": {
  "kernelspec": {
   "display_name": "Python 3",
   "language": "python",
   "name": "python3"
  },
  "language_info": {
   "codemirror_mode": {
    "name": "ipython",
    "version": 3
   },
   "file_extension": ".py",
   "mimetype": "text/x-python",
   "name": "python",
   "nbconvert_exporter": "python",
   "pygments_lexer": "ipython3",
   "version": "3.10.13"
  }
 },
 "nbformat": 4,
 "nbformat_minor": 2
}
