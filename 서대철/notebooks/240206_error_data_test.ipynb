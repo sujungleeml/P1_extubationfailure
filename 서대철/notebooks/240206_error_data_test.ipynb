{
 "cells": [
  {
   "cell_type": "code",
   "execution_count": 12,
   "metadata": {},
   "outputs": [],
   "source": [
    "import pandas as pd\n",
    "import numpy as np\n",
    "import time\n",
    "from tqdm import tqdm\n",
    "import warnings\n",
    "import matplotlib.pyplot as plt\n",
    "import missingno as msno\n",
    "from datetime import timedelta\n",
    "import os\n",
    "import sys\n",
    "sys.path.append('/Users/sdc/Documents/bida_lab/db/P1_extubationfailure/서대철')\n",
    "import src.utils.utils as util   # 기타 유틸리티 모듈\n",
    "\n",
    "from src.subjectlist_alignment import reintubation as rnt\n",
    "from src.subjectlist_alignment import subject_classification as cls"
   ]
  },
  {
   "cell_type": "code",
   "execution_count": 7,
   "metadata": {},
   "outputs": [
    {
     "name": "stdout",
     "output_type": "stream",
     "text": [
      "Converted admittime to datetime.\n",
      "Converted intubationtime to datetime.\n",
      "Converted extubationtime to datetime.\n",
      "Converted dischtime to datetime.\n",
      "Converted deathtime to datetime.\n",
      "Converted reintubation_eventtime to datetime.\n",
      "(9008, 27)\n"
     ]
    },
    {
     "data": {
      "text/html": [
       "<div>\n",
       "<style scoped>\n",
       "    .dataframe tbody tr th:only-of-type {\n",
       "        vertical-align: middle;\n",
       "    }\n",
       "\n",
       "    .dataframe tbody tr th {\n",
       "        vertical-align: top;\n",
       "    }\n",
       "\n",
       "    .dataframe thead th {\n",
       "        text-align: right;\n",
       "    }\n",
       "</style>\n",
       "<table border=\"1\" class=\"dataframe\">\n",
       "  <thead>\n",
       "    <tr style=\"text-align: right;\">\n",
       "      <th></th>\n",
       "      <th>subject_id</th>\n",
       "      <th>hadm_id</th>\n",
       "      <th>int_stayid</th>\n",
       "      <th>admittime</th>\n",
       "      <th>intubationtime</th>\n",
       "      <th>int_itemid</th>\n",
       "      <th>int_weight</th>\n",
       "      <th>ext_stayid</th>\n",
       "      <th>extubationtime</th>\n",
       "      <th>ext_itemid</th>\n",
       "      <th>...</th>\n",
       "      <th>reintubation_eventtime</th>\n",
       "      <th>reintubationtime</th>\n",
       "      <th>seq_num</th>\n",
       "      <th>mvtime</th>\n",
       "      <th>final_event</th>\n",
       "      <th>ext_to_death</th>\n",
       "      <th>ext_to_disch</th>\n",
       "      <th>disch_to_death</th>\n",
       "      <th>class_code</th>\n",
       "      <th>class</th>\n",
       "    </tr>\n",
       "  </thead>\n",
       "  <tbody>\n",
       "    <tr>\n",
       "      <th>0</th>\n",
       "      <td>10001884</td>\n",
       "      <td>26184834</td>\n",
       "      <td>37510196.0</td>\n",
       "      <td>2131-01-07 20:39:00</td>\n",
       "      <td>2131-01-11 04:30:00</td>\n",
       "      <td>224385.0</td>\n",
       "      <td>65.0</td>\n",
       "      <td>37510196.0</td>\n",
       "      <td>2131-01-12 17:40:00</td>\n",
       "      <td>227194.0</td>\n",
       "      <td>...</td>\n",
       "      <td>NaT</td>\n",
       "      <td>NaN</td>\n",
       "      <td>1</td>\n",
       "      <td>False</td>\n",
       "      <td>True</td>\n",
       "      <td>10775.0</td>\n",
       "      <td>10775.0</td>\n",
       "      <td>0.0</td>\n",
       "      <td>11</td>\n",
       "      <td>nonfailure</td>\n",
       "    </tr>\n",
       "    <tr>\n",
       "      <th>1</th>\n",
       "      <td>10003400</td>\n",
       "      <td>23559586</td>\n",
       "      <td>38383343.0</td>\n",
       "      <td>2137-08-04 00:07:00</td>\n",
       "      <td>2137-08-17 21:21:00</td>\n",
       "      <td>224385.0</td>\n",
       "      <td>90.5</td>\n",
       "      <td>38383343.0</td>\n",
       "      <td>2137-08-21 15:40:00</td>\n",
       "      <td>227194.0</td>\n",
       "      <td>...</td>\n",
       "      <td>NaT</td>\n",
       "      <td>NaN</td>\n",
       "      <td>1</td>\n",
       "      <td>False</td>\n",
       "      <td>True</td>\n",
       "      <td>17365.0</td>\n",
       "      <td>17365.0</td>\n",
       "      <td>0.0</td>\n",
       "      <td>11</td>\n",
       "      <td>nonfailure</td>\n",
       "    </tr>\n",
       "    <tr>\n",
       "      <th>2</th>\n",
       "      <td>10004401</td>\n",
       "      <td>27939719</td>\n",
       "      <td>31202136.0</td>\n",
       "      <td>2144-04-11 03:31:00</td>\n",
       "      <td>2144-04-11 05:03:00</td>\n",
       "      <td>224385.0</td>\n",
       "      <td>120.0</td>\n",
       "      <td>NaN</td>\n",
       "      <td>2144-04-13 17:31:00</td>\n",
       "      <td>NaN</td>\n",
       "      <td>...</td>\n",
       "      <td>NaT</td>\n",
       "      <td>NaN</td>\n",
       "      <td>1</td>\n",
       "      <td>False</td>\n",
       "      <td>True</td>\n",
       "      <td>NaN</td>\n",
       "      <td>0.0</td>\n",
       "      <td>NaN</td>\n",
       "      <td>121</td>\n",
       "      <td>nonfailure</td>\n",
       "    </tr>\n",
       "    <tr>\n",
       "      <th>3</th>\n",
       "      <td>10004401</td>\n",
       "      <td>29988601</td>\n",
       "      <td>32773003.0</td>\n",
       "      <td>2144-01-23 07:58:00</td>\n",
       "      <td>2144-01-27 19:00:00</td>\n",
       "      <td>224385.0</td>\n",
       "      <td>76.0</td>\n",
       "      <td>32773003.0</td>\n",
       "      <td>2144-01-30 12:30:00</td>\n",
       "      <td>227194.0</td>\n",
       "      <td>...</td>\n",
       "      <td>2144-01-30 13:00:00</td>\n",
       "      <td>30.0</td>\n",
       "      <td>1</td>\n",
       "      <td>False</td>\n",
       "      <td>False</td>\n",
       "      <td>NaN</td>\n",
       "      <td>10035.0</td>\n",
       "      <td>NaN</td>\n",
       "      <td>211</td>\n",
       "      <td>failure</td>\n",
       "    </tr>\n",
       "    <tr>\n",
       "      <th>4</th>\n",
       "      <td>10004401</td>\n",
       "      <td>29988601</td>\n",
       "      <td>32773003.0</td>\n",
       "      <td>2144-01-23 07:58:00</td>\n",
       "      <td>2144-01-30 13:00:00</td>\n",
       "      <td>224385.0</td>\n",
       "      <td>76.0</td>\n",
       "      <td>NaN</td>\n",
       "      <td>2144-02-06 11:45:00</td>\n",
       "      <td>NaN</td>\n",
       "      <td>...</td>\n",
       "      <td>NaT</td>\n",
       "      <td>NaN</td>\n",
       "      <td>2</td>\n",
       "      <td>False</td>\n",
       "      <td>True</td>\n",
       "      <td>NaN</td>\n",
       "      <td>0.0</td>\n",
       "      <td>NaN</td>\n",
       "      <td>2221</td>\n",
       "      <td>nonfailure</td>\n",
       "    </tr>\n",
       "  </tbody>\n",
       "</table>\n",
       "<p>5 rows × 27 columns</p>\n",
       "</div>"
      ],
      "text/plain": [
       "   subject_id   hadm_id  int_stayid           admittime      intubationtime  \\\n",
       "0    10001884  26184834  37510196.0 2131-01-07 20:39:00 2131-01-11 04:30:00   \n",
       "1    10003400  23559586  38383343.0 2137-08-04 00:07:00 2137-08-17 21:21:00   \n",
       "2    10004401  27939719  31202136.0 2144-04-11 03:31:00 2144-04-11 05:03:00   \n",
       "3    10004401  29988601  32773003.0 2144-01-23 07:58:00 2144-01-27 19:00:00   \n",
       "4    10004401  29988601  32773003.0 2144-01-23 07:58:00 2144-01-30 13:00:00   \n",
       "\n",
       "   int_itemid  int_weight  ext_stayid      extubationtime  ext_itemid  ...  \\\n",
       "0    224385.0        65.0  37510196.0 2131-01-12 17:40:00    227194.0  ...   \n",
       "1    224385.0        90.5  38383343.0 2137-08-21 15:40:00    227194.0  ...   \n",
       "2    224385.0       120.0         NaN 2144-04-13 17:31:00         NaN  ...   \n",
       "3    224385.0        76.0  32773003.0 2144-01-30 12:30:00    227194.0  ...   \n",
       "4    224385.0        76.0         NaN 2144-02-06 11:45:00         NaN  ...   \n",
       "\n",
       "   reintubation_eventtime reintubationtime seq_num mvtime final_event  \\\n",
       "0                     NaT              NaN       1  False        True   \n",
       "1                     NaT              NaN       1  False        True   \n",
       "2                     NaT              NaN       1  False        True   \n",
       "3     2144-01-30 13:00:00             30.0       1  False       False   \n",
       "4                     NaT              NaN       2  False        True   \n",
       "\n",
       "   ext_to_death  ext_to_disch disch_to_death  class_code       class  \n",
       "0       10775.0       10775.0            0.0          11  nonfailure  \n",
       "1       17365.0       17365.0            0.0          11  nonfailure  \n",
       "2           NaN           0.0            NaN         121  nonfailure  \n",
       "3           NaN       10035.0            NaN         211     failure  \n",
       "4           NaN           0.0            NaN        2221  nonfailure  \n",
       "\n",
       "[5 rows x 27 columns]"
      ]
     },
     "execution_count": 7,
     "metadata": {},
     "output_type": "execute_result"
    }
   ],
   "source": [
    "data_dir = '../outputs/subjects_df.csv'\n",
    "\n",
    "df = pd.read_csv(data_dir, index_col=0)\n",
    "\n",
    "# datetime 변환\n",
    "time_cols = ['admittime', 'intubationtime', 'extubationtime', 'dischtime', 'deathtime', 'reintubation_eventtime']\n",
    "df = util.to_datetime(df, time_cols)\n",
    "print(df.shape)\n",
    "df.head()"
   ]
  },
  {
   "cell_type": "code",
   "execution_count": 8,
   "metadata": {},
   "outputs": [
    {
     "data": {
      "text/plain": [
       "Index(['subject_id', 'hadm_id', 'int_stayid', 'admittime', 'intubationtime',\n",
       "       'int_itemid', 'int_weight', 'ext_stayid', 'extubationtime',\n",
       "       'ext_itemid', 'ext_weight', 'extubationcause', 'dischtime', 'deathtime',\n",
       "       'marker', 'reint_marker', 'intext_duration', 'reintubation_eventtime',\n",
       "       'reintubationtime', 'seq_num', 'mvtime', 'final_event', 'ext_to_death',\n",
       "       'ext_to_disch', 'disch_to_death', 'class_code', 'class'],\n",
       "      dtype='object')"
      ]
     },
     "execution_count": 8,
     "metadata": {},
     "output_type": "execute_result"
    }
   ],
   "source": [
    "df.columns"
   ]
  },
  {
   "cell_type": "code",
   "execution_count": 9,
   "metadata": {},
   "outputs": [
    {
     "data": {
      "text/plain": [
       "1557    False\n",
       "2392    False\n",
       "3043    False\n",
       "3277    False\n",
       "4395    False\n",
       "Name: reint_marker, dtype: bool"
      ]
     },
     "execution_count": 9,
     "metadata": {},
     "output_type": "execute_result"
    }
   ],
   "source": [
    "df[df.intubationtime == df.extubationtime].reint_marker"
   ]
  },
  {
   "cell_type": "code",
   "execution_count": 14,
   "metadata": {},
   "outputs": [
    {
     "data": {
      "image/png": "[encoded data removed]",
      "text/plain": [
       "<Figure size 1000x600 with 1 Axes>"
      ]
     },
     "metadata": {},
     "output_type": "display_data"
    }
   ],
   "source": [
    "# Create the plot\n",
    "plt.figure(figsize=(10, 6))  # Adjust figure size as needed\n",
    "plt.hist(df['disch_to_death'], bins=20, edgecolor='k', alpha=0.7)  # Adjust bins as needed\n",
    "plt.title('Distribution of Disch-to-Death')\n",
    "plt.xlabel('Time')\n",
    "plt.ylabel('Frequency')\n",
    "plt.grid(axis='y', alpha=0.75)\n",
    "plt.show()"
   ]
  },
  {
   "cell_type": "code",
   "execution_count": 26,
   "metadata": {},
   "outputs": [
    {
     "data": {
      "text/plain": [
       "-381.0"
      ]
     },
     "execution_count": 26,
     "metadata": {},
     "output_type": "execute_result"
    }
   ],
   "source": [
    "df[df.disch_to_death.notna()]['disch_to_death'].min()"
   ]
  },
  {
   "cell_type": "code",
   "execution_count": 27,
   "metadata": {},
   "outputs": [
    {
     "data": {
      "text/plain": [
       "array([False,  True])"
      ]
     },
     "execution_count": 27,
     "metadata": {},
     "output_type": "execute_result"
    }
   ],
   "source": [
    "df. "
   ]
  },
  {
   "cell_type": "code",
   "execution_count": 30,
   "metadata": {},
   "outputs": [
    {
     "name": "stdout",
     "output_type": "stream",
     "text": [
      "(9003, 27)\n"
     ]
    }
   ],
   "source": [
    "subjectlist1 = df[df.intubationtime != df.extubationtime]\n",
    "print(subjectlist1.shape)"
   ]
  },
  {
   "cell_type": "code",
   "execution_count": 32,
   "metadata": {},
   "outputs": [
    {
     "name": "stdout",
     "output_type": "stream",
     "text": [
      "(6823, 27)\n"
     ]
    }
   ],
   "source": [
    "subjectlist2 = subjectlist1[subjectlist1.mvtime == False]\n",
    "print(subjectlist2.shape)"
   ]
  },
  {
   "cell_type": "code",
   "execution_count": 35,
   "metadata": {},
   "outputs": [
    {
     "name": "stdout",
     "output_type": "stream",
     "text": [
      "(9003, 27)\n",
      "(6823, 27)\n"
     ]
    }
   ],
   "source": [
    "subjectlist1.to_csv('../outputs/subjectlist1.csv')\n",
    "subjectlist2.to_csv('../outputs/subjectlist2.csv')\n",
    "\n",
    "print(subjectlist1.shape)   # mvtime 포함\n",
    "print(subjectlist2.shape)   # mvtime 제거"
   ]
  },
  {
   "cell_type": "code",
   "execution_count": null,
   "metadata": {},
   "outputs": [],
   "source": []
  }
 ],
 "metadata": {
  "kernelspec": {
   "display_name": "Python 3",
   "language": "python",
   "name": "python3"
  },
  "language_info": {
   "codemirror_mode": {
    "name": "ipython",
    "version": 3
   },
   "file_extension": ".py",
   "mimetype": "text/x-python",
   "name": "python",
   "nbconvert_exporter": "python",
   "pygments_lexer": "ipython3",
   "version": "3.10.13"
  }
 },
 "nbformat": 4,
 "nbformat_minor": 2
}
