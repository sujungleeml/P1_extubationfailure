{
 "cells": [
  {
   "cell_type": "code",
   "execution_count": 12,
   "metadata": {},
   "outputs": [],
   "source": [
    "import psycopg2\n",
    "from dfply import *\n",
    "import pandas as pd\n",
    "import logging\n",
    "import sys\n",
    "import os\n",
    "from pathlib import Path\n",
    "from sshtunnel import SSHTunnelForwarder\n",
    "\n",
    "# 현재 노트북 파일의 상위 디렉토리에 있는 src 디렉토리의 경로를 sys.path에 추가\n",
    "module_path = Path('../src').resolve()\n",
    "if module_path not in sys.path:\n",
    "    sys.path.append(str(module_path))\n",
    "\n",
    "# Logging config\n",
    "logging.basicConfig(level=logging.INFO, format='%(asctime)s - %(levelname)s - %(message)s')\n",
    "\n",
    "# 소스코드(src)\n",
    "import src.data_extraction.access_database as db\n",
    "import src.data_extraction.filter_adult_patients as fap\n",
    "import src.data_extraction.filter_ventilation_events as fve\n",
    "from src.utils import utils\n"
   ]
  },
  {
   "cell_type": "code",
   "execution_count": 20,
   "metadata": {},
   "outputs": [
    {
     "name": "stdout",
     "output_type": "stream",
     "text": [
      "(8265, 6)\n",
      "(22682, 7)\n"
     ]
    },
    {
     "data": {
      "text/plain": [
       "(None, None)"
      ]
     },
     "execution_count": 20,
     "metadata": {},
     "output_type": "execute_result"
    }
   ],
   "source": [
    "# 데이터 불러오기\n",
    "adults_icu = pd.read_csv('../outputs/adults_icu.csv')   # 성인 환자 정보\n",
    "intubation_extubation_orgn = pd.read_csv('../outputs/intubation_extubation_raw20240127.csv', \\\n",
    "                                    parse_dates=['intubationtime', 'extubationtime', \\\n",
    "                                                 'admittime', 'dischtime', 'deathtime'])   # 삽관 발관 정보\n",
    "\n",
    "\n",
    "intubation_all = pd.read_csv('../outputs/intubation_data.csv', index_col=0, parse_dates=['intubationtime'])\n",
    "extubation_all = pd.read_csv('../outputs/extubation_data.csv', index_col=0, parse_dates=['extubationtime'])\n",
    "\n",
    "print(intubation_all.shape), print(extubation_all.shape)"
   ]
  },
  {
   "cell_type": "code",
   "execution_count": 14,
   "metadata": {},
   "outputs": [
    {
     "name": "stdout",
     "output_type": "stream",
     "text": [
      "<class 'pandas.core.frame.DataFrame'>\n",
      "Index: 8265 entries, 0 to 8443\n",
      "Data columns (total 6 columns):\n",
      " #   Column          Non-Null Count  Dtype         \n",
      "---  ------          --------------  -----         \n",
      " 0   subject_id      8265 non-null   int64         \n",
      " 1   hadm_id         8265 non-null   int64         \n",
      " 2   stay_id         8265 non-null   int64         \n",
      " 3   intubationtime  8265 non-null   datetime64[ns]\n",
      " 4   itemid          8265 non-null   int64         \n",
      " 5   patientweight   8265 non-null   float64       \n",
      "dtypes: datetime64[ns](1), float64(1), int64(4)\n",
      "memory usage: 452.0 KB\n"
     ]
    }
   ],
   "source": [
    "intubation_all.info()"
   ]
  },
  {
   "cell_type": "code",
   "execution_count": 15,
   "metadata": {},
   "outputs": [
    {
     "name": "stdout",
     "output_type": "stream",
     "text": [
      "<class 'pandas.core.frame.DataFrame'>\n",
      "Index: 22682 entries, 0 to 23054\n",
      "Data columns (total 7 columns):\n",
      " #   Column           Non-Null Count  Dtype         \n",
      "---  ------           --------------  -----         \n",
      " 0   subject_id       22682 non-null  int64         \n",
      " 1   hadm_id          22682 non-null  int64         \n",
      " 2   stay_id          22682 non-null  int64         \n",
      " 3   extubationtime   22682 non-null  datetime64[ns]\n",
      " 4   itemid           22682 non-null  int64         \n",
      " 5   patientweight    22682 non-null  float64       \n",
      " 6   extubationcause  22682 non-null  object        \n",
      "dtypes: datetime64[ns](1), float64(1), int64(4), object(1)\n",
      "memory usage: 1.4+ MB\n"
     ]
    }
   ],
   "source": [
    "extubation_all.info()"
   ]
  },
  {
   "cell_type": "code",
   "execution_count": 36,
   "metadata": {},
   "outputs": [
    {
     "data": {
      "text/plain": [
       "extubationcause\n",
       "Planned Extubation                              21918\n",
       "Unplanned Extubation (patient-initiated)          709\n",
       "Unplanned Extubation (non-patient initiated)       55\n",
       "Name: count, dtype: int64"
      ]
     },
     "execution_count": 36,
     "metadata": {},
     "output_type": "execute_result"
    }
   ],
   "source": [
    "extubation_all.extubationcause.value_counts()"
   ]
  },
  {
   "cell_type": "code",
   "execution_count": 33,
   "metadata": {},
   "outputs": [
    {
     "data": {
      "text/plain": [
       "(6709, 19267)"
      ]
     },
     "execution_count": 33,
     "metadata": {},
     "output_type": "execute_result"
    }
   ],
   "source": [
    "intubation_all.subject_id.nunique(), extubation_all.subject_id.nunique()"
   ]
  },
  {
   "cell_type": "code",
   "execution_count": 34,
   "metadata": {},
   "outputs": [
    {
     "data": {
      "text/plain": [
       "6709"
      ]
     },
     "execution_count": 34,
     "metadata": {},
     "output_type": "execute_result"
    }
   ],
   "source": [
    "intubation_extubation_orgn.subject_id.nunique()"
   ]
  },
  {
   "cell_type": "code",
   "execution_count": 18,
   "metadata": {},
   "outputs": [
    {
     "name": "stdout",
     "output_type": "stream",
     "text": [
      "<class 'pandas.core.frame.DataFrame'>\n",
      "RangeIndex: 10992 entries, 0 to 10991\n",
      "Data columns (total 11 columns):\n",
      " #   Column           Non-Null Count  Dtype         \n",
      "---  ------           --------------  -----         \n",
      " 0   subject_id       10992 non-null  int64         \n",
      " 1   hadm_id          10992 non-null  int64         \n",
      " 2   int_stayid       10992 non-null  int64         \n",
      " 3   intubationtime   10992 non-null  datetime64[ns]\n",
      " 4   int_itemid       10992 non-null  int64         \n",
      " 5   int_weight       10992 non-null  float64       \n",
      " 6   ext_stayid       9446 non-null   float64       \n",
      " 7   extubationtime   9446 non-null   datetime64[ns]\n",
      " 8   ext_itemid       9446 non-null   float64       \n",
      " 9   ext_weight       9446 non-null   float64       \n",
      " 10  extubationcause  9446 non-null   object        \n",
      "dtypes: datetime64[ns](2), float64(4), int64(4), object(1)\n",
      "memory usage: 944.8+ KB\n"
     ]
    }
   ],
   "source": [
    "## 데이터 처리: 삽관/발관 데이터 (filter_ventilation_events)\n",
    "\n",
    "# 삽관 발관 테이블 결합\n",
    "intubation_extubation = fve.join_ventilation_and_rename(intubation_all, extubation_all)\n",
    "intubation_extubation.info()"
   ]
  },
  {
   "cell_type": "code",
   "execution_count": null,
   "metadata": {},
   "outputs": [],
   "source": []
  },
  {
   "cell_type": "code",
   "execution_count": 22,
   "metadata": {},
   "outputs": [
    {
     "name": "stdout",
     "output_type": "stream",
     "text": [
      "<class 'pandas.core.frame.DataFrame'>\n",
      "RangeIndex: 10992 entries, 0 to 10991\n",
      "Data columns (total 14 columns):\n",
      " #   Column           Non-Null Count  Dtype         \n",
      "---  ------           --------------  -----         \n",
      " 0   subject_id       10992 non-null  int64         \n",
      " 1   hadm_id          10992 non-null  int64         \n",
      " 2   int_stayid       10992 non-null  int64         \n",
      " 3   admittime        10992 non-null  datetime64[ns]\n",
      " 4   intubationtime   10992 non-null  datetime64[ns]\n",
      " 5   int_itemid       10992 non-null  int64         \n",
      " 6   int_weight       10992 non-null  float64       \n",
      " 7   ext_stayid       9446 non-null   float64       \n",
      " 8   extubationtime   9446 non-null   datetime64[ns]\n",
      " 9   ext_itemid       9446 non-null   float64       \n",
      " 10  ext_weight       9446 non-null   float64       \n",
      " 11  extubationcause  9446 non-null   object        \n",
      " 12  dischtime        10992 non-null  datetime64[ns]\n",
      " 13  deathtime        2968 non-null   datetime64[ns]\n",
      "dtypes: datetime64[ns](5), float64(4), int64(4), object(1)\n",
      "memory usage: 1.2+ MB\n"
     ]
    }
   ],
   "source": [
    "intubation_extubation_orgn.info()"
   ]
  },
  {
   "cell_type": "code",
   "execution_count": 26,
   "metadata": {},
   "outputs": [
    {
     "data": {
      "text/plain": [
       "extubationcause\n",
       "Planned Extubation                              8788\n",
       "Unplanned Extubation (patient-initiated)         591\n",
       "Unplanned Extubation (non-patient initiated)      67\n",
       "Name: count, dtype: int64"
      ]
     },
     "execution_count": 26,
     "metadata": {},
     "output_type": "execute_result"
    }
   ],
   "source": [
    "intubation_extubation_orgn.extubationcause.value_counts()"
   ]
  },
  {
   "cell_type": "code",
   "execution_count": 35,
   "metadata": {},
   "outputs": [
    {
     "data": {
      "text/html": [
       "<div>\n",
       "<style scoped>\n",
       "    .dataframe tbody tr th:only-of-type {\n",
       "        vertical-align: middle;\n",
       "    }\n",
       "\n",
       "    .dataframe tbody tr th {\n",
       "        vertical-align: top;\n",
       "    }\n",
       "\n",
       "    .dataframe thead th {\n",
       "        text-align: right;\n",
       "    }\n",
       "</style>\n",
       "<table border=\"1\" class=\"dataframe\">\n",
       "  <thead>\n",
       "    <tr style=\"text-align: right;\">\n",
       "      <th></th>\n",
       "      <th>subject_id</th>\n",
       "      <th>hadm_id</th>\n",
       "      <th>int_stayid</th>\n",
       "      <th>admittime</th>\n",
       "      <th>intubationtime</th>\n",
       "      <th>int_itemid</th>\n",
       "      <th>int_weight</th>\n",
       "      <th>ext_stayid</th>\n",
       "      <th>extubationtime</th>\n",
       "      <th>ext_itemid</th>\n",
       "      <th>ext_weight</th>\n",
       "      <th>extubationcause</th>\n",
       "      <th>dischtime</th>\n",
       "      <th>deathtime</th>\n",
       "    </tr>\n",
       "  </thead>\n",
       "  <tbody>\n",
       "    <tr>\n",
       "      <th>0</th>\n",
       "      <td>10001884</td>\n",
       "      <td>26184834</td>\n",
       "      <td>37510196</td>\n",
       "      <td>2131-01-07 20:39:00</td>\n",
       "      <td>2131-01-11 04:30:00</td>\n",
       "      <td>224385</td>\n",
       "      <td>65.0</td>\n",
       "      <td>37510196.0</td>\n",
       "      <td>2131-01-12 17:40:00</td>\n",
       "      <td>227194.0</td>\n",
       "      <td>65.0</td>\n",
       "      <td>Planned Extubation</td>\n",
       "      <td>2131-01-20 05:15:00</td>\n",
       "      <td>2131-01-20 05:15:00</td>\n",
       "    </tr>\n",
       "    <tr>\n",
       "      <th>1</th>\n",
       "      <td>10003400</td>\n",
       "      <td>23559586</td>\n",
       "      <td>38383343</td>\n",
       "      <td>2137-08-04 00:07:00</td>\n",
       "      <td>2137-08-17 21:21:00</td>\n",
       "      <td>224385</td>\n",
       "      <td>90.5</td>\n",
       "      <td>38383343.0</td>\n",
       "      <td>2137-08-21 15:40:00</td>\n",
       "      <td>227194.0</td>\n",
       "      <td>99.6</td>\n",
       "      <td>Planned Extubation</td>\n",
       "      <td>2137-09-02 17:05:00</td>\n",
       "      <td>2137-09-02 17:05:00</td>\n",
       "    </tr>\n",
       "    <tr>\n",
       "      <th>2</th>\n",
       "      <td>10004401</td>\n",
       "      <td>27939719</td>\n",
       "      <td>31202136</td>\n",
       "      <td>2144-04-11 03:31:00</td>\n",
       "      <td>2144-04-11 05:03:00</td>\n",
       "      <td>224385</td>\n",
       "      <td>120.0</td>\n",
       "      <td>NaN</td>\n",
       "      <td>NaT</td>\n",
       "      <td>NaN</td>\n",
       "      <td>NaN</td>\n",
       "      <td>NaN</td>\n",
       "      <td>2144-04-13 17:31:00</td>\n",
       "      <td>NaT</td>\n",
       "    </tr>\n",
       "    <tr>\n",
       "      <th>3</th>\n",
       "      <td>10004401</td>\n",
       "      <td>29988601</td>\n",
       "      <td>32773003</td>\n",
       "      <td>2144-01-23 07:58:00</td>\n",
       "      <td>2144-01-27 19:00:00</td>\n",
       "      <td>224385</td>\n",
       "      <td>76.0</td>\n",
       "      <td>32773003.0</td>\n",
       "      <td>2144-01-30 12:30:00</td>\n",
       "      <td>227194.0</td>\n",
       "      <td>76.0</td>\n",
       "      <td>Planned Extubation</td>\n",
       "      <td>2144-02-06 11:45:00</td>\n",
       "      <td>NaT</td>\n",
       "    </tr>\n",
       "    <tr>\n",
       "      <th>4</th>\n",
       "      <td>10004401</td>\n",
       "      <td>29988601</td>\n",
       "      <td>32773003</td>\n",
       "      <td>2144-01-23 07:58:00</td>\n",
       "      <td>2144-01-30 13:00:00</td>\n",
       "      <td>224385</td>\n",
       "      <td>76.0</td>\n",
       "      <td>32773003.0</td>\n",
       "      <td>2144-01-30 12:30:00</td>\n",
       "      <td>227194.0</td>\n",
       "      <td>76.0</td>\n",
       "      <td>Planned Extubation</td>\n",
       "      <td>2144-02-06 11:45:00</td>\n",
       "      <td>NaT</td>\n",
       "    </tr>\n",
       "    <tr>\n",
       "      <th>...</th>\n",
       "      <td>...</td>\n",
       "      <td>...</td>\n",
       "      <td>...</td>\n",
       "      <td>...</td>\n",
       "      <td>...</td>\n",
       "      <td>...</td>\n",
       "      <td>...</td>\n",
       "      <td>...</td>\n",
       "      <td>...</td>\n",
       "      <td>...</td>\n",
       "      <td>...</td>\n",
       "      <td>...</td>\n",
       "      <td>...</td>\n",
       "      <td>...</td>\n",
       "    </tr>\n",
       "    <tr>\n",
       "      <th>10987</th>\n",
       "      <td>19997367</td>\n",
       "      <td>20617667</td>\n",
       "      <td>35616526</td>\n",
       "      <td>2126-04-20 07:15:00</td>\n",
       "      <td>2126-05-05 18:20:00</td>\n",
       "      <td>224385</td>\n",
       "      <td>59.0</td>\n",
       "      <td>35616526.0</td>\n",
       "      <td>2126-05-02 16:30:00</td>\n",
       "      <td>227194.0</td>\n",
       "      <td>59.0</td>\n",
       "      <td>Planned Extubation</td>\n",
       "      <td>2126-05-19 14:15:00</td>\n",
       "      <td>NaT</td>\n",
       "    </tr>\n",
       "    <tr>\n",
       "      <th>10988</th>\n",
       "      <td>19997367</td>\n",
       "      <td>20617667</td>\n",
       "      <td>35616526</td>\n",
       "      <td>2126-04-20 07:15:00</td>\n",
       "      <td>2126-05-05 18:20:00</td>\n",
       "      <td>224385</td>\n",
       "      <td>59.0</td>\n",
       "      <td>35616526.0</td>\n",
       "      <td>2126-05-08 17:29:00</td>\n",
       "      <td>227194.0</td>\n",
       "      <td>59.0</td>\n",
       "      <td>Planned Extubation</td>\n",
       "      <td>2126-05-19 14:15:00</td>\n",
       "      <td>NaT</td>\n",
       "    </tr>\n",
       "    <tr>\n",
       "      <th>10989</th>\n",
       "      <td>19999068</td>\n",
       "      <td>21606769</td>\n",
       "      <td>30143796</td>\n",
       "      <td>2161-08-24 04:10:00</td>\n",
       "      <td>2161-08-25 15:34:00</td>\n",
       "      <td>224385</td>\n",
       "      <td>55.8</td>\n",
       "      <td>30143796.0</td>\n",
       "      <td>2161-08-28 13:35:00</td>\n",
       "      <td>227194.0</td>\n",
       "      <td>55.8</td>\n",
       "      <td>Planned Extubation</td>\n",
       "      <td>2161-09-02 19:00:00</td>\n",
       "      <td>NaT</td>\n",
       "    </tr>\n",
       "    <tr>\n",
       "      <th>10990</th>\n",
       "      <td>19999442</td>\n",
       "      <td>26785317</td>\n",
       "      <td>32336619</td>\n",
       "      <td>2148-11-19 10:00:00</td>\n",
       "      <td>2148-11-19 19:00:00</td>\n",
       "      <td>224385</td>\n",
       "      <td>107.5</td>\n",
       "      <td>32336619.0</td>\n",
       "      <td>2148-11-20 14:15:00</td>\n",
       "      <td>227194.0</td>\n",
       "      <td>107.5</td>\n",
       "      <td>Planned Extubation</td>\n",
       "      <td>2148-12-04 16:25:00</td>\n",
       "      <td>NaT</td>\n",
       "    </tr>\n",
       "    <tr>\n",
       "      <th>10991</th>\n",
       "      <td>19999840</td>\n",
       "      <td>21033226</td>\n",
       "      <td>38978960</td>\n",
       "      <td>2164-09-10 13:47:00</td>\n",
       "      <td>2164-09-12 09:40:00</td>\n",
       "      <td>224385</td>\n",
       "      <td>77.5</td>\n",
       "      <td>NaN</td>\n",
       "      <td>NaT</td>\n",
       "      <td>NaN</td>\n",
       "      <td>NaN</td>\n",
       "      <td>NaN</td>\n",
       "      <td>2164-09-17 13:42:00</td>\n",
       "      <td>2164-09-17 13:42:00</td>\n",
       "    </tr>\n",
       "  </tbody>\n",
       "</table>\n",
       "<p>10992 rows × 14 columns</p>\n",
       "</div>"
      ],
      "text/plain": [
       "       subject_id   hadm_id  int_stayid           admittime  \\\n",
       "0        10001884  26184834    37510196 2131-01-07 20:39:00   \n",
       "1        10003400  23559586    38383343 2137-08-04 00:07:00   \n",
       "2        10004401  27939719    31202136 2144-04-11 03:31:00   \n",
       "3        10004401  29988601    32773003 2144-01-23 07:58:00   \n",
       "4        10004401  29988601    32773003 2144-01-23 07:58:00   \n",
       "...           ...       ...         ...                 ...   \n",
       "10987    19997367  20617667    35616526 2126-04-20 07:15:00   \n",
       "10988    19997367  20617667    35616526 2126-04-20 07:15:00   \n",
       "10989    19999068  21606769    30143796 2161-08-24 04:10:00   \n",
       "10990    19999442  26785317    32336619 2148-11-19 10:00:00   \n",
       "10991    19999840  21033226    38978960 2164-09-10 13:47:00   \n",
       "\n",
       "           intubationtime  int_itemid  int_weight  ext_stayid  \\\n",
       "0     2131-01-11 04:30:00      224385        65.0  37510196.0   \n",
       "1     2137-08-17 21:21:00      224385        90.5  38383343.0   \n",
       "2     2144-04-11 05:03:00      224385       120.0         NaN   \n",
       "3     2144-01-27 19:00:00      224385        76.0  32773003.0   \n",
       "4     2144-01-30 13:00:00      224385        76.0  32773003.0   \n",
       "...                   ...         ...         ...         ...   \n",
       "10987 2126-05-05 18:20:00      224385        59.0  35616526.0   \n",
       "10988 2126-05-05 18:20:00      224385        59.0  35616526.0   \n",
       "10989 2161-08-25 15:34:00      224385        55.8  30143796.0   \n",
       "10990 2148-11-19 19:00:00      224385       107.5  32336619.0   \n",
       "10991 2164-09-12 09:40:00      224385        77.5         NaN   \n",
       "\n",
       "           extubationtime  ext_itemid  ext_weight     extubationcause  \\\n",
       "0     2131-01-12 17:40:00    227194.0        65.0  Planned Extubation   \n",
       "1     2137-08-21 15:40:00    227194.0        99.6  Planned Extubation   \n",
       "2                     NaT         NaN         NaN                 NaN   \n",
       "3     2144-01-30 12:30:00    227194.0        76.0  Planned Extubation   \n",
       "4     2144-01-30 12:30:00    227194.0        76.0  Planned Extubation   \n",
       "...                   ...         ...         ...                 ...   \n",
       "10987 2126-05-02 16:30:00    227194.0        59.0  Planned Extubation   \n",
       "10988 2126-05-08 17:29:00    227194.0        59.0  Planned Extubation   \n",
       "10989 2161-08-28 13:35:00    227194.0        55.8  Planned Extubation   \n",
       "10990 2148-11-20 14:15:00    227194.0       107.5  Planned Extubation   \n",
       "10991                 NaT         NaN         NaN                 NaN   \n",
       "\n",
       "                dischtime           deathtime  \n",
       "0     2131-01-20 05:15:00 2131-01-20 05:15:00  \n",
       "1     2137-09-02 17:05:00 2137-09-02 17:05:00  \n",
       "2     2144-04-13 17:31:00                 NaT  \n",
       "3     2144-02-06 11:45:00                 NaT  \n",
       "4     2144-02-06 11:45:00                 NaT  \n",
       "...                   ...                 ...  \n",
       "10987 2126-05-19 14:15:00                 NaT  \n",
       "10988 2126-05-19 14:15:00                 NaT  \n",
       "10989 2161-09-02 19:00:00                 NaT  \n",
       "10990 2148-12-04 16:25:00                 NaT  \n",
       "10991 2164-09-17 13:42:00 2164-09-17 13:42:00  \n",
       "\n",
       "[10992 rows x 14 columns]"
      ]
     },
     "execution_count": 35,
     "metadata": {},
     "output_type": "execute_result"
    }
   ],
   "source": [
    "intubation_extubation_orgn"
   ]
  },
  {
   "cell_type": "code",
   "execution_count": 28,
   "metadata": {},
   "outputs": [
    {
     "data": {
      "text/plain": [
       "1546"
      ]
     },
     "execution_count": 28,
     "metadata": {},
     "output_type": "execute_result"
    }
   ],
   "source": [
    "((intubation_extubation_orgn.intubationtime.notna()) & (intubation_extubation_orgn.extubationtime.isna())).sum()"
   ]
  },
  {
   "cell_type": "code",
   "execution_count": 31,
   "metadata": {},
   "outputs": [
    {
     "data": {
      "text/plain": [
       "1467"
      ]
     },
     "execution_count": 31,
     "metadata": {},
     "output_type": "execute_result"
    }
   ],
   "source": [
    "# extubation null: potential causes?\n",
    "\n",
    "intubation_extubation_orgn[intubation_extubation_orgn.extubationtime.isna()].subject_id.nunique()"
   ]
  },
  {
   "cell_type": "code",
   "execution_count": null,
   "metadata": {},
   "outputs": [],
   "source": [
    "\n",
    "# 입원 데이터 결합\n",
    "intubation_extubation = fve.join_admissions(intubation_extubation, admissions)\n",
    "\n",
    "print(f'Processed intubation_extubation: {intubation_extubation.shape}')   # (10992, 14)\n",
    "print(intubation_extubation.columns)\n",
    "\n",
    "# 중복치/근접치 제거 리포트 출력\n",
    "fve.report_filtering_stats('intubation', intubation_all, intubation_data, time_diff)\n",
    "fve.report_filtering_stats('extubation', extubation_all, extubation_data, time_diff)\n",
    "\n",
    "print(f'intubation_data: {intubation_data.shape}')\n",
    "print(f'extubation_data: {extubation_data.shape}')\n",
    "print(f'merged ventilation data: {intubation_extubation.shape}')"
   ]
  },
  {
   "cell_type": "code",
   "execution_count": null,
   "metadata": {},
   "outputs": [],
   "source": []
  },
  {
   "cell_type": "code",
   "execution_count": null,
   "metadata": {},
   "outputs": [],
   "source": [
    "\n",
    "intubation_extubation = util.create_stay_id(intubation_extubation)   # stay id 만들어 넣기\n",
    "\n",
    "ventilation = pd.read_csv('./data/ventilation.csv', parse_dates=['starttime', 'endtime'])   # 결측치 처리 위한 vent 테이블\n",
    "ventilation_df = ventilation[ventilation.ventilation_status == 'InvasiveVent']   # Invasive 만 사용\n",
    "\n",
    "print(f'adults_icu: {adults_icu.shape}')   # (73181, 13)\n",
    "print(f'intubation_extubation: {intubation_extubation.shape}')   # (10992, 14)\n",
    "print(f'ventilation_df: {ventilation_df.shape}')   # (34800, 5)"
   ]
  }
 ],
 "metadata": {
  "kernelspec": {
   "display_name": "Python 3",
   "language": "python",
   "name": "python3"
  },
  "language_info": {
   "codemirror_mode": {
    "name": "ipython",
    "version": 3
   },
   "file_extension": ".py",
   "mimetype": "text/x-python",
   "name": "python",
   "nbconvert_exporter": "python",
   "pygments_lexer": "ipython3",
   "version": "3.10.13"
  }
 },
 "nbformat": 4,
 "nbformat_minor": 2
}
