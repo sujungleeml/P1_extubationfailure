{
 "cells": [
  {
   "cell_type": "code",
   "execution_count": 1,
   "metadata": {},
   "outputs": [],
   "source": [
    "import pandas as pd\n",
    "from dfply import *\n",
    "import matplotlib.pyplot as plt\n",
    "import missingno as msno\n",
    "from datetime import timedelta\n",
    "import sys\n",
    "sys.path.append('/Users/sdc/Documents/bida_lab/db/P1_extubationfailure/서대철')\n",
    "import src.utils.utils as utils   # 기타 유틸리티 모듈\n",
    "import src.data_extraction.access_database as db   # DB 연결 관련 모듈"
   ]
  },
  {
   "cell_type": "code",
   "execution_count": null,
   "metadata": {},
   "outputs": [],
   "source": []
  }
 ],
 "metadata": {
  "kernelspec": {
   "display_name": "Python 3",
   "language": "python",
   "name": "python3"
  },
  "language_info": {
   "codemirror_mode": {
    "name": "ipython",
    "version": 3
   },
   "file_extension": ".py",
   "mimetype": "text/x-python",
   "name": "python",
   "nbconvert_exporter": "python",
   "pygments_lexer": "ipython3",
   "version": "3.10.13"
  }
 },
 "nbformat": 4,
 "nbformat_minor": 2
}
