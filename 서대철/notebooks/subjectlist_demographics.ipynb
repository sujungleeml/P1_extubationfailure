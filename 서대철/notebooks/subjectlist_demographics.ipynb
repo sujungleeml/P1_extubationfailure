{
 "cells": [
  {
   "cell_type": "markdown",
   "metadata": {},
   "source": [
    "### FEATURES 01: Demographics (Age, Gender, Height)"
   ]
  },
  {
   "cell_type": "code",
   "execution_count": 62,
   "metadata": {},
   "outputs": [],
   "source": [
    "import pandas as pd\n",
    "from dfply import *\n",
    "import matplotlib.pyplot as plt\n",
    "import missingno as msno\n",
    "from datetime import timedelta\n",
    "import sys\n",
    "sys.path.append('/Users/sdc/Documents/bida_lab/db/P1_extubationfailure/서대철')\n",
    "import src.utils.utils as utils   # 기타 유틸리티 모듈\n",
    "import src.data_extraction.access_database as db   # DB 연결 관련 모듈"
   ]
  },
  {
   "cell_type": "code",
   "execution_count": 44,
   "metadata": {},
   "outputs": [
    {
     "name": "stdout",
     "output_type": "stream",
     "text": [
      "Converted admittime to datetime.\n",
      "Converted intubationtime to datetime.\n",
      "Converted extubationtime to datetime.\n",
      "Converted dischtime to datetime.\n",
      "Converted deathtime to datetime.\n",
      "Converted reintubation_eventtime to datetime.\n",
      "(9003, 27)\n"
     ]
    },
    {
     "data": {
      "text/html": [
       "<div>\n",
       "<style scoped>\n",
       "    .dataframe tbody tr th:only-of-type {\n",
       "        vertical-align: middle;\n",
       "    }\n",
       "\n",
       "    .dataframe tbody tr th {\n",
       "        vertical-align: top;\n",
       "    }\n",
       "\n",
       "    .dataframe thead th {\n",
       "        text-align: right;\n",
       "    }\n",
       "</style>\n",
       "<table border=\"1\" class=\"dataframe\">\n",
       "  <thead>\n",
       "    <tr style=\"text-align: right;\">\n",
       "      <th></th>\n",
       "      <th>subject_id</th>\n",
       "      <th>hadm_id</th>\n",
       "      <th>int_stayid</th>\n",
       "      <th>admittime</th>\n",
       "      <th>intubationtime</th>\n",
       "      <th>int_itemid</th>\n",
       "      <th>int_weight</th>\n",
       "      <th>ext_stayid</th>\n",
       "      <th>extubationtime</th>\n",
       "      <th>ext_itemid</th>\n",
       "      <th>...</th>\n",
       "      <th>reintubation_eventtime</th>\n",
       "      <th>reintubationtime</th>\n",
       "      <th>seq_num</th>\n",
       "      <th>mvtime</th>\n",
       "      <th>final_event</th>\n",
       "      <th>ext_to_death</th>\n",
       "      <th>ext_to_disch</th>\n",
       "      <th>disch_to_death</th>\n",
       "      <th>class_code</th>\n",
       "      <th>class</th>\n",
       "    </tr>\n",
       "  </thead>\n",
       "  <tbody>\n",
       "    <tr>\n",
       "      <th>0</th>\n",
       "      <td>10001884</td>\n",
       "      <td>26184834</td>\n",
       "      <td>37510196.0</td>\n",
       "      <td>2131-01-07 20:39:00</td>\n",
       "      <td>2131-01-11 04:30:00</td>\n",
       "      <td>224385.0</td>\n",
       "      <td>65.0</td>\n",
       "      <td>37510196.0</td>\n",
       "      <td>2131-01-12 17:40:00</td>\n",
       "      <td>227194.0</td>\n",
       "      <td>...</td>\n",
       "      <td>NaT</td>\n",
       "      <td>NaN</td>\n",
       "      <td>1</td>\n",
       "      <td>False</td>\n",
       "      <td>True</td>\n",
       "      <td>10775.0</td>\n",
       "      <td>10775.0</td>\n",
       "      <td>0.0</td>\n",
       "      <td>11</td>\n",
       "      <td>nonfailure</td>\n",
       "    </tr>\n",
       "    <tr>\n",
       "      <th>1</th>\n",
       "      <td>10003400</td>\n",
       "      <td>23559586</td>\n",
       "      <td>38383343.0</td>\n",
       "      <td>2137-08-04 00:07:00</td>\n",
       "      <td>2137-08-17 21:21:00</td>\n",
       "      <td>224385.0</td>\n",
       "      <td>90.5</td>\n",
       "      <td>38383343.0</td>\n",
       "      <td>2137-08-21 15:40:00</td>\n",
       "      <td>227194.0</td>\n",
       "      <td>...</td>\n",
       "      <td>NaT</td>\n",
       "      <td>NaN</td>\n",
       "      <td>1</td>\n",
       "      <td>False</td>\n",
       "      <td>True</td>\n",
       "      <td>17365.0</td>\n",
       "      <td>17365.0</td>\n",
       "      <td>0.0</td>\n",
       "      <td>11</td>\n",
       "      <td>nonfailure</td>\n",
       "    </tr>\n",
       "    <tr>\n",
       "      <th>2</th>\n",
       "      <td>10004401</td>\n",
       "      <td>27939719</td>\n",
       "      <td>31202136.0</td>\n",
       "      <td>2144-04-11 03:31:00</td>\n",
       "      <td>2144-04-11 05:03:00</td>\n",
       "      <td>224385.0</td>\n",
       "      <td>120.0</td>\n",
       "      <td>NaN</td>\n",
       "      <td>2144-04-13 17:31:00</td>\n",
       "      <td>NaN</td>\n",
       "      <td>...</td>\n",
       "      <td>NaT</td>\n",
       "      <td>NaN</td>\n",
       "      <td>1</td>\n",
       "      <td>False</td>\n",
       "      <td>True</td>\n",
       "      <td>NaN</td>\n",
       "      <td>0.0</td>\n",
       "      <td>NaN</td>\n",
       "      <td>121</td>\n",
       "      <td>nonfailure</td>\n",
       "    </tr>\n",
       "    <tr>\n",
       "      <th>3</th>\n",
       "      <td>10004401</td>\n",
       "      <td>29988601</td>\n",
       "      <td>32773003.0</td>\n",
       "      <td>2144-01-23 07:58:00</td>\n",
       "      <td>2144-01-27 19:00:00</td>\n",
       "      <td>224385.0</td>\n",
       "      <td>76.0</td>\n",
       "      <td>32773003.0</td>\n",
       "      <td>2144-01-30 12:30:00</td>\n",
       "      <td>227194.0</td>\n",
       "      <td>...</td>\n",
       "      <td>2144-01-30 13:00:00</td>\n",
       "      <td>30.0</td>\n",
       "      <td>1</td>\n",
       "      <td>False</td>\n",
       "      <td>False</td>\n",
       "      <td>NaN</td>\n",
       "      <td>10035.0</td>\n",
       "      <td>NaN</td>\n",
       "      <td>211</td>\n",
       "      <td>failure</td>\n",
       "    </tr>\n",
       "    <tr>\n",
       "      <th>4</th>\n",
       "      <td>10004401</td>\n",
       "      <td>29988601</td>\n",
       "      <td>32773003.0</td>\n",
       "      <td>2144-01-23 07:58:00</td>\n",
       "      <td>2144-01-30 13:00:00</td>\n",
       "      <td>224385.0</td>\n",
       "      <td>76.0</td>\n",
       "      <td>NaN</td>\n",
       "      <td>2144-02-06 11:45:00</td>\n",
       "      <td>NaN</td>\n",
       "      <td>...</td>\n",
       "      <td>NaT</td>\n",
       "      <td>NaN</td>\n",
       "      <td>2</td>\n",
       "      <td>False</td>\n",
       "      <td>True</td>\n",
       "      <td>NaN</td>\n",
       "      <td>0.0</td>\n",
       "      <td>NaN</td>\n",
       "      <td>2221</td>\n",
       "      <td>nonfailure</td>\n",
       "    </tr>\n",
       "  </tbody>\n",
       "</table>\n",
       "<p>5 rows × 27 columns</p>\n",
       "</div>"
      ],
      "text/plain": [
       "   subject_id   hadm_id  int_stayid           admittime      intubationtime  \\\n",
       "0    10001884  26184834  37510196.0 2131-01-07 20:39:00 2131-01-11 04:30:00   \n",
       "1    10003400  23559586  38383343.0 2137-08-04 00:07:00 2137-08-17 21:21:00   \n",
       "2    10004401  27939719  31202136.0 2144-04-11 03:31:00 2144-04-11 05:03:00   \n",
       "3    10004401  29988601  32773003.0 2144-01-23 07:58:00 2144-01-27 19:00:00   \n",
       "4    10004401  29988601  32773003.0 2144-01-23 07:58:00 2144-01-30 13:00:00   \n",
       "\n",
       "   int_itemid  int_weight  ext_stayid      extubationtime  ext_itemid  ...  \\\n",
       "0    224385.0        65.0  37510196.0 2131-01-12 17:40:00    227194.0  ...   \n",
       "1    224385.0        90.5  38383343.0 2137-08-21 15:40:00    227194.0  ...   \n",
       "2    224385.0       120.0         NaN 2144-04-13 17:31:00         NaN  ...   \n",
       "3    224385.0        76.0  32773003.0 2144-01-30 12:30:00    227194.0  ...   \n",
       "4    224385.0        76.0         NaN 2144-02-06 11:45:00         NaN  ...   \n",
       "\n",
       "   reintubation_eventtime reintubationtime seq_num mvtime final_event  \\\n",
       "0                     NaT              NaN       1  False        True   \n",
       "1                     NaT              NaN       1  False        True   \n",
       "2                     NaT              NaN       1  False        True   \n",
       "3     2144-01-30 13:00:00             30.0       1  False       False   \n",
       "4                     NaT              NaN       2  False        True   \n",
       "\n",
       "   ext_to_death  ext_to_disch disch_to_death  class_code       class  \n",
       "0       10775.0       10775.0            0.0          11  nonfailure  \n",
       "1       17365.0       17365.0            0.0          11  nonfailure  \n",
       "2           NaN           0.0            NaN         121  nonfailure  \n",
       "3           NaN       10035.0            NaN         211     failure  \n",
       "4           NaN           0.0            NaN        2221  nonfailure  \n",
       "\n",
       "[5 rows x 27 columns]"
      ]
     },
     "execution_count": 44,
     "metadata": {},
     "output_type": "execute_result"
    }
   ],
   "source": [
    "# 변수를 붙일 subjectlist 데이터 가져오기\n",
    "\n",
    "data_dir = '../outputs/subjectlist1.csv'\n",
    "subjectlist = pd.read_csv(data_dir, index_col=0)\n",
    "\n",
    "# datetime 변환\n",
    "time_cols = ['admittime', 'intubationtime', 'extubationtime', 'dischtime', 'deathtime', 'reintubation_eventtime']\n",
    "subjectlist = utils.to_datetime(subjectlist, time_cols)\n",
    "print(subjectlist.shape)\n",
    "subjectlist.head()"
   ]
  },
  {
   "cell_type": "code",
   "execution_count": 41,
   "metadata": {},
   "outputs": [
    {
     "name": "stderr",
     "output_type": "stream",
     "text": [
      "INFO:root:CONNECTING TO DATABASE...\n",
      "INFO:root:Retrieved pg_tables: (160, 8)\n"
     ]
    },
    {
     "name": "stdout",
     "output_type": "stream",
     "text": [
      "--------- Database Configuration ---------\n",
      "Database Name: mimic4\n",
      "User: postgres\n",
      "Password: ****\n",
      "Host: localhost\n",
      "Port: 5432\n",
      "\n",
      "--------- SQL Queries for Required Tables ---------\n",
      "pg_tables: SELECT * FROM PG_TABLES;\n",
      "patients: SELECT * FROM mimiciv_hosp.patients;\n",
      "d_items: SELECT * FROM mimiciv_icu.d_items;\n",
      "\n"
     ]
    },
    {
     "name": "stderr",
     "output_type": "stream",
     "text": [
      "INFO:root:Retrieved patients: (299712, 6)\n",
      "INFO:root:Retrieved d_items: (4014, 9)\n",
      "INFO:root:DATABASE CONNCETION CLOSED.\n"
     ]
    }
   ],
   "source": [
    "# DB 연결 테이블 후 가져오기\n",
    "\n",
    "database_config = {'database': 'mimic4',\n",
    " 'user': 'postgres',\n",
    " 'password': '1234',\n",
    " 'host': 'localhost',\n",
    " 'port': 5432}\n",
    "\n",
    "tables_query = {'pg_tables': 'SELECT * FROM PG_TABLES;',\n",
    " 'patients': 'SELECT * FROM mimiciv_hosp.patients;',\n",
    " 'd_items': 'SELECT * FROM mimiciv_icu.d_items;'}\n",
    "\n",
    "db.print_config_info(database_config, tables_query)\n",
    "conn = db.connect_to_database(database_config)\n",
    "dataframes = db.retrieve_data(conn, tables_query)\n",
    "db.disconnect_database(conn)\n",
    "\n",
    "pg_tables = dataframes['pg_tables']\n",
    "patients = dataframes['patients']\n",
    "d_items = dataframes['d_items']"
   ]
  },
  {
   "cell_type": "code",
   "execution_count": 78,
   "metadata": {},
   "outputs": [],
   "source": [
    "# subjectlist와 patients demographic (Gender, Anchor_age, Anchor_year) inner join\n",
    "\n",
    "patients_select = patients >> select(X.subject_id, X.gender, X.anchor_age, X.anchor_year)\n",
    "subjectlist_joined = subjectlist >> inner_join(patients_select, by='subject_id')\n"
   ]
  },
  {
   "cell_type": "code",
   "execution_count": 77,
   "metadata": {},
   "outputs": [],
   "source": [
    "# 나이 계산하는 함수\n",
    "def calculate_adjusted_anchor_age(df):\n",
    "    \"\"\"\n",
    "    주어진 데이터프레임에 대해 anchor_age를 입원시점에 맞게 조정한 adj_anchor_age을 계산합니다.\n",
    "    \n",
    "    이 함수는 'anchor_year'와 'admittime' 컬럼을 사용하여 각 환자의 입원 시점에서의 정확한 연령을 계산합니다.\n",
    "    계산된 연령은 'adj_anchor_age' 컬럼에 저장됩니다. ('admittime 칼럼은 timestamp로 변환되어 있어야 합니다.')\n",
    "    \n",
    "    Parameters:\n",
    "    - df: pandas DataFrame, 'anchor_year', 'admittime', 'anchor_age' 컬럼을 포함해야 합니다.\n",
    "    \n",
    "    Returns:\n",
    "    - df: 'adj_anchor_age' 컬럼이 추가된 원본 DataFrame의 복사본입니다. \n",
    "          계산에 사용된 'anchor_date', 'days_diff', 'years_diff'는 제거됩니다.\n",
    "    \"\"\"\n",
    "\n",
    "    # anchor_date 계산 (앵커 연도의 시작: 1월 1일)\n",
    "    df['anchor_date'] = pd.to_datetime(df['anchor_year'], format='%Y')\n",
    "    \n",
    "    # admittime과 anchor_date 사이의 일수 차이 계산\n",
    "    df['days_diff'] = (df['admittime'] - df['anchor_date']).dt.days\n",
    "    \n",
    "    # 일수 차이를 float 연도로 변환 (윤년 고려해 365.25로 나눔. 더 정확한 나이 표시 가능)\n",
    "    df['years_diff'] = df['days_diff'] / 365.25\n",
    "    \n",
    "    # anchor_age에 연도 차이를 더해 조정된 나이 계산\n",
    "    df['adj_anchor_age'] = df['anchor_age'] + df['years_diff']\n",
    "    \n",
    "    # 조정된 나이를 소수점 둘째 자리까지 반올림\n",
    "    df['adj_anchor_age'] = df['adj_anchor_age'].round(2)\n",
    "    \n",
    "    # 불필요한 컬럼 제거\n",
    "    df = df.drop(columns=['anchor_date', 'days_diff', 'years_diff'])\n",
    "    \n",
    "    return df\n"
   ]
  },
  {
   "cell_type": "code",
   "execution_count": 81,
   "metadata": {},
   "outputs": [],
   "source": [
    "subjectlist_joined = calculate_adjusted_anchor_age(subjectlist_joined)"
   ]
  },
  {
   "cell_type": "code",
   "execution_count": 90,
   "metadata": {},
   "outputs": [],
   "source": [
    "def plot_adj_age(df):\n",
    "    \"\"\"\n",
    "    주어진 데이터프레임에서 'adj_anchor_age'의 분포를 히스토그램으로 그립니다.\n",
    "    \n",
    "    Parameters:\n",
    "    - df: pandas DataFrame, 'adj_anchor_age' 컬럼을 포함해야 합니다.\n",
    "    \"\"\"\n",
    "    # 히스토그램 생성\n",
    "    plt.figure(figsize=(10, 6))  # 그래프 크기 설정\n",
    "    plt.hist(df['adj_anchor_age'], bins=30, color='skyblue', edgecolor='black')\n",
    "    plt.title('adjusted anchor age to admittime(adj_anchor_age)')  # 제목 설정\n",
    "    plt.xlabel('adjusted age')  # x축 라벨 설정\n",
    "    plt.ylabel('freq')  # y축 라벨 설정\n",
    "    plt.grid(axis='y', alpha=0.75)  # y축 그리드 추가\n",
    "\n",
    "    plt.show()"
   ]
  },
  {
   "cell_type": "code",
   "execution_count": 91,
   "metadata": {},
   "outputs": [
    {
     "data": {
      "image/png": "[encoded data removed]",
      "text/plain": [
       "<Figure size 1000x600 with 1 Axes>"
      ]
     },
     "metadata": {},
     "output_type": "display_data"
    }
   ],
   "source": [
    "plot_adj_age(subjectlist_joined)"
   ]
  },
  {
   "cell_type": "code",
   "execution_count": null,
   "metadata": {},
   "outputs": [],
   "source": []
  },
  {
   "cell_type": "code",
   "execution_count": null,
   "metadata": {},
   "outputs": [],
   "source": []
  },
  {
   "cell_type": "code",
   "execution_count": 22,
   "metadata": {},
   "outputs": [
    {
     "data": {
      "text/plain": [
       "Index(['schemaname', 'tablename', 'tableowner', 'tablespace', 'hasindexes',\n",
       "       'hasrules', 'hastriggers', 'rowsecurity'],\n",
       "      dtype='object')"
      ]
     },
     "execution_count": 22,
     "metadata": {},
     "output_type": "execute_result"
    }
   ],
   "source": [
    "pg_tables.columns"
   ]
  },
  {
   "cell_type": "code",
   "execution_count": 26,
   "metadata": {},
   "outputs": [
    {
     "data": {
      "text/html": [
       "<div>\n",
       "<style scoped>\n",
       "    .dataframe tbody tr th:only-of-type {\n",
       "        vertical-align: middle;\n",
       "    }\n",
       "\n",
       "    .dataframe tbody tr th {\n",
       "        vertical-align: top;\n",
       "    }\n",
       "\n",
       "    .dataframe thead th {\n",
       "        text-align: right;\n",
       "    }\n",
       "</style>\n",
       "<table border=\"1\" class=\"dataframe\">\n",
       "  <thead>\n",
       "    <tr style=\"text-align: right;\">\n",
       "      <th></th>\n",
       "      <th>schemaname</th>\n",
       "      <th>tablename</th>\n",
       "      <th>tableowner</th>\n",
       "      <th>tablespace</th>\n",
       "      <th>hasindexes</th>\n",
       "      <th>hasrules</th>\n",
       "      <th>hastriggers</th>\n",
       "      <th>rowsecurity</th>\n",
       "    </tr>\n",
       "  </thead>\n",
       "  <tbody>\n",
       "    <tr>\n",
       "      <th>150</th>\n",
       "      <td>mimiciv_derived</td>\n",
       "      <td>oasis</td>\n",
       "      <td>postgres</td>\n",
       "      <td>None</td>\n",
       "      <td>False</td>\n",
       "      <td>False</td>\n",
       "      <td>False</td>\n",
       "      <td>False</td>\n",
       "    </tr>\n",
       "  </tbody>\n",
       "</table>\n",
       "</div>"
      ],
      "text/plain": [
       "          schemaname tablename tableowner tablespace  hasindexes  hasrules  \\\n",
       "150  mimiciv_derived     oasis   postgres       None       False     False   \n",
       "\n",
       "     hastriggers  rowsecurity  \n",
       "150        False        False  "
      ]
     },
     "execution_count": 26,
     "metadata": {},
     "output_type": "execute_result"
    }
   ],
   "source": [
    "pg_tables[pg_tables.tablename == 'oasis']\n",
    "\n",
    "\n"
   ]
  },
  {
   "cell_type": "code",
   "execution_count": null,
   "metadata": {},
   "outputs": [],
   "source": []
  }
 ],
 "metadata": {
  "kernelspec": {
   "display_name": "mimic",
   "language": "python",
   "name": "python3"
  },
  "language_info": {
   "codemirror_mode": {
    "name": "ipython",
    "version": 3
   },
   "file_extension": ".py",
   "mimetype": "text/x-python",
   "name": "python",
   "nbconvert_exporter": "python",
   "pygments_lexer": "ipython3",
   "version": "3.10.9 | packaged by Anaconda, Inc. | (main, Mar  8 2023, 10:42:25) [MSC v.1916 64 bit (AMD64)]"
  },
  "vscode": {
   "interpreter": {
    "hash": "08a5d306251160da1020f1cc49fc3a531c8493d68136136759768e504de1bc8f"
   }
  }
 },
 "nbformat": 4,
 "nbformat_minor": 2
}
