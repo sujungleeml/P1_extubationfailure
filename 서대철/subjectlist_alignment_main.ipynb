{
 "cells": [
  {
   "cell_type": "code",
   "execution_count": 1,
   "metadata": {},
   "outputs": [],
   "source": [
    "import pandas as pd\n",
    "import time\n",
    "from tqdm import tqdm\n",
    "import warnings\n",
    "import matplotlib.pyplot as plt\n",
    "import missingno as msno\n",
    "\n",
    "# 데이터 정제 시 필요한 모듈들\n",
    "import src.subjectlist_alignment.pairing as pairing   # 삽관 발관 페어링 관련 모듈\n",
    "import src.utils.utils as util   # 기타 유틸리티 모듈\n"
   ]
  },
  {
   "cell_type": "markdown",
   "metadata": {},
   "source": [
    "### 1. 데이터 준비"
   ]
  },
  {
   "cell_type": "code",
   "execution_count": 2,
   "metadata": {},
   "outputs": [
    {
     "name": "stdout",
     "output_type": "stream",
     "text": [
      "adults_icu: (73181, 13)\n",
      "intubation_extubation: (9420, 17)\n"
     ]
    }
   ],
   "source": [
    "# 데이터 불러오기\n",
    "adults_icu = pd.read_csv('./outputs/adults_icu.csv')\n",
    "intubation_extubation = pd.read_csv('./outputs/intubation_extubation_modified_240122.csv', index_col=0)\n",
    "\n",
    "# 시간변수 변환\n",
    "time_cols = ['intubationtime', 'extubationtime', 'admittime', 'dischtime', 'deathtime']\n",
    "intubation_extubation = util.to_datetime(intubation_extubation, time_cols)\n",
    "\n",
    "print(f'adults_icu: {adults_icu.shape}')\n",
    "print(f'intubation_extubation: {intubation_extubation.shape}')\n"
   ]
  },
  {
   "cell_type": "markdown",
   "metadata": {},
   "source": [
    "### 2. intubation, extubation 데이터 페어링"
   ]
  },
  {
   "cell_type": "code",
   "execution_count": 24,
   "metadata": {},
   "outputs": [],
   "source": [
    "def pair_data(df):\n",
    "    # subject_id와 hadm_id로 그룹화\n",
    "    grouped_df = df.groupby(['subject_id', 'hadm_id'])\n",
    "\n",
    "    single_row_list = []\n",
    "    reformatted_paired_dataframe_list = []\n",
    "\n",
    "    # 데이터 1차 정리: single row processing, multirow pairing & reformatting\n",
    "    for (subject_id, hadm_id), group in tqdm(grouped_df, desc=\"\\tProcessing Groups\"):\n",
    "\n",
    "        # single row processing\n",
    "        # 해당 그룹(hadm_id)에 intubation 이벤트가 하나만 있는 경우 (즉, 페어링이 필요 없는 경우)\n",
    "        if group['intubationtime'].count() == 1:\n",
    "            single_row_list.append(group)   # bypass single row event\n",
    "\n",
    "        # 해당 그룹(hadm_id) 안에 여러 개의 intubation 이벤트가 있는 경우 (즉, 페어링이 필요한 경우)\n",
    "        elif group['intubationtime'].count() > 1:\n",
    "            # (subject_id, hadm_id) 그룹 내에서 고유한 intubationtime, extubationtime 값 추출\n",
    "            unique_intubations = list(group['intubationtime'].dropna().unique())\n",
    "            unique_extubations = list(group['extubationtime'].dropna().unique())\n",
    "\n",
    "            pairs = pairing.main_pairing(unique_intubations, unique_extubations)   # 페어링 함수 적용\n",
    "\n",
    "            # 페어링 완료 후 데이터 재구조화 (필요한 칼럼 가져오기)\n",
    "            reformatted_paired_dataframe = pairing.reformat_paired_data_to_dataframe(group, pairs, subject_id, hadm_id)\n",
    "            reformatted_paired_dataframe_list.append(reformatted_paired_dataframe)\n",
    "\n",
    "    # 데이터프레임 결합하기\n",
    "    combined_list = single_row_list + reformatted_paired_dataframe_list\n",
    "    combined_df = pd.concat(combined_list, ignore_index=True)\n",
    "\n",
    "    # 'subject_id', 'hadm_id', 'imputationtime' 순으로 정렬 (ascending=True)\n",
    "    combined_df = combined_df.sort_values(by=['subject_id', 'hadm_id', 'intubationtime', 'extubationtime'], ascending=True)\n",
    "    combined_df = combined_df.reset_index(drop=True)\n",
    "\n",
    "    return combined_df"
   ]
  },
  {
   "cell_type": "code",
   "execution_count": 25,
   "metadata": {},
   "outputs": [
    {
     "name": "stderr",
     "output_type": "stream",
     "text": [
      "\tProcessing Groups:   0%|          | 0/7087 [00:00<?, ?it/s]"
     ]
    },
    {
     "name": "stderr",
     "output_type": "stream",
     "text": [
      "\tProcessing Groups: 100%|██████████| 7087/7087 [00:03<00:00, 2103.28it/s]\n",
      "/var/folders/1m/_xkztmr10ks17qr1v6jbfngr0000gn/T/ipykernel_91785/3331531850.py:30: FutureWarning: The behavior of DataFrame concatenation with empty or all-NA entries is deprecated. In a future version, this will no longer exclude empty or all-NA columns when determining the result dtypes. To retain the old behavior, exclude the relevant entries before the concat operation.\n",
      "  combined_df = pd.concat(combined_list, ignore_index=True)\n",
      "/var/folders/1m/_xkztmr10ks17qr1v6jbfngr0000gn/T/ipykernel_91785/3331531850.py:30: FutureWarning: The behavior of DataFrame concatenation with empty or all-NA entries is deprecated. In a future version, this will no longer exclude empty or all-NA columns when determining the result dtypes. To retain the old behavior, exclude the relevant entries before the concat operation.\n",
      "  combined_df = pd.concat(combined_list, ignore_index=True)\n"
     ]
    }
   ],
   "source": [
    "paired_df = pair_data(intubation_extubation)\n"
   ]
  },
  {
   "cell_type": "code",
   "execution_count": 27,
   "metadata": {},
   "outputs": [],
   "source": [
    "paired_df.to_csv('./outputs/paired_df_test240126.csv')"
   ]
  },
  {
   "cell_type": "code",
   "execution_count": null,
   "metadata": {},
   "outputs": [],
   "source": []
  }
 ],
 "metadata": {
  "kernelspec": {
   "display_name": "Python 3",
   "language": "python",
   "name": "python3"
  },
  "language_info": {
   "codemirror_mode": {
    "name": "ipython",
    "version": 3
   },
   "file_extension": ".py",
   "mimetype": "text/x-python",
   "name": "python",
   "nbconvert_exporter": "python",
   "pygments_lexer": "ipython3",
   "version": "3.10.13"
  }
 },
 "nbformat": 4,
 "nbformat_minor": 2
}
