{
 "cells": [
  {
   "cell_type": "markdown",
   "metadata": {},
   "source": [
    "삽관/발관 데이터 페어링하고 환자군 분류하는거"
   ]
  },
  {
   "cell_type": "code",
   "execution_count": 27,
   "metadata": {},
   "outputs": [],
   "source": [
    "import pandas as pd\n",
    "from dfply import *\n",
    "import time\n",
    "from tqdm import tqdm\n",
    "import warnings\n",
    "import matplotlib.pyplot as plt\n",
    "import sys\n",
    "import os\n",
    "from pathlib import Path\n",
    "\n",
    "\n",
    "# 현재 노트북 파일의 상위 디렉토리에 있는 src 디렉토리의 경로를 sys.path에 추가\n",
    "module_path = Path('../src').resolve()\n",
    "if module_path not in sys.path:\n",
    "    sys.path.append(str(module_path))\n",
    "\n",
    "# 데이터 정제 시 필요한 모듈들\n",
    "import src.subjectlist_alignment.pairing as pairing   # 삽관 발관 페어링 관련 모듈\n",
    "from src.subjectlist_alignment import reintubation as rnt   # 재삽관 시간 계산 관련 모듈\n",
    "from src.subjectlist_alignment import imputation as imp   # 결측치 대체 관련 모듈\n",
    "from src.subjectlist_alignment import subject_classification as cls\n",
    "import src.utils.utils as util   # 기타 유틸리티 모듈"
   ]
  },
  {
   "cell_type": "markdown",
   "metadata": {},
   "source": [
    "### 1. 데이터 준비"
   ]
  },
  {
   "cell_type": "code",
   "execution_count": 6,
   "metadata": {},
   "outputs": [
    {
     "name": "stdout",
     "output_type": "stream",
     "text": [
      "adults_icu: (73181, 13)\n",
      "intubation_extubation: (10992, 14)\n",
      "ventilation_df: (34800, 5)\n"
     ]
    }
   ],
   "source": [
    "# 데이터 불러오기\n",
    "adults_icu = pd.read_csv('./data/adults_icu.csv')   # 성인 환자 정보\n",
    "intubation_extubation = pd.read_csv('./data/intubation_extubation.csv', \\\n",
    "                                    parse_dates=['intubationtime', 'extubationtime', \\\n",
    "                                                 'admittime', 'dischtime', 'deathtime'])   # 삽관 발관 정보\n",
    "ventilation = pd.read_csv('./data/ventilation.csv', parse_dates=['starttime', 'endtime'])   # 결측치 처리 위한 vent 테이블\n",
    "ventilation_df = ventilation[ventilation.ventilation_status == 'InvasiveVent']   # Invasive 만 사용\n",
    "\n",
    "print(f'adults_icu: {adults_icu.shape}')   # (73181, 13)\n",
    "print(f'intubation_extubation: {intubation_extubation.shape}')   # (10992, 14)\n",
    "print(f'ventilation_df: {ventilation_df.shape}')   # (34800, 5)"
   ]
  },
  {
   "cell_type": "markdown",
   "metadata": {},
   "source": [
    "### 2. intubation, extubation 페어링\n",
    "- hadm_id 별로 그룹화하여 작업. \n",
    "- 한 hadm_id에 복수의 삽관 발관이 존재할 경우 페어링 로직 적용. (main_pairing) \n",
    "- 페어링이 이루어진 후에, 행마다 관련 변수들이 같이 따라와줘야함. (reformat_paired_data_to_dataframe)\n",
    "    - 참고: 페어링이 다 이루어진 후에, 삽관시간과 발관시간이 동일한 데이터가 5개 확인되어 삭제함 (1월27일 논의사항 노션 참고)"
   ]
  },
  {
   "cell_type": "code",
   "execution_count": 7,
   "metadata": {},
   "outputs": [],
   "source": [
    "def pair_data(df):\n",
    "    start_time = time.time()   # 소요시간 계산\n",
    "    \n",
    "    # subject_id와 hadm_id로 그룹화\n",
    "    grouped_df = df.groupby(['subject_id', 'hadm_id'])\n",
    "\n",
    "    single_row_list = []\n",
    "    reformatted_paired_dataframe_list = []\n",
    "\n",
    "    # 데이터 1차 정리: single row processing, multirow pairing & reformatting\n",
    "    for (subject_id, hadm_id), group in tqdm(grouped_df, desc=\"Pairing data...\"):\n",
    "\n",
    "        # single row processing\n",
    "        # 해당 그룹(hadm_id)에 intubation 이벤트가 하나만 있는 경우 (즉, 페어링이 필요 없는 경우)\n",
    "        if group['intubationtime'].count() == 1:\n",
    "            # inttime, exttime 만 검증 후 데이터 통과\n",
    "            time_mismatch = pairing.validate_single_rows(group)   # True 일 경우 통과. False일 경우 삭제\n",
    "            if not time_mismatch:\n",
    "                single_row_list.append(group)   # bypass single row event\n",
    "\n",
    "        # 해당 그룹(hadm_id) 안에 여러 개의 intubation 이벤트가 있는 경우 (즉, 페어링이 필요한 경우)\n",
    "        elif group['intubationtime'].count() > 1:\n",
    "            # (subject_id, hadm_id) 그룹 내에서 고유한 intubationtime, extubationtime 값 추출\n",
    "            unique_intubations = list(group['intubationtime'].dropna().unique())\n",
    "            unique_extubations = list(group['extubationtime'].dropna().unique())\n",
    "\n",
    "            pairs = pairing.main_pairing(unique_intubations, unique_extubations)   # 페어링 함수 적용\n",
    "\n",
    "            # 페어링 완료 후 데이터 재구조화 (필요한 칼럼 가져오기)\n",
    "            reformatted_paired_dataframe = pairing.reformat_paired_data_to_dataframe(group, pairs, subject_id, hadm_id)\n",
    "            reformatted_paired_dataframe_list.append(reformatted_paired_dataframe)\n",
    "\n",
    "    # 데이터프레임 결합하기\n",
    "    combined_list = single_row_list + reformatted_paired_dataframe_list\n",
    "\n",
    "    with warnings.catch_warnings():\n",
    "        warnings.simplefilter(\"ignore\", category=FutureWarning)  \n",
    "        combined_df = pd.concat(combined_list, ignore_index=True)\n",
    "\n",
    "    # 'subject_id', 'hadm_id', 'imputationtime' 순으로 정렬 (ascending=True)\n",
    "    combined_df = combined_df.sort_values(by=['subject_id', 'hadm_id', 'intubationtime', 'extubationtime'], ascending=True)\n",
    "    combined_df = combined_df.reset_index(drop=True)\n",
    "\n",
    "    # 각 그룹별로 시퀀스 넘버링 해주기\n",
    "    combined_df['seq_num'] = combined_df.groupby(['subject_id', 'hadm_id']).cumcount() + 1\n",
    "\n",
    "    print(\"--- RUNTIME: %.2f seconds ---\" % round(time.time() - start_time, 2))\n",
    "\n",
    "    return combined_df"
   ]
  },
  {
   "cell_type": "code",
   "execution_count": 8,
   "metadata": {},
   "outputs": [
    {
     "name": "stderr",
     "output_type": "stream",
     "text": [
      "Pairing data...: 100%|██████████| 7087/7087 [00:03<00:00, 2005.29it/s]\n"
     ]
    },
    {
     "name": "stdout",
     "output_type": "stream",
     "text": [
      "--- RUNTIME: 4.79 seconds ---\n",
      "Processed paired_df: (9003, 16)\n"
     ]
    },
    {
     "data": {
      "text/plain": [
       "Index(['subject_id', 'hadm_id', 'int_stayid', 'admittime', 'intubationtime',\n",
       "       'int_itemid', 'int_weight', 'ext_stayid', 'extubationtime',\n",
       "       'ext_itemid', 'ext_weight', 'extubationcause', 'dischtime', 'deathtime',\n",
       "       'marker', 'seq_num'],\n",
       "      dtype='object')"
      ]
     },
     "execution_count": 8,
     "metadata": {},
     "output_type": "execute_result"
    }
   ],
   "source": [
    "paired_df = pair_data(intubation_extubation)\n",
    "paired_df = paired_df[paired_df.intubationtime != paired_df.extubationtime]  # 오류 데이터 삭제 (상기 markdown, 노션 2024.01.27 논의사항 참고)\n",
    "\n",
    "print(f'Processed paired_df: {paired_df.shape}')   # (9003, 15)\n",
    "paired_df.columns"
   ]
  },
  {
   "cell_type": "code",
   "execution_count": 9,
   "metadata": {},
   "outputs": [],
   "source": [
    "# 데이터 저장\n",
    "paired_df.to_csv('./data/paired_df.csv')"
   ]
  },
  {
   "cell_type": "markdown",
   "metadata": {},
   "source": [
    "### 3. 결측치 채우기 (intubationtime, extubationtime)\n",
    "- ventilation 테이블 활용\n",
    "- 로직:\n",
    "    - intubationtime NULL: 이전 행의 extubationtime 뒤에 오고, 현재 행의 extubationtime 앞에 오는 invasive vent 이벤트 서치\n",
    "    - extubationtime NULL: 현재 행의 intubationtime 뒤에 오고, 다음 행의 intubationtime 앞에 오는 invasive vent 이벤트 서치\n",
    "    - 적절한 후보가 없다면 pass.\n",
    "    - 후보가 2개 이상 존재할 경우, 케이스 마킹하고 pass."
   ]
  },
  {
   "cell_type": "code",
   "execution_count": 10,
   "metadata": {},
   "outputs": [
    {
     "name": "stdout",
     "output_type": "stream",
     "text": [
      "(9003, 16)\n",
      "ventilation_df: (34800, 5)\n"
     ]
    }
   ],
   "source": [
    "# # 데이터 재임포트\n",
    "# paired_df = pd.read_csv('./data/paired_df.csv', index_col=0, \\\n",
    "#                         parse_dates=['intubationtime', 'extubationtime', \\\n",
    "#                                      'admittime', 'dischtime', 'deathtime'])\n",
    "\n",
    "# ventilation = pd.read_csv('./data/ventilation.csv', parse_dates=['starttime', 'endtime'])   # 결측치 처리 위한 vent 테이블\n",
    "# ventilation_df = ventilation[ventilation.ventilation_status == 'InvasiveVent']   # Invasive 만 사용\n",
    "\n",
    "# print(paired_df.shape)   # (9003, 15)\n",
    "# print(f'ventilation_df: {ventilation_df.shape}')   # (34800, 5)"
   ]
  },
  {
   "cell_type": "code",
   "execution_count": 11,
   "metadata": {},
   "outputs": [
    {
     "name": "stdout",
     "output_type": "stream",
     "text": [
      "No candidate rows found.\n",
      "No candidate rows found.\n",
      "No candidate rows found.\n",
      "No candidate rows found.\n",
      "No candidate rows found.\n",
      "No candidate rows found.\n",
      "No candidate rows found.\n",
      "No candidate rows found.\n",
      "No candidate rows found.\n",
      "No candidate rows found.\n",
      "No candidate rows found.\n",
      "No candidate rows found.\n",
      "No candidate rows found.\n",
      "No candidate rows found.\n",
      "No candidate rows found.\n",
      "No candidate rows found.\n",
      "No candidate rows found.\n",
      "No candidate rows found.\n",
      "No candidate rows found.\n",
      "No candidate rows found.\n",
      "No candidate rows found.\n",
      "No candidate rows found.\n",
      "No candidate rows found.\n",
      "No candidate rows found.\n",
      "No candidate rows found.\n",
      "No candidate rows found.\n",
      "No candidate rows found.\n",
      "No candidate rows found.\n",
      "No candidate rows found.\n",
      "No candidate rows found.\n",
      "No candidate rows found.\n",
      "No candidate rows found.\n",
      "No candidate rows found.\n",
      "No candidate rows found.\n",
      "No candidate rows found.\n",
      "No candidate rows found.\n",
      "No candidate rows found.\n",
      "No candidate rows found.\n",
      "No candidate rows found.\n",
      "No candidate rows found.\n",
      "No candidate rows found.\n",
      "No candidate rows found.\n",
      "No candidate rows found.\n",
      "No candidate rows found.\n",
      "No candidate rows found.\n",
      "No candidate rows found.\n",
      "No candidate rows found.\n",
      "No candidate rows found.\n",
      "No candidate rows found.\n",
      "No candidate rows found.\n",
      "No candidate rows found.\n",
      "No candidate rows found.\n",
      "No candidate rows found.\n",
      "No candidate rows found.\n",
      "No candidate rows found.\n",
      "No candidate rows found.\n",
      "No candidate rows found.\n",
      "No candidate rows found.\n",
      "No candidate rows found.\n",
      "No candidate rows found.\n",
      "No candidate rows found.\n",
      "No candidate rows found.\n",
      "No candidate rows found.\n",
      "No candidate rows found.\n",
      "No candidate rows found.\n",
      "No candidate rows found.\n",
      "No candidate rows found.\n",
      "No candidate rows found.\n",
      "No candidate rows found.\n",
      "No candidate rows found.\n",
      "No candidate rows found.\n",
      "No candidate rows found.\n",
      "No candidate rows found.\n",
      "No candidate rows found.\n",
      "No candidate rows found.\n",
      "No candidate rows found.\n",
      "No candidate rows found.\n",
      "No candidate rows found.\n",
      "No candidate rows found.\n",
      "No candidate rows found.\n",
      "No candidate rows found.\n",
      "No candidate rows found.\n",
      "No candidate rows found.\n",
      "No candidate rows found.\n",
      "No candidate rows found.\n",
      "No candidate rows found.\n",
      "No candidate rows found.\n",
      "No candidate rows found.\n",
      "No candidate rows found.\n",
      "No candidate rows found.\n",
      "No candidate rows found.\n",
      "No candidate rows found.\n",
      "No candidate rows found.\n",
      "No candidate rows found.\n",
      "No candidate rows found.\n",
      "No candidate rows found.\n",
      "No candidate rows found.\n",
      "No candidate rows found.\n",
      "No candidate rows found.\n",
      "No candidate rows found.\n",
      "No candidate rows found.\n",
      "No candidate rows found.\n",
      "No candidate rows found.\n",
      "No candidate rows found.\n",
      "No candidate rows found.\n",
      "No candidate rows found.\n",
      "No candidate rows found.\n",
      "No candidate rows found.\n",
      "No candidate rows found.\n",
      "No candidate rows found.\n",
      "No candidate rows found.\n",
      "No candidate rows found.\n",
      "No candidate rows found.\n",
      "No candidate rows found.\n",
      "No candidate rows found.\n",
      "No candidate rows found.\n",
      "No candidate rows found.\n",
      "No candidate rows found.\n",
      "No candidate rows found.\n",
      "No candidate rows found.\n",
      "No candidate rows found.\n",
      "No candidate rows found.\n",
      "No candidate rows found.\n",
      "No candidate rows found.\n",
      "No candidate rows found.\n",
      "No candidate rows found.\n",
      "No candidate rows found.\n",
      "No candidate rows found.\n",
      "No candidate rows found.\n",
      "No candidate rows found.\n",
      "No candidate rows found.\n",
      "No candidate rows found.\n",
      "No candidate rows found.\n",
      "No candidate rows found.\n",
      "No candidate rows found.\n",
      "No candidate rows found.\n",
      "No candidate rows found.\n",
      "No candidate rows found.\n",
      "No candidate rows found.\n",
      "No candidate rows found.\n",
      "No candidate rows found.\n",
      "No candidate rows found.\n",
      "No candidate rows found.\n",
      "No candidate rows found.\n",
      "No candidate rows found.\n",
      "No candidate rows found.\n",
      "No candidate rows found.\n",
      "No candidate rows found.\n",
      "No candidate rows found.\n",
      "No candidate rows found.\n",
      "No candidate rows found.\n",
      "No candidate rows found.\n",
      "No candidate rows found.\n",
      "No candidate rows found.\n",
      "No candidate rows found.\n",
      "No candidate rows found.\n",
      "No candidate rows found.\n",
      "No candidate rows found.\n",
      "No candidate rows found.\n",
      "No candidate rows found.\n",
      "No candidate rows found.\n",
      "No candidate rows found.\n",
      "No candidate rows found.\n",
      "No candidate rows found.\n",
      "No candidate rows found.\n",
      "No candidate rows found.\n",
      "No candidate rows found.\n",
      "No candidate rows found.\n",
      "No candidate rows found.\n"
     ]
    },
    {
     "name": "stderr",
     "output_type": "stream",
     "text": [
      "/Users/sdc/Documents/bida_lab/db/P1_extubationfailure/이수정/mimic4_ext_codes/src/subjectlist_alignment/imputation.py:274: FutureWarning: Setting an item of incompatible dtype is deprecated and will raise in a future error of pandas. Value 'extubationtime InvasiveVent imputation' has dtype incompatible with float64, please explicitly cast to a compatible dtype first.\n",
      "  df.at[index, 'marker'] = row['marker']\n",
      "Processing null data...: 100%|██████████| 6694/6694 [00:00<00:00, 8266.97it/s] \n"
     ]
    },
    {
     "name": "stdout",
     "output_type": "stream",
     "text": [
      "--- RUNTIME: 2.04 seconds ---\n",
      "(9003, 17)\n"
     ]
    }
   ],
   "source": [
    "single_row_results_list, multirow_candidates_list = imp.ventilation_search(ventilation_df, paired_df)   # 후보군 추출\n",
    "paired_df2 = imp.impute_candidates(paired_df, single_row_results_list, multirow_candidates_list)   # 후보군으로 결측치 대체\n",
    "paired_df2 = imp.impute_null(paired_df2)   # 최종 발관시간 대체\n",
    "paired_df2 = imp.mark_transfer(paired_df2)   # 병동 이동 케이스 표시 (stay_id 기준)\n",
    "print(paired_df2.shape)"
   ]
  },
  {
   "cell_type": "code",
   "execution_count": 12,
   "metadata": {},
   "outputs": [],
   "source": [
    "# 데이터 저장\n",
    "paired_df2.to_csv('./data/paired_df2.csv', encoding='utf-8-sig')"
   ]
  },
  {
   "cell_type": "markdown",
   "metadata": {},
   "source": [
    "### 4. reintubationtime  관련 변수들 계산, 데이터 정리"
   ]
  },
  {
   "cell_type": "code",
   "execution_count": 13,
   "metadata": {},
   "outputs": [
    {
     "name": "stdout",
     "output_type": "stream",
     "text": [
      "(9003, 17)\n"
     ]
    }
   ],
   "source": [
    "# # 데이터 재임포트\n",
    "# paired_df2 = pd.read_csv('./data/paired_df2.csv', index_col=0, \\\n",
    "#                         parse_dates=['intubationtime', 'extubationtime', \\\n",
    "#                                      'admittime', 'dischtime', 'deathtime'])\n",
    "\n",
    "# print(paired_df2.shape)   # (9003, 17)"
   ]
  },
  {
   "cell_type": "code",
   "execution_count": 14,
   "metadata": {},
   "outputs": [],
   "source": [
    "def get_reintubation(df):\n",
    "    start_time = time.time()   # 소요시간 계산\n",
    "    grouped_df = df.groupby(['subject_id', 'hadm_id'])\n",
    "\n",
    "    df_list = []\n",
    "    with warnings.catch_warnings():\n",
    "        warnings.simplefilter(\"ignore\", category=FutureWarning)\n",
    "            \n",
    "        for _, patient_df in tqdm(grouped_df, desc=\"Fetching reintubation data...\"):\n",
    "\n",
    "            patient_df = rnt.create_reintubation_columns(patient_df)   # reintubationtime 칼럼 초기화 (reint_marker, intext_duration, 다음 발관 시간, 재삽관 시간)\n",
    "            patient_df = rnt.sort_ventilation_sequence(patient_df)   # 삽관/발관 시간 페어링\n",
    "            patient_df = rnt.get_intext_duration(patient_df)   # 삽관시간과 발관시간의 차이 계산\n",
    "            patient_df = rnt.carryover_next_intubationtime(patient_df)   # 다음 삽관시간 가져오기\n",
    "            patient_df = rnt.get_reint_marker(patient_df)   # 환자별로 재삽관이 존재하는지 마킹\n",
    "            patient_df = rnt.get_reintubationtime(patient_df)   # 재삽관 시간 계산하기\n",
    "            \n",
    "            df_list.append(patient_df)\n",
    "\n",
    "        # 환자별 데이터 하나의 데이터프레임으로 합치기\n",
    "        reintubation_df = pd.concat(df_list)\n",
    "        reintubation_df = reintubation_df.reset_index(drop=True)\n",
    "\n",
    "        # 각 그룹별로 시퀀스 넘버링 해주기\n",
    "        reintubation_df['seq_num'] = reintubation_df.groupby(['subject_id', 'hadm_id']).cumcount() + 1\n",
    "    \n",
    "    print(\"--- RUNTIME: %.2f seconds ---\" % round(time.time() - start_time, 2))\n",
    "        \n",
    "    return reintubation_df"
   ]
  },
  {
   "cell_type": "code",
   "execution_count": 15,
   "metadata": {},
   "outputs": [
    {
     "name": "stderr",
     "output_type": "stream",
     "text": [
      "Fetching reintubation data...: 100%|██████████| 6694/6694 [00:16<00:00, 405.24it/s]\n"
     ]
    },
    {
     "name": "stdout",
     "output_type": "stream",
     "text": [
      "--- RUNTIME: 17.50 seconds ---\n",
      "Processed reintubation_df: (9003, 20)\n"
     ]
    },
    {
     "data": {
      "text/plain": [
       "Index(['subject_id', 'hadm_id', 'int_stayid', 'admittime', 'intubationtime',\n",
       "       'int_itemid', 'int_weight', 'ext_stayid', 'extubationtime',\n",
       "       'ext_itemid', 'ext_weight', 'extubationcause', 'dischtime', 'deathtime',\n",
       "       'marker', 'seq_num', 'reint_marker', 'intext_duration',\n",
       "       'reintubation_eventtime', 'reintubationtime'],\n",
       "      dtype='object')"
      ]
     },
     "execution_count": 15,
     "metadata": {},
     "output_type": "execute_result"
    }
   ],
   "source": [
    "reintubation_df = get_reintubation(paired_df)\n",
    "print(f'Processed reintubation_df: {reintubation_df.shape}')   # (9003, 20)\n",
    "reintubation_df.columns"
   ]
  },
  {
   "cell_type": "code",
   "execution_count": 16,
   "metadata": {},
   "outputs": [],
   "source": [
    "# 데이터 저장\n",
    "reintubation_df.to_csv('./data/reintubation_df.csv', encoding='utf-8-sig')"
   ]
  },
  {
   "cell_type": "markdown",
   "metadata": {},
   "source": [
    "### 4. 최종행 결측치 처리\n",
    "- 3 단계에서 ventilation 테이블을 활용한 결측치 대체 작업 후에 NULL 값이 존재하는 최종행의 extubationtime에 대해서 추가적인 대체 작업을 거침.\n",
    "- 이는 MV time을 계산할 수 있는 행을 최대한 확보하기 위함.\n",
    "- 로직:\n",
    "    - 최종행의 NULL extubationtime에 대해, deathtime 값이 존재할 경우 대체.\n",
    "    - deathtime 값이 존재하지 않을 경우, dischtime으로 대체."
   ]
  },
  {
   "cell_type": "code",
   "execution_count": 17,
   "metadata": {},
   "outputs": [
    {
     "name": "stdout",
     "output_type": "stream",
     "text": [
      "(9003, 20)\n"
     ]
    }
   ],
   "source": [
    "# # 데이터 재임포트\n",
    "# reintubation_df = pd.read_csv('./data/reintubation_df.csv', index_col=0, \\\n",
    "#                               parse_dates=['intubationtime', 'extubationtime', \\\n",
    "#                                            'admittime', 'dischtime', 'deathtime'])\n",
    "\n",
    "# print(reintubation_df.shape)   # (9003, 20)"
   ]
  },
  {
   "cell_type": "code",
   "execution_count": 18,
   "metadata": {},
   "outputs": [],
   "source": [
    "def impute_null(df):\n",
    "    \"\"\"\n",
    "    최종 발관시간 NULL 값 대체 후, intext_duration (삽관-발관 시간차) 계산.\n",
    "    \"\"\"\n",
    "    start_time = time.time()   # 소요시간 계산\n",
    "\n",
    "    df = imp.init_marker(df)   # 'marker' 칼럼 생성 (결측치 대체 로그가 저장됨)\n",
    "    grouped_df = df.groupby(['subject_id', 'hadm_id'])\n",
    "\n",
    "    df_list = []\n",
    "    with warnings.catch_warnings():\n",
    "        warnings.simplefilter(\"ignore\", category=FutureWarning)\n",
    "            \n",
    "        for _, patient_df in tqdm(grouped_df, desc=\"Processing null data...\"):\n",
    "\n",
    "            patient_df = imp.impute_final_extubation(patient_df)   # 최종 발관시간이 NULL인 경우 deathtime 또는 dischtime으로 대체\n",
    "            patient_df = rnt.get_intext_duration(patient_df)   # 삽관시간과 발관시간의 차이 다시 계산\n",
    "\n",
    "            df_list.append(patient_df)\n",
    "\n",
    "        # 환자별 데이터 하나의 데이터프레임으로 합치기\n",
    "        reintubation_df = pd.concat(df_list)\n",
    "        reintubation_df = reintubation_df.reset_index(drop=True)\n",
    "    \n",
    "    print(\"--- RUNTIME: %.2f seconds ---\" % round(time.time() - start_time, 2))\n",
    "        \n",
    "    return reintubation_df"
   ]
  },
  {
   "cell_type": "code",
   "execution_count": 19,
   "metadata": {},
   "outputs": [
    {
     "name": "stderr",
     "output_type": "stream",
     "text": [
      "Processing null data...:   0%|          | 0/6694 [00:00<?, ?it/s]"
     ]
    },
    {
     "name": "stderr",
     "output_type": "stream",
     "text": [
      "Processing null data...: 100%|██████████| 6694/6694 [00:01<00:00, 4276.52it/s]\n"
     ]
    },
    {
     "name": "stdout",
     "output_type": "stream",
     "text": [
      "--- RUNTIME: 3.17 seconds ---\n",
      "Processed reintubation_df2: (9003, 20)\n"
     ]
    },
    {
     "data": {
      "text/plain": [
       "Index(['subject_id', 'hadm_id', 'int_stayid', 'admittime', 'intubationtime',\n",
       "       'int_itemid', 'int_weight', 'ext_stayid', 'extubationtime',\n",
       "       'ext_itemid', 'ext_weight', 'extubationcause', 'dischtime', 'deathtime',\n",
       "       'marker', 'seq_num', 'reint_marker', 'intext_duration',\n",
       "       'reintubation_eventtime', 'reintubationtime'],\n",
       "      dtype='object')"
      ]
     },
     "execution_count": 19,
     "metadata": {},
     "output_type": "execute_result"
    }
   ],
   "source": [
    "reintubation_df2 = impute_null(reintubation_df)\n",
    "print(f'Processed reintubation_df2: {reintubation_df2.shape}')   # (9003, 20)\n",
    "reintubation_df2.columns"
   ]
  },
  {
   "cell_type": "code",
   "execution_count": 20,
   "metadata": {},
   "outputs": [],
   "source": [
    "# 데이터 저장\n",
    "reintubation_df2.to_csv('./data/reintubation_df2.csv', encoding='utf-8-sig')"
   ]
  },
  {
   "cell_type": "markdown",
   "metadata": {},
   "source": [
    "### 5. 환자군 분류 (ext failure, non-failure, etc.)\n",
    "- subjectlist1: mvtime 제거 안한 버전\n",
    "- subjectlist2: mvtime 제거 한 버전"
   ]
  },
  {
   "cell_type": "markdown",
   "metadata": {},
   "source": [
    "#### 분류 코드\n",
    "\n",
    "11    재삽관 없이 발관후 48시간 넘어 퇴원 | nonfailure\n",
    "\n",
    "121   재삽관 없이 발관후 48시간 이내 사망 X | nonfailure\n",
    "\n",
    "1221  재삽관 없이 발관후 24시간 이내 사망 | death\n",
    "\n",
    "1222  재삽관 없이 발관후 24~48시간 이내 사망 | death\n",
    "\n",
    "211   48시간 이내 재삽관 | failure\n",
    "\n",
    "212   48시간 너머 재삽관 | nonfailure\n",
    "\n",
    "221   최종 발관 이후 48시간 넘어 퇴원 | nonfailure\n",
    "\n",
    "2221  최종 발관 이후 48시간 이내 사망 X | nonfailure\n",
    "\n",
    "22221 최종 발관 이후 24시간 이내 사망 | death\n",
    "\n",
    "22222 최종 발관 이후 24~48시간 이내 사망 | death\n",
    "\n",
    "999   (null case)현발관-다음발관이 48시간 이내 | Failure\n",
    "\n",
    "998   (null case)현삽관-다음삽관이 48시간 이내 | Failure\n",
    "\n",
    "9999  (null case) non-failure 판단 불가 | 제거"
   ]
  },
  {
   "cell_type": "code",
   "execution_count": 21,
   "metadata": {},
   "outputs": [
    {
     "name": "stdout",
     "output_type": "stream",
     "text": [
      "(9003, 20)\n"
     ]
    }
   ],
   "source": [
    "# 데이터 임포트\n",
    "reintubation_df2 = pd.read_csv('./data/reintubation_df2.csv', index_col=0, \\\n",
    "                               parse_dates=['intubationtime', 'extubationtime', \\\n",
    "                                            'admittime', 'dischtime', 'deathtime'])\n",
    "\n",
    "print(reintubation_df2.shape)   # (9003, 20)"
   ]
  },
  {
   "cell_type": "code",
   "execution_count": 22,
   "metadata": {},
   "outputs": [],
   "source": [
    "def categorize_patients(df):\n",
    "    # 분류 코드 기준\n",
    "    categories = {\n",
    "        \"nonfailure\": [11, 121, 212, 221, 2221],\n",
    "        \"failure\": [211, 999, 998],\n",
    "        \"death\": [1221, 1222, 22221, 22222]\n",
    "    }\n",
    "\n",
    "    start_time = time.time()   # 소요시간 계산\n",
    "\n",
    "    # df = imp.init_marker(df)   # 'marker' 칼럼 생성 (결측치 대체 로그가 저장됨)\n",
    "    grouped_df = df.groupby(['subject_id', 'hadm_id'])\n",
    "\n",
    "    df_list = []\n",
    "    with warnings.catch_warnings():\n",
    "        warnings.simplefilter(\"ignore\", category=FutureWarning)\n",
    "            \n",
    "        for _, patient_df in tqdm(grouped_df, desc=\"Categorizing extubation failure vs non-failure...\"):\n",
    "\n",
    "            patient_df = cls.init_class_columns(patient_df)   # flag_mvtime, ext_to_death, ext_to_disch, disch_to_death, class_code 칼럼 초기화\n",
    "            patient_df = cls.fill_class_columns(patient_df)   # 초기화한 칼럼 값(flag_mvtime, ext_to_death, ext_to_disch, disch_to_death) 계산해서 채워주기\n",
    "            patient_df = cls.classify_patients(patient_df)   # 행별로 케이스 분류해서 class_code 입력해주는 코드\n",
    "            patient_df = cls.categorize_code(patient_df, categories)   # class_code 기반으로 extubation failure, non-failure 분류해주는 코드\n",
    "            df_list.append(patient_df)\n",
    "\n",
    "        # 환자별 데이터 하나의 데이터프레임으로 합치기\n",
    "        subjects_df = pd.concat(df_list)\n",
    "        subjects_df = subjects_df.reset_index(drop=True)\n",
    "\n",
    "    \n",
    "    print(\"--- RUNTIME: %.2f seconds ---\" % round(time.time() - start_time, 2))\n",
    "        \n",
    "    return subjects_df"
   ]
  },
  {
   "cell_type": "code",
   "execution_count": 23,
   "metadata": {},
   "outputs": [
    {
     "name": "stderr",
     "output_type": "stream",
     "text": [
      "Categorizing extubation failure vs non-failure...:   0%|          | 0/6694 [00:00<?, ?it/s]"
     ]
    },
    {
     "name": "stderr",
     "output_type": "stream",
     "text": [
      "Categorizing extubation failure vs non-failure...: 100%|██████████| 6694/6694 [00:13<00:00, 491.93it/s]\n"
     ]
    },
    {
     "name": "stdout",
     "output_type": "stream",
     "text": [
      "--- RUNTIME: 14.94 seconds ---\n",
      "Processed subjectlist1: (9003, 29)\n",
      "Processed subjectlist2: (6535, 29)\n"
     ]
    },
    {
     "data": {
      "text/plain": [
       "Index(['subject_id', 'hadm_id', 'stay_id', 'int_stayid', 'admittime',\n",
       "       'intubationtime', 'int_itemid', 'int_weight', 'ext_stayid',\n",
       "       'extubationtime', 'ext_itemid', 'ext_weight', 'extubationcause',\n",
       "       'dischtime', 'deathtime', 'marker', 'seq_num', 'reint_marker',\n",
       "       'intext_duration', 'reintubation_eventtime', 'reintubationtime',\n",
       "       'mvtime', 'final_event', 'ext_to_death', 'ext_to_disch',\n",
       "       'disch_to_death', 'class_code', 'class', 'stayid_mismatch'],\n",
       "      dtype='object')"
      ]
     },
     "execution_count": 23,
     "metadata": {},
     "output_type": "execute_result"
    }
   ],
   "source": [
    "subjectlist1 = categorize_patients(reintubation_df2)\n",
    "\n",
    "# stay_id, stayid_mismatch 칼럼 생성\n",
    "subjectlist1 = util.mark_stayid_mismatch(subjectlist1)   # 삽관 발관 이벤트의 stay_id가 안 맞는 케이스를 마킹함.\n",
    "subjectlist1 = util.create_stay_id(subjectlist1)   # 'stay_id' 칼럼 생성\n",
    "\n",
    "\n",
    "subjectlist2 = subjectlist1[subjectlist1.mvtime == False]   # mvtime 제거\n",
    "\n",
    "print(f'Processed subjectlist1: {subjectlist1.shape}')   # (9003, 27)\n",
    "print(f'Processed subjectlist2: {subjectlist2.shape}')   # (6823, 27)\n",
    "\n",
    "subjectlist1.columns"
   ]
  },
  {
   "cell_type": "markdown",
   "metadata": {},
   "source": [
    "### 6. 데이터 손실율 변화 계산\n",
    "- BEFORE: 25.48%\n",
    "- AFTER: 4.0%"
   ]
  },
  {
   "cell_type": "code",
   "execution_count": 26,
   "metadata": {},
   "outputs": [
    {
     "name": "stderr",
     "output_type": "stream",
     "text": [
      "Fetching reintubation data...: 100%|██████████| 6694/6694 [00:18<00:00, 353.40it/s]\n"
     ]
    },
    {
     "name": "stdout",
     "output_type": "stream",
     "text": [
      "--- RUNTIME: 19.72 seconds ---\n"
     ]
    },
    {
     "name": "stderr",
     "output_type": "stream",
     "text": [
      "Categorizing extubation failure vs non-failure...: 100%|██████████| 6694/6694 [00:14<00:00, 468.56it/s]\n"
     ]
    },
    {
     "name": "stdout",
     "output_type": "stream",
     "text": [
      "--- RUNTIME: 15.72 seconds ---\n",
      "------------------------------------------------\n",
      "DATA LOSS CHANGE:\n",
      "Original Loss\n",
      "2294 / 9003 (25.48%)\n",
      "\n",
      "Adjusted Loss\n",
      "360 / 9003 (4.0%)\n"
     ]
    }
   ],
   "source": [
    "# 오리지널 파일 불러오기\n",
    "paired_df = pd.read_csv('./data/paired_df.csv', index_col=0, \\\n",
    "                        parse_dates=['intubationtime', 'extubationtime', \\\n",
    "                                     'admittime', 'dischtime', 'deathtime'])\n",
    "\n",
    "# 결측치 대체하지 않고 환자 분류\n",
    "reintubation_df_original = get_reintubation(paired_df)\n",
    "subjects_df_original = categorize_patients(reintubation_df_original)\n",
    "\n",
    "# 결측치 대체하지 않았을 때 데이터 손실율 계산 (Original Loss)\n",
    "code_valuecount_original = subjects_df_original.class_code.value_counts()\n",
    "not_classified_count = code_valuecount_original[9999]\n",
    "total_count =  code_valuecount_original.sum()\n",
    "\n",
    "# 결측치 대체 후 데이터 손실율 계산 (Adjusted Loss)\n",
    "code_valuecount = subjectlist1.class_code.value_counts()\n",
    "not_classified = code_valuecount[9999]\n",
    "total_count =  code_valuecount.sum()\n",
    "\n",
    "\n",
    "print('------------------------------------------------')\n",
    "print('DATA LOSS CHANGE:')\n",
    "print(f'Original Loss')\n",
    "print(f'{not_classified_count} / {total_count} ({round(not_classified_count/total_count * 100, 2)}%)')\n",
    "print('')\n",
    "print(f'Adjusted Loss')\n",
    "print(f'{not_classified} / {total_count} ({round(not_classified/total_count * 100, 2)}%)')\n"
   ]
  },
  {
   "cell_type": "code",
   "execution_count": null,
   "metadata": {},
   "outputs": [],
   "source": [
    "### 7. Subject list 추출"
   ]
  },
  {
   "cell_type": "code",
   "execution_count": 29,
   "metadata": {},
   "outputs": [],
   "source": [
    "# \n",
    "sub1list = subjectlist1 >> select('subject_id','hadm_id',\\\n",
    "                                  'stay_id', 'admittime', 'dischtime')\n",
    "sub1list = sub1list.drop_duplicates(subset='stay_id')   # remove dup\n",
    "\n",
    "\n",
    "sub2list = subjectlist2 >> select('subject_id','hadm_id',\\\n",
    "                                  'stay_id', 'admittime', 'dischtime')\n",
    "sub2list = sub2list.drop_duplicates(subset='stay_id')   # remove dup\n",
    "\n",
    "\n",
    "# subjectlist1.to_csv('./data/subjectlist1_intextevents.csv')\n",
    "# subjectlist2.to_csv('./data/subjectlist2_intextevents.csv')"
   ]
  },
  {
   "cell_type": "code",
   "execution_count": 30,
   "metadata": {},
   "outputs": [
    {
     "data": {
      "text/plain": [
       "(7231, 5)"
      ]
     },
     "execution_count": 30,
     "metadata": {},
     "output_type": "execute_result"
    }
   ],
   "source": [
    "sub1list.shape"
   ]
  },
  {
   "cell_type": "code",
   "execution_count": 21,
   "metadata": {},
   "outputs": [
    {
     "data": {
      "image/png": "[encoded data removed]",
      "text/plain": [
       "<Figure size 1000x600 with 1 Axes>"
      ]
     },
     "metadata": {},
     "output_type": "display_data"
    }
   ],
   "source": [
    "# Count the occurrences of each class\n",
    "class_counts = subjectlist1['class'].value_counts()\n",
    "\n",
    "# Create a bar chart\n",
    "plt.figure(figsize=(10, 6))\n",
    "plt.bar(class_counts.index, class_counts.values, edgecolor='k', alpha=0.7)\n",
    "plt.title('Distribution of Class Categories')\n",
    "plt.xlabel('Class')\n",
    "plt.ylabel('Frequency')\n",
    "plt.grid(axis='y', alpha=0.75)\n",
    "plt.xticks(rotation=45, ha='right')  # Rotate x-axis labels for readability\n",
    "plt.show()"
   ]
  },
  {
   "cell_type": "code",
   "execution_count": null,
   "metadata": {},
   "outputs": [],
   "source": []
  }
 ],
 "metadata": {
  "kernelspec": {
   "display_name": "mimic",
   "language": "python",
   "name": "python3"
  },
  "language_info": {
   "codemirror_mode": {
    "name": "ipython",
    "version": 3
   },
   "file_extension": ".py",
   "mimetype": "text/x-python",
   "name": "python",
   "nbconvert_exporter": "python",
   "pygments_lexer": "ipython3",
   "version": "3.10.13"
  },
  "vscode": {
   "interpreter": {
    "hash": "08a5d306251160da1020f1cc49fc3a531c8493d68136136759768e504de1bc8f"
   }
  }
 },
 "nbformat": 4,
 "nbformat_minor": 2
}
