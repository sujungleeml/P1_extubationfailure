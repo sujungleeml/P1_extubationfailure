{
 "cells": [
  {
   "cell_type": "markdown",
   "metadata": {},
   "source": [
    "삽관/발관 데이터 페어링하고 환자군 분류하는거"
   ]
  },
  {
   "cell_type": "code",
   "execution_count": 3,
   "metadata": {},
   "outputs": [],
   "source": [
    "import pandas as pd\n",
    "import time\n",
    "from tqdm import tqdm\n",
    "import warnings\n",
    "import matplotlib.pyplot as plt\n",
    "import sys\n",
    "import os\n",
    "from pathlib import Path\n",
    "\n",
    "\n",
    "# 현재 노트북 파일의 상위 디렉토리에 있는 src 디렉토리의 경로를 sys.path에 추가\n",
    "module_path = Path('../src').resolve()\n",
    "if module_path not in sys.path:\n",
    "    sys.path.append(str(module_path))\n",
    "\n",
    "# 데이터 정제 시 필요한 모듈들\n",
    "import src.subjectlist_alignment.pairing as pairing   # 삽관 발관 페어링 관련 모듈\n",
    "from src.subjectlist_alignment import reintubation as rnt   # 재삽관 시간 계산 관련 모듈\n",
    "from src.subjectlist_alignment import imputation as imp   # 결측치 대체 관련 모듈\n",
    "from src.subjectlist_alignment import subject_classification as cls\n",
    "import src.utils.utils as util   # 기타 유틸리티 모듈"
   ]
  },
  {
   "cell_type": "markdown",
   "metadata": {},
   "source": [
    "### 1. 데이터 준비"
   ]
  },
  {
   "cell_type": "code",
   "execution_count": 4,
   "metadata": {},
   "outputs": [
    {
     "name": "stdout",
     "output_type": "stream",
     "text": [
      "Converted intubationtime to datetime.\n",
      "Converted extubationtime to datetime.\n",
      "Converted admittime to datetime.\n",
      "Converted dischtime to datetime.\n",
      "Converted deathtime to datetime.\n",
      "adults_icu: (73181, 13)\n",
      "intubation_extubation: (10992, 14)\n"
     ]
    }
   ],
   "source": [
    "# 데이터 불러오기\n",
    "adults_icu = pd.read_csv('./data/adults_icu.csv')\n",
    "intubation_extubation = pd.read_csv('./data/intubation_extubation.csv')\n",
    "\n",
    "# 시간변수 변환\n",
    "time_cols = ['intubationtime', 'extubationtime', 'admittime', 'dischtime', 'deathtime']\n",
    "intubation_extubation = util.to_datetime(intubation_extubation, time_cols)\n",
    "\n",
    "print(f'adults_icu: {adults_icu.shape}')   # (73181, 13)\n",
    "print(f'intubation_extubation: {intubation_extubation.shape}')   # (10992, 14)\n"
   ]
  },
  {
   "cell_type": "markdown",
   "metadata": {},
   "source": [
    "### 2. intubation, extubation 페어링\n",
    "- hadm_id 별로 그룹화하여 작업. \n",
    "- 한 hadm_id에 복수의 삽관 발관이 존재할 경우 페어링 로직 적용. (main_pairing) \n",
    "- 페어링이 이루어진 후에, 행마다 관련 변수들이 같이 따라와줘야함. (reformat_paired_data_to_dataframe)\n",
    "    - 참고: 페어링이 다 이루어진 후에, 삽관시간과 발관시간이 동일한 데이터가 5개 확인되어 삭제함 (1월27일 논의사항 노션 참고)"
   ]
  },
  {
   "cell_type": "code",
   "execution_count": 5,
   "metadata": {},
   "outputs": [],
   "source": [
    "def pair_data(df):\n",
    "    start_time = time.time()   # 소요시간 계산\n",
    "    \n",
    "    # subject_id와 hadm_id로 그룹화\n",
    "    grouped_df = df.groupby(['subject_id', 'hadm_id'])\n",
    "\n",
    "    single_row_list = []\n",
    "    reformatted_paired_dataframe_list = []\n",
    "\n",
    "    # 데이터 1차 정리: single row processing, multirow pairing & reformatting\n",
    "    for (subject_id, hadm_id), group in tqdm(grouped_df, desc=\"Pairing data...\"):\n",
    "\n",
    "        # single row processing\n",
    "        # 해당 그룹(hadm_id)에 intubation 이벤트가 하나만 있는 경우 (즉, 페어링이 필요 없는 경우)\n",
    "        if group['intubationtime'].count() == 1:\n",
    "            # inttime, exttime 만 검증 후 데이터 통과\n",
    "            time_mismatch = pairing.validate_single_rows(group)   # True 일 경우 통과. False일 경우 삭제\n",
    "            if not time_mismatch:\n",
    "                single_row_list.append(group)   # bypass single row event\n",
    "\n",
    "        # 해당 그룹(hadm_id) 안에 여러 개의 intubation 이벤트가 있는 경우 (즉, 페어링이 필요한 경우)\n",
    "        elif group['intubationtime'].count() > 1:\n",
    "            # (subject_id, hadm_id) 그룹 내에서 고유한 intubationtime, extubationtime 값 추출\n",
    "            unique_intubations = list(group['intubationtime'].dropna().unique())\n",
    "            unique_extubations = list(group['extubationtime'].dropna().unique())\n",
    "\n",
    "            pairs = pairing.main_pairing(unique_intubations, unique_extubations)   # 페어링 함수 적용\n",
    "\n",
    "            # 페어링 완료 후 데이터 재구조화 (필요한 칼럼 가져오기)\n",
    "            reformatted_paired_dataframe = pairing.reformat_paired_data_to_dataframe(group, pairs, subject_id, hadm_id)\n",
    "            reformatted_paired_dataframe_list.append(reformatted_paired_dataframe)\n",
    "\n",
    "    # 데이터프레임 결합하기\n",
    "    combined_list = single_row_list + reformatted_paired_dataframe_list\n",
    "\n",
    "    with warnings.catch_warnings():\n",
    "        warnings.simplefilter(\"ignore\", category=FutureWarning)  \n",
    "        combined_df = pd.concat(combined_list, ignore_index=True)\n",
    "\n",
    "    # 'subject_id', 'hadm_id', 'imputationtime' 순으로 정렬 (ascending=True)\n",
    "    combined_df = combined_df.sort_values(by=['subject_id', 'hadm_id', 'intubationtime', 'extubationtime'], ascending=True)\n",
    "    combined_df = combined_df.reset_index(drop=True)\n",
    "\n",
    "    print(\"--- RUNTIME: %.2f seconds ---\" % round(time.time() - start_time, 2))\n",
    "\n",
    "    return combined_df"
   ]
  },
  {
   "cell_type": "code",
   "execution_count": 6,
   "metadata": {},
   "outputs": [
    {
     "name": "stderr",
     "output_type": "stream",
     "text": [
      "Pairing data...:   0%|          | 0/7087 [00:00<?, ?it/s]\rPairing data...:   1%|          | 85/7087 [00:00<00:08, 824.99it/s]\rPairing data...:   2%|▏         | 177/7087 [00:00<00:07, 870.32it/s]\rPairing data...:   4%|▎         | 265/7087 [00:00<00:07, 874.56it/s]\rPairing data...:   5%|▍         | 353/7087 [00:00<00:07, 856.47it/s]\rPairing data...:   6%|▋         | 443/7087 [00:00<00:07, 867.53it/s]\rPairing data...:   7%|▋         | 530/7087 [00:00<00:08, 801.24it/s]\rPairing data...:   9%|▊         | 611/7087 [00:00<00:11, 573.62it/s]\rPairing data...:  10%|▉         | 681/7087 [00:00<00:10, 598.60it/s]\rPairing data...:  11%|█         | 756/7087 [00:01<00:09, 635.09it/s]\rPairing data...:  12%|█▏        | 838/7087 [00:01<00:09, 678.56it/s]\rPairing data...:  13%|█▎        | 934/7087 [00:01<00:08, 751.41it/s]\rPairing data...:  14%|█▍        | 1013/7087 [00:01<00:08, 741.93it/s]\rPairing data...:  15%|█▌        | 1095/7087 [00:01<00:07, 763.64it/s]\rPairing data...:  17%|█▋        | 1175/7087 [00:01<00:07, 771.37it/s]\rPairing data...:  18%|█▊        | 1254/7087 [00:01<00:07, 773.15it/s]\rPairing data...:  19%|█▉        | 1335/7087 [00:01<00:07, 778.71it/s]\rPairing data...:  20%|█▉        | 1414/7087 [00:01<00:07, 716.38it/s]\rPairing data...:  21%|██        | 1488/7087 [00:02<00:08, 693.12it/s]\rPairing data...:  22%|██▏       | 1584/7087 [00:02<00:07, 764.91it/s]\rPairing data...:  24%|██▍       | 1690/7087 [00:02<00:06, 842.00it/s]\rPairing data...:  25%|██▌       | 1777/7087 [00:02<00:06, 849.44it/s]\rPairing data...:  26%|██▋       | 1875/7087 [00:02<00:05, 884.65it/s]\rPairing data...:  28%|██▊       | 1965/7087 [00:02<00:07, 705.65it/s]\rPairing data...:  29%|██▉       | 2042/7087 [00:02<00:07, 709.27it/s]\rPairing data...:  30%|███       | 2136/7087 [00:02<00:06, 757.54it/s]\rPairing data...:  31%|███▏      | 2222/7087 [00:02<00:06, 780.38it/s]\rPairing data...:  33%|███▎      | 2327/7087 [00:03<00:05, 849.61it/s]\rPairing data...:  34%|███▍      | 2417/7087 [00:03<00:05, 858.86it/s]\rPairing data...:  35%|███▌      | 2505/7087 [00:03<00:05, 841.34it/s]\rPairing data...:  37%|███▋      | 2604/7087 [00:03<00:05, 881.22it/s]\rPairing data...:  38%|███▊      | 2694/7087 [00:03<00:05, 853.98it/s]\rPairing data...:  39%|███▉      | 2789/7087 [00:03<00:04, 879.94it/s]\rPairing data...:  41%|████      | 2878/7087 [00:03<00:05, 812.39it/s]\rPairing data...:  42%|████▏     | 2961/7087 [00:03<00:05, 774.63it/s]\rPairing data...:  43%|████▎     | 3040/7087 [00:03<00:05, 776.70it/s]\rPairing data...:  44%|████▍     | 3119/7087 [00:04<00:05, 763.65it/s]\rPairing data...:  45%|████▌     | 3207/7087 [00:04<00:04, 794.17it/s]\rPairing data...:  46%|████▋     | 3287/7087 [00:04<00:05, 720.66it/s]\rPairing data...:  48%|████▊     | 3378/7087 [00:04<00:04, 769.64it/s]\rPairing data...:  49%|████▉     | 3493/7087 [00:04<00:04, 867.99it/s]\rPairing data...:  51%|█████     | 3582/7087 [00:04<00:04, 823.05it/s]\rPairing data...:  52%|█████▏    | 3666/7087 [00:04<00:05, 598.69it/s]\rPairing data...:  53%|█████▎    | 3753/7087 [00:04<00:05, 657.30it/s]\rPairing data...:  54%|█████▍    | 3828/7087 [00:05<00:04, 669.88it/s]\rPairing data...:  55%|█████▌    | 3911/7087 [00:05<00:04, 708.52it/s]\rPairing data...:  56%|█████▋    | 3987/7087 [00:05<00:04, 672.29it/s]\rPairing data...:  58%|█████▊    | 4096/7087 [00:05<00:03, 772.85it/s]\rPairing data...:  59%|█████▉    | 4178/7087 [00:05<00:03, 740.68it/s]\rPairing data...:  61%|██████    | 4292/7087 [00:05<00:03, 844.57it/s]\rPairing data...:  62%|██████▏   | 4380/7087 [00:05<00:03, 818.18it/s]\rPairing data...:  63%|██████▎   | 4466/7087 [00:05<00:03, 823.85it/s]\rPairing data...:  64%|██████▍   | 4551/7087 [00:05<00:03, 784.39it/s]\rPairing data...:  65%|██████▌   | 4631/7087 [00:06<00:03, 769.71it/s]\rPairing data...:  66%|██████▋   | 4709/7087 [00:06<00:03, 740.65it/s]\rPairing data...:  68%|██████▊   | 4799/7087 [00:06<00:02, 784.22it/s]\rPairing data...:  69%|██████▉   | 4879/7087 [00:06<00:03, 723.35it/s]\rPairing data...:  70%|███████   | 4971/7087 [00:06<00:02, 769.21it/s]\rPairing data...:  71%|███████▏  | 5062/7087 [00:06<00:02, 804.59it/s]\rPairing data...:  73%|███████▎  | 5144/7087 [00:06<00:02, 778.93it/s]\rPairing data...:  74%|███████▍  | 5234/7087 [00:06<00:02, 805.22it/s]\rPairing data...:  75%|███████▌  | 5328/7087 [00:06<00:02, 838.31it/s]\rPairing data...:  77%|███████▋  | 5428/7087 [00:07<00:01, 884.32it/s]\rPairing data...:  78%|███████▊  | 5518/7087 [00:07<00:01, 850.45it/s]\rPairing data...:  79%|███████▉  | 5604/7087 [00:07<00:01, 852.38it/s]\rPairing data...:  80%|████████  | 5690/7087 [00:07<00:01, 749.71it/s]\rPairing data...:  81%|████████▏ | 5768/7087 [00:07<00:02, 505.24it/s]\rPairing data...:  83%|████████▎ | 5884/7087 [00:07<00:01, 633.60it/s]\rPairing data...:  84%|████████▍ | 5973/7087 [00:07<00:01, 690.48it/s]\rPairing data...:  85%|████████▌ | 6054/7087 [00:07<00:01, 717.44it/s]\rPairing data...:  87%|████████▋ | 6135/7087 [00:08<00:01, 716.00it/s]\rPairing data...:  88%|████████▊ | 6213/7087 [00:08<00:01, 732.67it/s]\rPairing data...:  89%|████████▉ | 6306/7087 [00:08<00:00, 786.22it/s]\rPairing data...:  90%|█████████ | 6409/7087 [00:08<00:00, 851.92it/s]\rPairing data...:  92%|█████████▏| 6505/7087 [00:08<00:00, 876.34it/s]\rPairing data...:  93%|█████████▎| 6595/7087 [00:08<00:00, 875.39it/s]\rPairing data...:  94%|█████████▍| 6685/7087 [00:08<00:00, 809.79it/s]\rPairing data...:  95%|█████████▌| 6768/7087 [00:08<00:00, 786.09it/s]\rPairing data...:  97%|█████████▋| 6860/7087 [00:08<00:00, 816.49it/s]\rPairing data...:  98%|█████████▊| 6943/7087 [00:09<00:00, 773.32it/s]\rPairing data...:  99%|█████████▉| 7022/7087 [00:09<00:00, 757.15it/s]\rPairing data...: 100%|██████████| 7087/7087 [00:09<00:00, 766.52it/s]\n"
     ]
    },
    {
     "name": "stdout",
     "output_type": "stream",
     "text": [
      "--- RUNTIME: 12.50 seconds ---\n",
      "Processed paired_df: (9003, 15)\n"
     ]
    },
    {
     "data": {
      "text/plain": [
       "Index(['subject_id', 'hadm_id', 'int_stayid', 'admittime', 'intubationtime',\n",
       "       'int_itemid', 'int_weight', 'ext_stayid', 'extubationtime',\n",
       "       'ext_itemid', 'ext_weight', 'extubationcause', 'dischtime', 'deathtime',\n",
       "       'marker'],\n",
       "      dtype='object')"
      ]
     },
     "execution_count": 6,
     "metadata": {},
     "output_type": "execute_result"
    }
   ],
   "source": [
    "paired_df = pair_data(intubation_extubation)\n",
    "paired_df = paired_df[paired_df.intubationtime != paired_df.extubationtime]  # 오류 데이터 삭제 (상기 markdown, 노션 2024.01.27 논의사항 참고)\n",
    "\n",
    "print(f'Processed paired_df: {paired_df.shape}')   # (9003, 15)\n",
    "paired_df.columns"
   ]
  },
  {
   "cell_type": "code",
   "execution_count": 7,
   "metadata": {},
   "outputs": [],
   "source": [
    "# 데이터 저장\n",
    "paired_df.to_csv('./data/paired_df.csv')"
   ]
  },
  {
   "cell_type": "markdown",
   "metadata": {},
   "source": [
    "### 3. reintubationtime  관련 변수들 계산, 데이터 정리"
   ]
  },
  {
   "cell_type": "code",
   "execution_count": 8,
   "metadata": {},
   "outputs": [],
   "source": [
    "# # 데이터 reimport 할 경우 시간변수 변환 필요\n",
    "# # 데이터 임포트\n",
    "# paired_df = pd.read_csv('./data/paired_df.csv', index_col=0)\n",
    "\n",
    "# time_cols = ['intubationtime', 'extubationtime', 'admittime', 'dischtime', 'deathtime']\n",
    "# paired_df = util.to_datetime(paired_df, time_cols)\n",
    "# print(paired_df.shape)   # (9003, 15)"
   ]
  },
  {
   "cell_type": "code",
   "execution_count": 9,
   "metadata": {},
   "outputs": [],
   "source": [
    "def get_reintubation(df):\n",
    "    start_time = time.time()   # 소요시간 계산\n",
    "    grouped_df = df.groupby(['subject_id', 'hadm_id'])\n",
    "\n",
    "    df_list = []\n",
    "    with warnings.catch_warnings():\n",
    "        warnings.simplefilter(\"ignore\", category=FutureWarning)\n",
    "            \n",
    "        for _, patient_df in tqdm(grouped_df, desc=\"Fetching reintubation data...\"):\n",
    "\n",
    "            patient_df = rnt.create_reintubation_columns(patient_df)   # reintubationtime 칼럼 초기화 (reint_marker, intext_duration, 다음 발관 시간, 재삽관 시간)\n",
    "            patient_df = rnt.sort_ventilation_sequence(patient_df)   # 삽관/발관 시간 페어링\n",
    "            patient_df = rnt.get_intext_duration(patient_df)   # 삽관시간과 발관시간의 차이 계산\n",
    "            patient_df = rnt.carryover_next_intubationtime(patient_df)   # 다음 삽관시간 가져오기\n",
    "            patient_df = rnt.get_reint_marker(patient_df)   # 환자별로 재삽관이 존재하는지 마킹\n",
    "            patient_df = rnt.get_reintubationtime(patient_df)   # 재삽관 시간 계산하기\n",
    "            \n",
    "            df_list.append(patient_df)\n",
    "\n",
    "        # 환자별 데이터 하나의 데이터프레임으로 합치기\n",
    "        reintubation_df = pd.concat(df_list)\n",
    "        reintubation_df = reintubation_df.reset_index(drop=True)\n",
    "\n",
    "        # 각 그룹별로 시퀀스 넘버링 해주기\n",
    "        reintubation_df['seq_num'] = reintubation_df.groupby(['subject_id', 'hadm_id']).cumcount() + 1\n",
    "    \n",
    "    print(\"--- RUNTIME: %.2f seconds ---\" % round(time.time() - start_time, 2))\n",
    "        \n",
    "    return reintubation_df"
   ]
  },
  {
   "cell_type": "code",
   "execution_count": 10,
   "metadata": {},
   "outputs": [
    {
     "name": "stderr",
     "output_type": "stream",
     "text": [
      "Fetching reintubation data...:   0%|          | 0/6694 [00:00<?, ?it/s]\rFetching reintubation data...:   0%|          | 16/6694 [00:00<00:41, 159.12it/s]\rFetching reintubation data...:   1%|          | 38/6694 [00:00<00:34, 193.68it/s]\rFetching reintubation data...:   1%|          | 60/6694 [00:00<00:32, 202.65it/s]\rFetching reintubation data...:   1%|          | 81/6694 [00:00<00:41, 159.41it/s]\rFetching reintubation data...:   2%|▏         | 103/6694 [00:00<00:37, 176.83it/s]\rFetching reintubation data...:   2%|▏         | 124/6694 [00:00<00:35, 185.52it/s]\rFetching reintubation data...:   2%|▏         | 146/6694 [00:00<00:33, 193.84it/s]\rFetching reintubation data...:   2%|▏         | 166/6694 [00:00<00:33, 194.69it/s]\rFetching reintubation data...:   3%|▎         | 188/6694 [00:00<00:32, 202.14it/s]\rFetching reintubation data...:   3%|▎         | 209/6694 [00:01<00:32, 199.71it/s]\rFetching reintubation data...:   3%|▎         | 230/6694 [00:01<00:32, 195.89it/s]\rFetching reintubation data...:   4%|▎         | 251/6694 [00:01<00:32, 199.63it/s]\rFetching reintubation data...:   4%|▍         | 274/6694 [00:01<00:30, 207.82it/s]\rFetching reintubation data...:   4%|▍         | 295/6694 [00:01<00:31, 203.08it/s]\rFetching reintubation data...:   5%|▍         | 316/6694 [00:01<00:32, 199.27it/s]\rFetching reintubation data...:   5%|▌         | 337/6694 [00:01<00:32, 196.30it/s]\rFetching reintubation data...:   5%|▌         | 357/6694 [00:01<00:32, 192.41it/s]\rFetching reintubation data...:   6%|▌         | 377/6694 [00:01<00:32, 193.40it/s]\rFetching reintubation data...:   6%|▌         | 400/6694 [00:02<00:31, 202.99it/s]\rFetching reintubation data...:   6%|▋         | 422/6694 [00:02<00:30, 206.38it/s]\rFetching reintubation data...:   7%|▋         | 443/6694 [00:02<00:31, 199.90it/s]\rFetching reintubation data...:   7%|▋         | 464/6694 [00:02<00:32, 191.60it/s]\rFetching reintubation data...:   7%|▋         | 484/6694 [00:02<00:32, 193.89it/s]\rFetching reintubation data...:   8%|▊         | 508/6694 [00:02<00:30, 205.52it/s]\rFetching reintubation data...:   8%|▊         | 529/6694 [00:02<00:29, 206.23it/s]\rFetching reintubation data...:   8%|▊         | 550/6694 [00:02<00:31, 194.81it/s]\rFetching reintubation data...:   9%|▊         | 570/6694 [00:02<00:31, 196.25it/s]\rFetching reintubation data...:   9%|▉         | 593/6694 [00:03<00:30, 203.33it/s]\rFetching reintubation data...:   9%|▉         | 614/6694 [00:03<00:30, 199.77it/s]\rFetching reintubation data...:   9%|▉         | 635/6694 [00:03<00:40, 151.25it/s]\rFetching reintubation data...:  10%|▉         | 657/6694 [00:03<00:36, 165.09it/s]\rFetching reintubation data...:  10%|█         | 678/6694 [00:03<00:34, 174.88it/s]\rFetching reintubation data...:  10%|█         | 700/6694 [00:03<00:32, 185.48it/s]\rFetching reintubation data...:  11%|█         | 722/6694 [00:03<00:30, 193.96it/s]\rFetching reintubation data...:  11%|█         | 743/6694 [00:03<00:32, 182.26it/s]\rFetching reintubation data...:  11%|█▏        | 763/6694 [00:03<00:31, 186.51it/s]\rFetching reintubation data...:  12%|█▏        | 787/6694 [00:04<00:29, 198.57it/s]\rFetching reintubation data...:  12%|█▏        | 810/6694 [00:04<00:28, 205.27it/s]\rFetching reintubation data...:  12%|█▏        | 831/6694 [00:04<00:28, 205.42it/s]\rFetching reintubation data...:  13%|█▎        | 855/6694 [00:04<00:27, 214.90it/s]\rFetching reintubation data...:  13%|█▎        | 877/6694 [00:04<00:27, 213.25it/s]\rFetching reintubation data...:  13%|█▎        | 899/6694 [00:04<00:27, 208.05it/s]\rFetching reintubation data...:  14%|█▎        | 920/6694 [00:04<00:27, 208.29it/s]\rFetching reintubation data...:  14%|█▍        | 942/6694 [00:04<00:27, 209.53it/s]\rFetching reintubation data...:  14%|█▍        | 964/6694 [00:04<00:27, 207.14it/s]\rFetching reintubation data...:  15%|█▍        | 985/6694 [00:05<00:27, 204.76it/s]\rFetching reintubation data...:  15%|█▌        | 1008/6694 [00:05<00:27, 208.75it/s]\rFetching reintubation data...:  15%|█▌        | 1030/6694 [00:05<00:26, 211.55it/s]\rFetching reintubation data...:  16%|█▌        | 1052/6694 [00:05<00:27, 206.75it/s]\rFetching reintubation data...:  16%|█▌        | 1073/6694 [00:05<00:27, 203.43it/s]\rFetching reintubation data...:  16%|█▋        | 1095/6694 [00:05<00:27, 206.39it/s]\rFetching reintubation data...:  17%|█▋        | 1117/6694 [00:05<00:26, 209.23it/s]\rFetching reintubation data...:  17%|█▋        | 1138/6694 [00:05<00:26, 207.65it/s]\rFetching reintubation data...:  17%|█▋        | 1160/6694 [00:05<00:26, 211.25it/s]\rFetching reintubation data...:  18%|█▊        | 1182/6694 [00:05<00:26, 211.33it/s]\rFetching reintubation data...:  18%|█▊        | 1204/6694 [00:06<00:26, 207.16it/s]\rFetching reintubation data...:  18%|█▊        | 1225/6694 [00:06<00:26, 202.97it/s]\rFetching reintubation data...:  19%|█▊        | 1247/6694 [00:06<00:26, 206.33it/s]\rFetching reintubation data...:  19%|█▉        | 1270/6694 [00:06<00:33, 161.15it/s]\rFetching reintubation data...:  19%|█▉        | 1292/6694 [00:06<00:31, 172.69it/s]\rFetching reintubation data...:  20%|█▉        | 1311/6694 [00:06<00:30, 176.39it/s]\rFetching reintubation data...:  20%|█▉        | 1331/6694 [00:06<00:29, 181.24it/s]\rFetching reintubation data...:  20%|██        | 1351/6694 [00:06<00:28, 185.34it/s]\rFetching reintubation data...:  20%|██        | 1372/6694 [00:07<00:28, 188.79it/s]\rFetching reintubation data...:  21%|██        | 1392/6694 [00:07<00:28, 185.33it/s]\rFetching reintubation data...:  21%|██        | 1411/6694 [00:07<00:28, 186.47it/s]\rFetching reintubation data...:  21%|██▏       | 1435/6694 [00:07<00:26, 199.86it/s]\rFetching reintubation data...:  22%|██▏       | 1457/6694 [00:07<00:25, 204.37it/s]\rFetching reintubation data...:  22%|██▏       | 1478/6694 [00:07<00:25, 204.46it/s]\rFetching reintubation data...:  22%|██▏       | 1499/6694 [00:07<00:25, 203.39it/s]\rFetching reintubation data...:  23%|██▎       | 1523/6694 [00:07<00:24, 214.03it/s]\rFetching reintubation data...:  23%|██▎       | 1545/6694 [00:07<00:23, 215.22it/s]\rFetching reintubation data...:  23%|██▎       | 1568/6694 [00:07<00:23, 217.35it/s]\rFetching reintubation data...:  24%|██▍       | 1590/6694 [00:08<00:23, 217.78it/s]\rFetching reintubation data...:  24%|██▍       | 1612/6694 [00:08<00:24, 210.39it/s]\rFetching reintubation data...:  24%|██▍       | 1634/6694 [00:08<00:23, 210.93it/s]\rFetching reintubation data...:  25%|██▍       | 1656/6694 [00:08<00:24, 203.64it/s]\rFetching reintubation data...:  25%|██▌       | 1677/6694 [00:08<00:24, 205.09it/s]\rFetching reintubation data...:  25%|██▌       | 1698/6694 [00:08<00:24, 205.91it/s]\rFetching reintubation data...:  26%|██▌       | 1720/6694 [00:08<00:23, 209.40it/s]\rFetching reintubation data...:  26%|██▌       | 1744/6694 [00:08<00:22, 216.46it/s]\rFetching reintubation data...:  26%|██▋       | 1766/6694 [00:08<00:22, 216.86it/s]\rFetching reintubation data...:  27%|██▋       | 1788/6694 [00:09<00:22, 215.88it/s]\rFetching reintubation data...:  27%|██▋       | 1811/6694 [00:09<00:22, 214.97it/s]\rFetching reintubation data...:  27%|██▋       | 1833/6694 [00:09<00:22, 214.56it/s]\rFetching reintubation data...:  28%|██▊       | 1855/6694 [00:09<00:23, 209.42it/s]\rFetching reintubation data...:  28%|██▊       | 1876/6694 [00:09<00:23, 204.87it/s]\rFetching reintubation data...:  28%|██▊       | 1897/6694 [00:09<00:23, 204.00it/s]\rFetching reintubation data...:  29%|██▊       | 1918/6694 [00:09<00:23, 202.81it/s]\rFetching reintubation data...:  29%|██▉       | 1939/6694 [00:09<00:23, 204.88it/s]\rFetching reintubation data...:  29%|██▉       | 1962/6694 [00:09<00:22, 211.90it/s]\rFetching reintubation data...:  30%|██▉       | 1984/6694 [00:09<00:22, 213.03it/s]\rFetching reintubation data...:  30%|██▉       | 2007/6694 [00:10<00:21, 216.43it/s]\rFetching reintubation data...:  30%|███       | 2030/6694 [00:10<00:21, 216.60it/s]\rFetching reintubation data...:  31%|███       | 2052/6694 [00:10<00:22, 208.44it/s]\rFetching reintubation data...:  31%|███       | 2073/6694 [00:10<00:31, 147.96it/s]\rFetching reintubation data...:  31%|███▏      | 2098/6694 [00:10<00:27, 170.09it/s]\rFetching reintubation data...:  32%|███▏      | 2119/6694 [00:10<00:25, 178.45it/s]\rFetching reintubation data...:  32%|███▏      | 2143/6694 [00:10<00:23, 193.20it/s]\rFetching reintubation data...:  32%|███▏      | 2166/6694 [00:10<00:22, 202.46it/s]\rFetching reintubation data...:  33%|███▎      | 2188/6694 [00:11<00:22, 201.73it/s]\rFetching reintubation data...:  33%|███▎      | 2211/6694 [00:11<00:21, 209.53it/s]\rFetching reintubation data...:  33%|███▎      | 2233/6694 [00:11<00:21, 209.52it/s]\rFetching reintubation data...:  34%|███▎      | 2255/6694 [00:11<00:21, 210.05it/s]\rFetching reintubation data...:  34%|███▍      | 2278/6694 [00:11<00:20, 215.15it/s]\rFetching reintubation data...:  34%|███▍      | 2300/6694 [00:11<00:21, 203.75it/s]\rFetching reintubation data...:  35%|███▍      | 2321/6694 [00:11<00:22, 193.80it/s]\rFetching reintubation data...:  35%|███▍      | 2341/6694 [00:11<00:22, 194.69it/s]\rFetching reintubation data...:  35%|███▌      | 2361/6694 [00:11<00:22, 191.33it/s]\rFetching reintubation data...:  36%|███▌      | 2381/6694 [00:12<00:22, 190.14it/s]\rFetching reintubation data...:  36%|███▌      | 2404/6694 [00:12<00:21, 199.70it/s]\rFetching reintubation data...:  36%|███▌      | 2425/6694 [00:12<00:21, 199.80it/s]\rFetching reintubation data...:  37%|███▋      | 2447/6694 [00:12<00:20, 205.56it/s]\rFetching reintubation data...:  37%|███▋      | 2469/6694 [00:12<00:20, 208.82it/s]\rFetching reintubation data...:  37%|███▋      | 2490/6694 [00:12<00:20, 202.42it/s]\rFetching reintubation data...:  38%|███▊      | 2511/6694 [00:12<00:20, 204.08it/s]\rFetching reintubation data...:  38%|███▊      | 2533/6694 [00:12<00:20, 207.18it/s]\rFetching reintubation data...:  38%|███▊      | 2554/6694 [00:12<00:20, 203.85it/s]\rFetching reintubation data...:  38%|███▊      | 2575/6694 [00:12<00:20, 197.91it/s]\rFetching reintubation data...:  39%|███▉      | 2598/6694 [00:13<00:20, 204.40it/s]\rFetching reintubation data...:  39%|███▉      | 2619/6694 [00:13<00:20, 203.01it/s]\rFetching reintubation data...:  39%|███▉      | 2640/6694 [00:13<00:20, 202.38it/s]\rFetching reintubation data...:  40%|███▉      | 2661/6694 [00:13<00:20, 200.76it/s]\rFetching reintubation data...:  40%|████      | 2682/6694 [00:13<00:20, 193.61it/s]\rFetching reintubation data...:  40%|████      | 2702/6694 [00:13<00:20, 190.68it/s]\rFetching reintubation data...:  41%|████      | 2723/6694 [00:13<00:20, 194.46it/s]\rFetching reintubation data...:  41%|████      | 2743/6694 [00:13<00:20, 193.29it/s]\rFetching reintubation data...:  41%|████▏     | 2764/6694 [00:13<00:19, 198.07it/s]\rFetching reintubation data...:  42%|████▏     | 2784/6694 [00:14<00:19, 197.48it/s]\rFetching reintubation data...:  42%|████▏     | 2804/6694 [00:14<00:23, 169.08it/s]\rFetching reintubation data...:  42%|████▏     | 2822/6694 [00:14<00:23, 162.96it/s]\rFetching reintubation data...:  42%|████▏     | 2840/6694 [00:14<00:23, 166.99it/s]\rFetching reintubation data...:  43%|████▎     | 2863/6694 [00:14<00:20, 183.95it/s]\rFetching reintubation data...:  43%|████▎     | 2882/6694 [00:14<00:21, 180.11it/s]\rFetching reintubation data...:  43%|████▎     | 2904/6694 [00:14<00:20, 186.55it/s]\rFetching reintubation data...:  44%|████▎     | 2924/6694 [00:14<00:19, 189.77it/s]\rFetching reintubation data...:  44%|████▍     | 2944/6694 [00:14<00:20, 187.41it/s]\rFetching reintubation data...:  44%|████▍     | 2966/6694 [00:15<00:19, 195.00it/s]\rFetching reintubation data...:  45%|████▍     | 2987/6694 [00:15<00:18, 198.72it/s]\rFetching reintubation data...:  45%|████▍     | 3007/6694 [00:15<00:28, 130.74it/s]\rFetching reintubation data...:  45%|████▌     | 3028/6694 [00:15<00:24, 146.97it/s]\rFetching reintubation data...:  46%|████▌     | 3049/6694 [00:15<00:22, 161.64it/s]\rFetching reintubation data...:  46%|████▌     | 3068/6694 [00:15<00:21, 166.62it/s]\rFetching reintubation data...:  46%|████▌     | 3091/6694 [00:15<00:20, 179.39it/s]\rFetching reintubation data...:  47%|████▋     | 3113/6694 [00:15<00:18, 188.73it/s]\rFetching reintubation data...:  47%|████▋     | 3135/6694 [00:16<00:18, 194.64it/s]\rFetching reintubation data...:  47%|████▋     | 3156/6694 [00:16<00:17, 196.73it/s]\rFetching reintubation data...:  47%|████▋     | 3178/6694 [00:16<00:17, 201.64it/s]\rFetching reintubation data...:  48%|████▊     | 3199/6694 [00:16<00:17, 201.73it/s]\rFetching reintubation data...:  48%|████▊     | 3222/6694 [00:16<00:16, 209.22it/s]\rFetching reintubation data...:  48%|████▊     | 3246/6694 [00:16<00:15, 216.90it/s]\rFetching reintubation data...:  49%|████▉     | 3268/6694 [00:16<00:15, 217.80it/s]\rFetching reintubation data...:  49%|████▉     | 3290/6694 [00:16<00:15, 216.54it/s]\rFetching reintubation data...:  49%|████▉     | 3312/6694 [00:16<00:16, 207.77it/s]\rFetching reintubation data...:  50%|████▉     | 3333/6694 [00:16<00:16, 206.92it/s]\rFetching reintubation data...:  50%|█████     | 3356/6694 [00:17<00:15, 209.95it/s]\rFetching reintubation data...:  50%|█████     | 3378/6694 [00:17<00:16, 206.94it/s]\rFetching reintubation data...:  51%|█████     | 3400/6694 [00:17<00:15, 210.67it/s]\rFetching reintubation data...:  51%|█████     | 3422/6694 [00:17<00:15, 209.92it/s]\rFetching reintubation data...:  51%|█████▏    | 3444/6694 [00:17<00:15, 207.72it/s]\rFetching reintubation data...:  52%|█████▏    | 3465/6694 [00:17<00:16, 201.42it/s]\rFetching reintubation data...:  52%|█████▏    | 3488/6694 [00:17<00:15, 206.63it/s]\rFetching reintubation data...:  52%|█████▏    | 3509/6694 [00:17<00:15, 199.48it/s]\rFetching reintubation data...:  53%|█████▎    | 3530/6694 [00:17<00:16, 196.36it/s]\rFetching reintubation data...:  53%|█████▎    | 3552/6694 [00:18<00:15, 201.87it/s]\rFetching reintubation data...:  53%|█████▎    | 3574/6694 [00:18<00:15, 205.86it/s]\rFetching reintubation data...:  54%|█████▎    | 3595/6694 [00:18<00:15, 201.82it/s]\rFetching reintubation data...:  54%|█████▍    | 3617/6694 [00:18<00:14, 205.26it/s]\rFetching reintubation data...:  54%|█████▍    | 3638/6694 [00:18<00:15, 203.11it/s]\rFetching reintubation data...:  55%|█████▍    | 3660/6694 [00:18<00:14, 206.20it/s]\rFetching reintubation data...:  55%|█████▍    | 3681/6694 [00:18<00:14, 204.32it/s]\rFetching reintubation data...:  55%|█████▌    | 3704/6694 [00:18<00:14, 209.94it/s]\rFetching reintubation data...:  56%|█████▌    | 3726/6694 [00:18<00:15, 191.66it/s]\rFetching reintubation data...:  56%|█████▌    | 3746/6694 [00:19<00:15, 191.84it/s]\rFetching reintubation data...:  56%|█████▋    | 3766/6694 [00:19<00:15, 191.98it/s]\rFetching reintubation data...:  57%|█████▋    | 3786/6694 [00:19<00:15, 192.03it/s]\rFetching reintubation data...:  57%|█████▋    | 3808/6694 [00:19<00:14, 196.63it/s]\rFetching reintubation data...:  57%|█████▋    | 3829/6694 [00:19<00:14, 199.88it/s]\rFetching reintubation data...:  58%|█████▊    | 3852/6694 [00:19<00:13, 207.99it/s]\rFetching reintubation data...:  58%|█████▊    | 3874/6694 [00:19<00:13, 211.48it/s]\rFetching reintubation data...:  58%|█████▊    | 3896/6694 [00:19<00:13, 207.26it/s]\rFetching reintubation data...:  59%|█████▊    | 3917/6694 [00:19<00:13, 206.86it/s]\rFetching reintubation data...:  59%|█████▉    | 3938/6694 [00:19<00:13, 201.01it/s]\rFetching reintubation data...:  59%|█████▉    | 3959/6694 [00:20<00:13, 199.03it/s]\rFetching reintubation data...:  59%|█████▉    | 3982/6694 [00:20<00:13, 206.71it/s]\rFetching reintubation data...:  60%|█████▉    | 4006/6694 [00:20<00:12, 214.45it/s]\rFetching reintubation data...:  60%|██████    | 4028/6694 [00:20<00:12, 212.03it/s]\rFetching reintubation data...:  61%|██████    | 4050/6694 [00:20<00:12, 214.05it/s]\rFetching reintubation data...:  61%|██████    | 4073/6694 [00:20<00:12, 217.35it/s]\rFetching reintubation data...:  61%|██████    | 4096/6694 [00:20<00:11, 218.89it/s]\rFetching reintubation data...:  62%|██████▏   | 4118/6694 [00:20<00:12, 214.18it/s]\rFetching reintubation data...:  62%|██████▏   | 4140/6694 [00:20<00:11, 213.10it/s]\rFetching reintubation data...:  62%|██████▏   | 4162/6694 [00:20<00:11, 212.93it/s]\rFetching reintubation data...:  63%|██████▎   | 4184/6694 [00:21<00:18, 132.46it/s]\rFetching reintubation data...:  63%|██████▎   | 4205/6694 [00:21<00:16, 147.67it/s]\rFetching reintubation data...:  63%|██████▎   | 4226/6694 [00:21<00:15, 161.26it/s]\rFetching reintubation data...:  63%|██████▎   | 4247/6694 [00:21<00:14, 171.18it/s]\rFetching reintubation data...:  64%|██████▎   | 4267/6694 [00:21<00:13, 176.29it/s]\rFetching reintubation data...:  64%|██████▍   | 4289/6694 [00:21<00:12, 186.39it/s]\rFetching reintubation data...:  64%|██████▍   | 4310/6694 [00:21<00:12, 191.77it/s]\rFetching reintubation data...:  65%|██████▍   | 4331/6694 [00:22<00:12, 193.60it/s]\rFetching reintubation data...:  65%|██████▌   | 4354/6694 [00:22<00:11, 203.27it/s]\rFetching reintubation data...:  65%|██████▌   | 4375/6694 [00:22<00:11, 202.16it/s]\rFetching reintubation data...:  66%|██████▌   | 4396/6694 [00:22<00:11, 203.76it/s]\rFetching reintubation data...:  66%|██████▌   | 4417/6694 [00:22<00:11, 202.90it/s]\rFetching reintubation data...:  66%|██████▋   | 4438/6694 [00:22<00:11, 201.41it/s]\rFetching reintubation data...:  67%|██████▋   | 4460/6694 [00:22<00:10, 206.18it/s]\rFetching reintubation data...:  67%|██████▋   | 4481/6694 [00:22<00:10, 203.14it/s]\rFetching reintubation data...:  67%|██████▋   | 4502/6694 [00:22<00:10, 202.19it/s]\rFetching reintubation data...:  68%|██████▊   | 4523/6694 [00:22<00:10, 198.68it/s]\rFetching reintubation data...:  68%|██████▊   | 4543/6694 [00:23<00:11, 194.32it/s]\rFetching reintubation data...:  68%|██████▊   | 4565/6694 [00:23<00:10, 201.30it/s]\rFetching reintubation data...:  69%|██████▊   | 4586/6694 [00:23<00:10, 200.66it/s]\rFetching reintubation data...:  69%|██████▉   | 4607/6694 [00:23<00:10, 192.22it/s]\rFetching reintubation data...:  69%|██████▉   | 4627/6694 [00:23<00:10, 189.63it/s]\rFetching reintubation data...:  69%|██████▉   | 4649/6694 [00:23<00:10, 196.67it/s]\rFetching reintubation data...:  70%|██████▉   | 4672/6694 [00:23<00:09, 203.26it/s]\rFetching reintubation data...:  70%|███████   | 4693/6694 [00:23<00:10, 199.83it/s]\rFetching reintubation data...:  70%|███████   | 4714/6694 [00:23<00:09, 201.35it/s]\rFetching reintubation data...:  71%|███████   | 4737/6694 [00:24<00:09, 207.15it/s]\rFetching reintubation data...:  71%|███████   | 4758/6694 [00:24<00:09, 199.86it/s]\rFetching reintubation data...:  71%|███████▏  | 4779/6694 [00:24<00:09, 202.70it/s]\rFetching reintubation data...:  72%|███████▏  | 4800/6694 [00:24<00:09, 202.70it/s]\rFetching reintubation data...:  72%|███████▏  | 4821/6694 [00:24<00:09, 201.28it/s]\rFetching reintubation data...:  72%|███████▏  | 4842/6694 [00:24<00:09, 202.32it/s]\rFetching reintubation data...:  73%|███████▎  | 4863/6694 [00:24<00:09, 193.30it/s]\rFetching reintubation data...:  73%|███████▎  | 4883/6694 [00:24<00:09, 185.73it/s]\rFetching reintubation data...:  73%|███████▎  | 4902/6694 [00:24<00:09, 185.69it/s]\rFetching reintubation data...:  74%|███████▎  | 4921/6694 [00:25<00:09, 182.78it/s]\rFetching reintubation data...:  74%|███████▍  | 4940/6694 [00:25<00:09, 182.75it/s]\rFetching reintubation data...:  74%|███████▍  | 4960/6694 [00:25<00:09, 187.14it/s]\rFetching reintubation data...:  74%|███████▍  | 4981/6694 [00:25<00:08, 192.64it/s]\rFetching reintubation data...:  75%|███████▍  | 5004/6694 [00:25<00:08, 202.33it/s]\rFetching reintubation data...:  75%|███████▌  | 5026/6694 [00:25<00:08, 205.70it/s]\rFetching reintubation data...:  75%|███████▌  | 5050/6694 [00:25<00:07, 213.86it/s]\rFetching reintubation data...:  76%|███████▌  | 5074/6694 [00:25<00:07, 219.59it/s]\rFetching reintubation data...:  76%|███████▌  | 5096/6694 [00:25<00:07, 219.07it/s]\rFetching reintubation data...:  76%|███████▋  | 5118/6694 [00:25<00:07, 217.42it/s]\rFetching reintubation data...:  77%|███████▋  | 5141/6694 [00:26<00:07, 219.83it/s]\rFetching reintubation data...:  77%|███████▋  | 5163/6694 [00:26<00:07, 212.37it/s]\rFetching reintubation data...:  77%|███████▋  | 5186/6694 [00:26<00:06, 215.60it/s]\rFetching reintubation data...:  78%|███████▊  | 5208/6694 [00:26<00:07, 210.16it/s]\rFetching reintubation data...:  78%|███████▊  | 5230/6694 [00:26<00:06, 212.98it/s]\rFetching reintubation data...:  78%|███████▊  | 5252/6694 [00:26<00:07, 197.25it/s]\rFetching reintubation data...:  79%|███████▉  | 5275/6694 [00:26<00:06, 206.28it/s]\rFetching reintubation data...:  79%|███████▉  | 5297/6694 [00:26<00:06, 206.08it/s]\rFetching reintubation data...:  79%|███████▉  | 5319/6694 [00:26<00:06, 208.26it/s]\rFetching reintubation data...:  80%|███████▉  | 5340/6694 [00:27<00:06, 204.65it/s]\rFetching reintubation data...:  80%|████████  | 5361/6694 [00:27<00:06, 201.56it/s]\rFetching reintubation data...:  80%|████████  | 5382/6694 [00:27<00:06, 192.95it/s]\rFetching reintubation data...:  81%|████████  | 5402/6694 [00:27<00:06, 190.66it/s]\rFetching reintubation data...:  81%|████████  | 5425/6694 [00:27<00:06, 200.56it/s]\rFetching reintubation data...:  81%|████████▏ | 5446/6694 [00:27<00:06, 196.53it/s]\rFetching reintubation data...:  82%|████████▏ | 5466/6694 [00:27<00:06, 195.31it/s]\rFetching reintubation data...:  82%|████████▏ | 5486/6694 [00:27<00:06, 185.53it/s]\rFetching reintubation data...:  82%|████████▏ | 5505/6694 [00:27<00:06, 171.10it/s]\rFetching reintubation data...:  83%|████████▎ | 5524/6694 [00:28<00:06, 175.67it/s]\rFetching reintubation data...:  83%|████████▎ | 5545/6694 [00:28<00:06, 184.61it/s]\rFetching reintubation data...:  83%|████████▎ | 5564/6694 [00:28<00:10, 109.45it/s]\rFetching reintubation data...:  83%|████████▎ | 5587/6694 [00:28<00:08, 132.52it/s]\rFetching reintubation data...:  84%|████████▍ | 5608/6694 [00:28<00:07, 149.15it/s]\rFetching reintubation data...:  84%|████████▍ | 5627/6694 [00:28<00:06, 157.63it/s]\rFetching reintubation data...:  84%|████████▍ | 5651/6694 [00:28<00:05, 176.88it/s]\rFetching reintubation data...:  85%|████████▍ | 5672/6694 [00:28<00:05, 183.62it/s]\rFetching reintubation data...:  85%|████████▌ | 5692/6694 [00:29<00:05, 184.55it/s]\rFetching reintubation data...:  85%|████████▌ | 5714/6694 [00:29<00:05, 193.75it/s]\rFetching reintubation data...:  86%|████████▌ | 5737/6694 [00:29<00:04, 203.37it/s]\rFetching reintubation data...:  86%|████████▌ | 5758/6694 [00:29<00:04, 196.82it/s]\rFetching reintubation data...:  86%|████████▋ | 5779/6694 [00:29<00:04, 191.89it/s]\rFetching reintubation data...:  87%|████████▋ | 5802/6694 [00:29<00:04, 200.81it/s]\rFetching reintubation data...:  87%|████████▋ | 5824/6694 [00:29<00:04, 203.44it/s]\rFetching reintubation data...:  87%|████████▋ | 5845/6694 [00:29<00:04, 202.99it/s]\rFetching reintubation data...:  88%|████████▊ | 5866/6694 [00:29<00:04, 200.40it/s]\rFetching reintubation data...:  88%|████████▊ | 5888/6694 [00:30<00:03, 205.42it/s]\rFetching reintubation data...:  88%|████████▊ | 5910/6694 [00:30<00:03, 209.03it/s]\rFetching reintubation data...:  89%|████████▊ | 5931/6694 [00:30<00:03, 207.50it/s]\rFetching reintubation data...:  89%|████████▉ | 5952/6694 [00:30<00:03, 204.05it/s]\rFetching reintubation data...:  89%|████████▉ | 5973/6694 [00:30<00:03, 205.18it/s]\rFetching reintubation data...:  90%|████████▉ | 5996/6694 [00:30<00:03, 210.60it/s]\rFetching reintubation data...:  90%|████████▉ | 6019/6694 [00:30<00:03, 215.01it/s]\rFetching reintubation data...:  90%|█████████ | 6043/6694 [00:30<00:02, 221.06it/s]\rFetching reintubation data...:  91%|█████████ | 6066/6694 [00:30<00:02, 221.73it/s]\rFetching reintubation data...:  91%|█████████ | 6089/6694 [00:30<00:02, 211.71it/s]\rFetching reintubation data...:  91%|█████████▏| 6113/6694 [00:31<00:02, 219.12it/s]\rFetching reintubation data...:  92%|█████████▏| 6136/6694 [00:31<00:02, 212.46it/s]\rFetching reintubation data...:  92%|█████████▏| 6158/6694 [00:31<00:02, 208.12it/s]\rFetching reintubation data...:  92%|█████████▏| 6180/6694 [00:31<00:02, 206.81it/s]\rFetching reintubation data...:  93%|█████████▎| 6201/6694 [00:31<00:02, 205.97it/s]\rFetching reintubation data...:  93%|█████████▎| 6222/6694 [00:31<00:02, 203.06it/s]\rFetching reintubation data...:  93%|█████████▎| 6243/6694 [00:31<00:02, 204.13it/s]\rFetching reintubation data...:  94%|█████████▎| 6264/6694 [00:31<00:02, 203.59it/s]\rFetching reintubation data...:  94%|█████████▍| 6285/6694 [00:31<00:02, 203.68it/s]\rFetching reintubation data...:  94%|█████████▍| 6306/6694 [00:32<00:01, 199.97it/s]\rFetching reintubation data...:  95%|█████████▍| 6327/6694 [00:32<00:01, 199.41it/s]\rFetching reintubation data...:  95%|█████████▍| 6348/6694 [00:32<00:01, 201.88it/s]\rFetching reintubation data...:  95%|█████████▌| 6370/6694 [00:32<00:01, 205.36it/s]\rFetching reintubation data...:  95%|█████████▌| 6391/6694 [00:32<00:01, 204.33it/s]\rFetching reintubation data...:  96%|█████████▌| 6414/6694 [00:32<00:01, 210.59it/s]\rFetching reintubation data...:  96%|█████████▌| 6436/6694 [00:32<00:01, 206.10it/s]\rFetching reintubation data...:  96%|█████████▋| 6457/6694 [00:32<00:01, 207.22it/s]\rFetching reintubation data...:  97%|█████████▋| 6480/6694 [00:32<00:01, 211.83it/s]\rFetching reintubation data...:  97%|█████████▋| 6502/6694 [00:32<00:00, 212.51it/s]\rFetching reintubation data...:  97%|█████████▋| 6524/6694 [00:33<00:00, 214.69it/s]\rFetching reintubation data...:  98%|█████████▊| 6546/6694 [00:33<00:00, 214.57it/s]\rFetching reintubation data...:  98%|█████████▊| 6568/6694 [00:33<00:00, 207.01it/s]\rFetching reintubation data...:  98%|█████████▊| 6591/6694 [00:33<00:00, 213.00it/s]\rFetching reintubation data...:  99%|█████████▉| 6613/6694 [00:33<00:00, 209.27it/s]\rFetching reintubation data...:  99%|█████████▉| 6634/6694 [00:33<00:00, 204.60it/s]\rFetching reintubation data...:  99%|█████████▉| 6655/6694 [00:33<00:00, 204.38it/s]\rFetching reintubation data...: 100%|█████████▉| 6677/6694 [00:33<00:00, 207.68it/s]\rFetching reintubation data...: 100%|██████████| 6694/6694 [00:33<00:00, 197.46it/s]\n"
     ]
    },
    {
     "name": "stdout",
     "output_type": "stream",
     "text": [
      "--- RUNTIME: 35.48 seconds ---\n",
      "Processed reintubation_df: (9003, 20)\n"
     ]
    },
    {
     "data": {
      "text/plain": [
       "Index(['subject_id', 'hadm_id', 'int_stayid', 'admittime', 'intubationtime',\n",
       "       'int_itemid', 'int_weight', 'ext_stayid', 'extubationtime',\n",
       "       'ext_itemid', 'ext_weight', 'extubationcause', 'dischtime', 'deathtime',\n",
       "       'marker', 'reint_marker', 'intext_duration', 'reintubation_eventtime',\n",
       "       'reintubationtime', 'seq_num'],\n",
       "      dtype='object')"
      ]
     },
     "execution_count": 10,
     "metadata": {},
     "output_type": "execute_result"
    }
   ],
   "source": [
    "reintubation_df = get_reintubation(paired_df)\n",
    "print(f'Processed reintubation_df: {reintubation_df.shape}')   # (9003, 20)\n",
    "reintubation_df.columns"
   ]
  },
  {
   "cell_type": "code",
   "execution_count": 11,
   "metadata": {},
   "outputs": [],
   "source": [
    "# 데이터 저장\n",
    "reintubation_df.to_csv('./data/reintubation_df.csv')"
   ]
  },
  {
   "cell_type": "markdown",
   "metadata": {},
   "source": [
    "### 4. 결측치 처리\n",
    "- 일단 결측치는 제거하거나 대체하지 않고 최대한 가져가기로 했음. 그러나, 최종 발관시간이 NULL인 케이스만 제한적으로 deathtime, dischtime을 이용해 대체하기로 논의함. 이는 삽관시간과 발관시간의 차이값을 (mv 걸러내기 위함) 최대한 확보하기 위함."
   ]
  },
  {
   "cell_type": "code",
   "execution_count": 12,
   "metadata": {},
   "outputs": [
    {
     "name": "stdout",
     "output_type": "stream",
     "text": [
      "Converted intubationtime to datetime.\n",
      "Converted extubationtime to datetime.\n",
      "Converted admittime to datetime.\n",
      "Converted dischtime to datetime.\n",
      "Converted deathtime to datetime.\n",
      "(9003, 20)\n"
     ]
    }
   ],
   "source": [
    "# 데이터 임포트\n",
    "reintubation_df = pd.read_csv('./data/reintubation_df.csv', index_col=0)\n",
    "\n",
    "# 시간변수 변환\n",
    "time_cols = ['intubationtime', 'extubationtime', 'admittime', 'dischtime', 'deathtime']\n",
    "reintubation_df = util.to_datetime(reintubation_df, time_cols)\n",
    "\n",
    "print(reintubation_df.shape)   # (9003, 20)"
   ]
  },
  {
   "cell_type": "code",
   "execution_count": 13,
   "metadata": {},
   "outputs": [],
   "source": [
    "def impute_null(df):\n",
    "    start_time = time.time()   # 소요시간 계산\n",
    "\n",
    "    df = imp.init_marker(df)   # 'marker' 칼럼 생성 (결측치 대체 로그가 저장됨)\n",
    "    grouped_df = df.groupby(['subject_id', 'hadm_id'])\n",
    "\n",
    "    df_list = []\n",
    "    with warnings.catch_warnings():\n",
    "        warnings.simplefilter(\"ignore\", category=FutureWarning)\n",
    "            \n",
    "        for _, patient_df in tqdm(grouped_df, desc=\"Processing null data...\"):\n",
    "\n",
    "            patient_df = imp.impute_final_extubation(patient_df)   # 최종 발관시간이 NULL인 경우 deathtime 또는 dischtime으로 대체\n",
    "            patient_df = rnt.get_intext_duration(patient_df)   # 삽관시간과 발관시간의 차이 다시 계산\n",
    "\n",
    "            df_list.append(patient_df)\n",
    "\n",
    "        # 환자별 데이터 하나의 데이터프레임으로 합치기\n",
    "        reintubation_df = pd.concat(df_list)\n",
    "        reintubation_df = reintubation_df.reset_index(drop=True)\n",
    "    \n",
    "    print(\"--- RUNTIME: %.2f seconds ---\" % round(time.time() - start_time, 2))\n",
    "        \n",
    "    return reintubation_df"
   ]
  },
  {
   "cell_type": "code",
   "execution_count": 14,
   "metadata": {},
   "outputs": [
    {
     "name": "stderr",
     "output_type": "stream",
     "text": [
      "Processing null data...:   0%|          | 0/6694 [00:00<?, ?it/s]\rProcessing null data...:   2%|▏         | 101/6694 [00:00<00:06, 1009.95it/s]\rProcessing null data...:   3%|▎         | 224/6694 [00:00<00:05, 1124.48it/s]\rProcessing null data...:   5%|▌         | 354/6694 [00:00<00:05, 1202.04it/s]\rProcessing null data...:   7%|▋         | 475/6694 [00:00<00:05, 1142.37it/s]\rProcessing null data...:   9%|▉         | 603/6694 [00:00<00:05, 1188.39it/s]\rProcessing null data...:  11%|█         | 723/6694 [00:00<00:06, 886.69it/s] \rProcessing null data...:  13%|█▎        | 852/6694 [00:00<00:05, 989.81it/s]\rProcessing null data...:  14%|█▍        | 965/6694 [00:00<00:05, 1024.88it/s]\rProcessing null data...:  16%|█▌        | 1080/6694 [00:01<00:05, 1058.06it/s]\rProcessing null data...:  18%|█▊        | 1205/6694 [00:01<00:04, 1107.48it/s]\rProcessing null data...:  20%|█▉        | 1322/6694 [00:01<00:04, 1122.96it/s]\rProcessing null data...:  21%|██▏       | 1438/6694 [00:01<00:04, 1122.13it/s]\rProcessing null data...:  23%|██▎       | 1553/6694 [00:01<00:05, 868.07it/s] \rProcessing null data...:  25%|██▍       | 1673/6694 [00:01<00:05, 948.31it/s]\rProcessing null data...:  27%|██▋       | 1809/6694 [00:01<00:04, 1054.05it/s]\rProcessing null data...:  29%|██▉       | 1933/6694 [00:01<00:04, 1102.66it/s]\rProcessing null data...:  31%|███       | 2058/6694 [00:01<00:04, 1143.38it/s]\rProcessing null data...:  33%|███▎      | 2178/6694 [00:02<00:04, 1072.70it/s]\rProcessing null data...:  34%|███▍      | 2307/6694 [00:02<00:03, 1128.94it/s]\rProcessing null data...:  36%|███▋      | 2431/6694 [00:02<00:03, 1156.77it/s]\rProcessing null data...:  38%|███▊      | 2550/6694 [00:02<00:05, 777.39it/s] \rProcessing null data...:  40%|███▉      | 2674/6694 [00:02<00:04, 874.25it/s]\rProcessing null data...:  42%|████▏     | 2796/6694 [00:02<00:04, 953.08it/s]\rProcessing null data...:  44%|████▎     | 2915/6694 [00:02<00:03, 1010.84it/s]\rProcessing null data...:  45%|████▌     | 3045/6694 [00:02<00:03, 1086.58it/s]\rProcessing null data...:  47%|████▋     | 3176/6694 [00:03<00:03, 1147.49it/s]\rProcessing null data...:  49%|████▉     | 3301/6694 [00:03<00:02, 1175.97it/s]\rProcessing null data...:  51%|█████▏    | 3433/6694 [00:03<00:02, 1216.29it/s]\rProcessing null data...:  53%|█████▎    | 3559/6694 [00:03<00:02, 1221.43it/s]\rProcessing null data...:  55%|█████▌    | 3684/6694 [00:03<00:02, 1215.19it/s]\rProcessing null data...:  57%|█████▋    | 3808/6694 [00:03<00:03, 779.16it/s] \rProcessing null data...:  59%|█████▉    | 3950/6694 [00:03<00:03, 911.96it/s]\rProcessing null data...:  61%|██████    | 4081/6694 [00:03<00:02, 1002.35it/s]\rProcessing null data...:  63%|██████▎   | 4202/6694 [00:04<00:02, 1053.69it/s]\rProcessing null data...:  65%|██████▍   | 4324/6694 [00:04<00:02, 1091.67it/s]\rProcessing null data...:  67%|██████▋   | 4462/6694 [00:04<00:01, 1169.40it/s]\rProcessing null data...:  69%|██████▊   | 4587/6694 [00:04<00:01, 1165.86it/s]\rProcessing null data...:  70%|███████   | 4713/6694 [00:04<00:01, 1186.28it/s]\rProcessing null data...:  72%|███████▏  | 4842/6694 [00:04<00:01, 1209.33it/s]\rProcessing null data...:  74%|███████▍  | 4974/6694 [00:04<00:01, 1235.80it/s]\rProcessing null data...:  76%|███████▌  | 5100/6694 [00:04<00:01, 1231.47it/s]\rProcessing null data...:  78%|███████▊  | 5225/6694 [00:04<00:01, 1228.37it/s]\rProcessing null data...:  80%|███████▉  | 5349/6694 [00:05<00:01, 716.08it/s] \rProcessing null data...:  82%|████████▏ | 5465/6694 [00:05<00:01, 801.28it/s]\rProcessing null data...:  84%|████████▎ | 5603/6694 [00:05<00:01, 926.71it/s]\rProcessing null data...:  85%|████████▌ | 5717/6694 [00:05<00:01, 915.19it/s]\rProcessing null data...:  87%|████████▋ | 5857/6694 [00:05<00:00, 1031.97it/s]\rProcessing null data...:  89%|████████▉ | 5991/6694 [00:05<00:00, 1110.80it/s]\rProcessing null data...:  92%|█████████▏| 6133/6694 [00:05<00:00, 1193.49it/s]\rProcessing null data...:  94%|█████████▎| 6261/6694 [00:05<00:00, 1202.43it/s]\rProcessing null data...:  95%|█████████▌| 6388/6694 [00:06<00:00, 1204.50it/s]\rProcessing null data...:  98%|█████████▊| 6538/6694 [00:06<00:00, 1287.30it/s]\rProcessing null data...: 100%|█████████▉| 6672/6694 [00:06<00:00, 1298.58it/s]\rProcessing null data...: 100%|██████████| 6694/6694 [00:06<00:00, 1067.72it/s]\n"
     ]
    },
    {
     "name": "stdout",
     "output_type": "stream",
     "text": [
      "--- RUNTIME: 8.81 seconds ---\n",
      "Processed reintubation_df2: (9003, 20)\n"
     ]
    },
    {
     "data": {
      "text/plain": [
       "Index(['subject_id', 'hadm_id', 'int_stayid', 'admittime', 'intubationtime',\n",
       "       'int_itemid', 'int_weight', 'ext_stayid', 'extubationtime',\n",
       "       'ext_itemid', 'ext_weight', 'extubationcause', 'dischtime', 'deathtime',\n",
       "       'marker', 'reint_marker', 'intext_duration', 'reintubation_eventtime',\n",
       "       'reintubationtime', 'seq_num'],\n",
       "      dtype='object')"
      ]
     },
     "execution_count": 14,
     "metadata": {},
     "output_type": "execute_result"
    }
   ],
   "source": [
    "reintubation_df2 = impute_null(reintubation_df)\n",
    "print(f'Processed reintubation_df2: {reintubation_df2.shape}')   # (9003, 20)\n",
    "reintubation_df2.columns"
   ]
  },
  {
   "cell_type": "code",
   "execution_count": 16,
   "metadata": {},
   "outputs": [],
   "source": [
    "# 데이터 저장\n",
    "reintubation_df2.to_csv('./data/reintubation_df2.csv')"
   ]
  },
  {
   "cell_type": "markdown",
   "metadata": {},
   "source": [
    "### 5. 환자군 분류 (ext failure, non-failure, etc.)\n",
    "- subjectlist1: mvtime 제거 안한 버전\n",
    "- subjectlist2: mvtime 제거 한 버전"
   ]
  },
  {
   "cell_type": "markdown",
   "metadata": {},
   "source": [
    "#### 분류 코드\n",
    "\n",
    "11    재삽관 없이 발관후 48시간 넘어 퇴원 | nonfailure\n",
    "\n",
    "121   재삽관 없이 발관후 48시간 이내 사망 X | nonfailure\n",
    "\n",
    "1221  재삽관 없이 발관후 24시간 이내 사망 | death\n",
    "\n",
    "1222  재삽관 없이 발관후 24~48시간 이내 사망 | death\n",
    "\n",
    "211   48시간 이내 재삽관 | failure\n",
    "\n",
    "212   48시간 너머 재삽관 | nonfailure\n",
    "\n",
    "221   최종 발관 이후 48시간 넘어 퇴원 | nonfailure\n",
    "\n",
    "2221  최종 발관 이후 48시간 이내 사망 X | nonfailure\n",
    "\n",
    "22221 최종 발관 이후 24시간 이내 사망 | death\n",
    "\n",
    "22222 최종 발관 이후 24~48시간 이내 사망 | death\n",
    "\n",
    "999   (null case)현발관-다음발관이 48시간 이내 | Failure\n",
    "\n",
    "998   (null case)현삽관-다음삽관이 48시간 이내 | Failure\n",
    "\n",
    "9999  (null case) non-failure 판단 불가 | 제거"
   ]
  },
  {
   "cell_type": "code",
   "execution_count": 17,
   "metadata": {},
   "outputs": [
    {
     "name": "stdout",
     "output_type": "stream",
     "text": [
      "Converted intubationtime to datetime.\n",
      "Converted extubationtime to datetime.\n",
      "Converted admittime to datetime.\n",
      "Converted dischtime to datetime.\n",
      "Converted deathtime to datetime.\n",
      "(9003, 20)\n"
     ]
    }
   ],
   "source": [
    "# 데이터 임포트\n",
    "reintubation_df2 = pd.read_csv('./data/reintubation_df2.csv', index_col=0)\n",
    "\n",
    "# 시간변수 변환\n",
    "time_cols = ['intubationtime', 'extubationtime', 'admittime', 'dischtime', 'deathtime']\n",
    "reintubation_df2 = util.to_datetime(reintubation_df2, time_cols)\n",
    "\n",
    "print(reintubation_df2.shape)   # (9003, 20)"
   ]
  },
  {
   "cell_type": "code",
   "execution_count": 18,
   "metadata": {},
   "outputs": [],
   "source": [
    "def categorize_patients(df):\n",
    "    # 분류 코드 기준\n",
    "    categories = {\n",
    "        \"nonfailure\": [11, 121, 212, 221, 2221],\n",
    "        \"failure\": [211, 999, 998],\n",
    "        \"death\": [1221, 1222, 22221, 22222]\n",
    "    }\n",
    "\n",
    "    start_time = time.time()   # 소요시간 계산\n",
    "\n",
    "    # df = imp.init_marker(df)   # 'marker' 칼럼 생성 (결측치 대체 로그가 저장됨)\n",
    "    grouped_df = df.groupby(['subject_id', 'hadm_id'])\n",
    "\n",
    "    df_list = []\n",
    "    with warnings.catch_warnings():\n",
    "        warnings.simplefilter(\"ignore\", category=FutureWarning)\n",
    "            \n",
    "        for _, patient_df in tqdm(grouped_df, desc=\"Categorizing extubation failure vs non-failure...\"):\n",
    "\n",
    "            patient_df = cls.init_class_columns(patient_df)   # flag_mvtime, ext_to_death, ext_to_disch, disch_to_death, class_code 칼럼 초기화\n",
    "            patient_df = cls.fill_class_columns(patient_df)   # 초기화한 칼럼 값(flag_mvtime, ext_to_death, ext_to_disch, disch_to_death) 계산해서 채워주기\n",
    "            patient_df = cls.classify_patients(patient_df)   # 분류해서 class_code 입력해주는 코드\n",
    "            patient_df = cls.categorize_code(patient_df, categories)   # class_code 기반으로 extubation failure, non-failure 분류해주는 코드\n",
    "            df_list.append(patient_df)\n",
    "\n",
    "        # 환자별 데이터 하나의 데이터프레임으로 합치기\n",
    "        subjects_df = pd.concat(df_list)\n",
    "        subjects_df = subjects_df.reset_index(drop=True)\n",
    "    \n",
    "    print(\"--- RUNTIME: %.2f seconds ---\" % round(time.time() - start_time, 2))\n",
    "        \n",
    "    return subjects_df"
   ]
  },
  {
   "cell_type": "code",
   "execution_count": 19,
   "metadata": {},
   "outputs": [
    {
     "name": "stderr",
     "output_type": "stream",
     "text": [
      "Categorizing extubation failure vs non-failure...:   0%|          | 0/6694 [00:00<?, ?it/s]\rCategorizing extubation failure vs non-failure...:   0%|          | 21/6694 [00:00<00:31, 209.92it/s]\rCategorizing extubation failure vs non-failure...:   1%|          | 47/6694 [00:00<00:27, 238.78it/s]\rCategorizing extubation failure vs non-failure...:   1%|          | 72/6694 [00:00<00:27, 237.54it/s]\rCategorizing extubation failure vs non-failure...:   1%|▏         | 98/6694 [00:00<00:27, 242.49it/s]\rCategorizing extubation failure vs non-failure...:   2%|▏         | 123/6694 [00:00<00:27, 238.41it/s]\rCategorizing extubation failure vs non-failure...:   2%|▏         | 148/6694 [00:00<00:27, 242.22it/s]\rCategorizing extubation failure vs non-failure...:   3%|▎         | 174/6694 [00:00<00:26, 245.55it/s]\rCategorizing extubation failure vs non-failure...:   3%|▎         | 201/6694 [00:00<00:25, 251.60it/s]\rCategorizing extubation failure vs non-failure...:   3%|▎         | 227/6694 [00:00<00:26, 247.35it/s]\rCategorizing extubation failure vs non-failure...:   4%|▍         | 252/6694 [00:01<00:26, 243.41it/s]\rCategorizing extubation failure vs non-failure...:   4%|▍         | 277/6694 [00:01<00:26, 239.81it/s]\rCategorizing extubation failure vs non-failure...:   5%|▍         | 302/6694 [00:01<00:26, 242.79it/s]\rCategorizing extubation failure vs non-failure...:   5%|▍         | 327/6694 [00:01<00:26, 240.65it/s]\rCategorizing extubation failure vs non-failure...:   5%|▌         | 354/6694 [00:01<00:25, 246.87it/s]\rCategorizing extubation failure vs non-failure...:   6%|▌         | 379/6694 [00:01<00:25, 244.91it/s]\rCategorizing extubation failure vs non-failure...:   6%|▌         | 406/6694 [00:01<00:25, 250.78it/s]\rCategorizing extubation failure vs non-failure...:   6%|▋         | 432/6694 [00:01<00:24, 252.01it/s]\rCategorizing extubation failure vs non-failure...:   7%|▋         | 458/6694 [00:01<00:24, 249.95it/s]\rCategorizing extubation failure vs non-failure...:   7%|▋         | 484/6694 [00:01<00:25, 246.40it/s]\rCategorizing extubation failure vs non-failure...:   8%|▊         | 511/6694 [00:02<00:24, 253.22it/s]\rCategorizing extubation failure vs non-failure...:   8%|▊         | 537/6694 [00:02<00:32, 191.42it/s]\rCategorizing extubation failure vs non-failure...:   8%|▊         | 560/6694 [00:02<00:30, 199.67it/s]\rCategorizing extubation failure vs non-failure...:   9%|▊         | 585/6694 [00:02<00:28, 212.41it/s]\rCategorizing extubation failure vs non-failure...:   9%|▉         | 610/6694 [00:02<00:27, 220.64it/s]\rCategorizing extubation failure vs non-failure...:   9%|▉         | 634/6694 [00:02<00:27, 224.09it/s]\rCategorizing extubation failure vs non-failure...:  10%|▉         | 660/6694 [00:02<00:25, 232.83it/s]\rCategorizing extubation failure vs non-failure...:  10%|█         | 685/6694 [00:02<00:25, 236.36it/s]\rCategorizing extubation failure vs non-failure...:  11%|█         | 711/6694 [00:03<00:24, 241.77it/s]\rCategorizing extubation failure vs non-failure...:  11%|█         | 736/6694 [00:03<00:25, 232.68it/s]\rCategorizing extubation failure vs non-failure...:  11%|█▏        | 760/6694 [00:03<00:26, 227.04it/s]\rCategorizing extubation failure vs non-failure...:  12%|█▏        | 784/6694 [00:03<00:25, 228.75it/s]\rCategorizing extubation failure vs non-failure...:  12%|█▏        | 808/6694 [00:03<00:26, 219.46it/s]\rCategorizing extubation failure vs non-failure...:  12%|█▏        | 832/6694 [00:03<00:26, 222.69it/s]\rCategorizing extubation failure vs non-failure...:  13%|█▎        | 855/6694 [00:03<00:27, 212.46it/s]\rCategorizing extubation failure vs non-failure...:  13%|█▎        | 879/6694 [00:03<00:26, 216.47it/s]\rCategorizing extubation failure vs non-failure...:  14%|█▎        | 904/6694 [00:03<00:25, 225.21it/s]\rCategorizing extubation failure vs non-failure...:  14%|█▍        | 927/6694 [00:04<00:26, 219.38it/s]\rCategorizing extubation failure vs non-failure...:  14%|█▍        | 950/6694 [00:04<00:26, 218.51it/s]\rCategorizing extubation failure vs non-failure...:  15%|█▍        | 975/6694 [00:04<00:25, 226.81it/s]\rCategorizing extubation failure vs non-failure...:  15%|█▍        | 998/6694 [00:04<00:25, 222.59it/s]\rCategorizing extubation failure vs non-failure...:  15%|█▌        | 1021/6694 [00:04<00:25, 218.80it/s]\rCategorizing extubation failure vs non-failure...:  16%|█▌        | 1044/6694 [00:04<00:25, 221.66it/s]\rCategorizing extubation failure vs non-failure...:  16%|█▌        | 1067/6694 [00:04<00:34, 162.68it/s]\rCategorizing extubation failure vs non-failure...:  16%|█▋        | 1093/6694 [00:04<00:30, 183.54it/s]\rCategorizing extubation failure vs non-failure...:  17%|█▋        | 1118/6694 [00:04<00:28, 198.67it/s]\rCategorizing extubation failure vs non-failure...:  17%|█▋        | 1140/6694 [00:05<00:27, 203.67it/s]\rCategorizing extubation failure vs non-failure...:  17%|█▋        | 1166/6694 [00:05<00:25, 217.09it/s]\rCategorizing extubation failure vs non-failure...:  18%|█▊        | 1189/6694 [00:05<00:25, 218.24it/s]\rCategorizing extubation failure vs non-failure...:  18%|█▊        | 1212/6694 [00:05<00:24, 220.91it/s]\rCategorizing extubation failure vs non-failure...:  18%|█▊        | 1235/6694 [00:05<00:24, 218.62it/s]\rCategorizing extubation failure vs non-failure...:  19%|█▉        | 1259/6694 [00:05<00:24, 224.08it/s]\rCategorizing extubation failure vs non-failure...:  19%|█▉        | 1283/6694 [00:05<00:23, 225.73it/s]\rCategorizing extubation failure vs non-failure...:  20%|█▉        | 1306/6694 [00:05<00:24, 224.03it/s]\rCategorizing extubation failure vs non-failure...:  20%|█▉        | 1329/6694 [00:05<00:25, 208.81it/s]\rCategorizing extubation failure vs non-failure...:  20%|██        | 1351/6694 [00:06<00:26, 202.31it/s]\rCategorizing extubation failure vs non-failure...:  21%|██        | 1375/6694 [00:06<00:25, 209.57it/s]\rCategorizing extubation failure vs non-failure...:  21%|██        | 1397/6694 [00:06<00:25, 211.85it/s]\rCategorizing extubation failure vs non-failure...:  21%|██        | 1421/6694 [00:06<00:24, 217.99it/s]\rCategorizing extubation failure vs non-failure...:  22%|██▏       | 1447/6694 [00:06<00:22, 228.64it/s]\rCategorizing extubation failure vs non-failure...:  22%|██▏       | 1470/6694 [00:06<00:22, 228.49it/s]\rCategorizing extubation failure vs non-failure...:  22%|██▏       | 1496/6694 [00:06<00:22, 235.63it/s]\rCategorizing extubation failure vs non-failure...:  23%|██▎       | 1522/6694 [00:06<00:21, 240.28it/s]\rCategorizing extubation failure vs non-failure...:  23%|██▎       | 1547/6694 [00:06<00:21, 243.00it/s]\rCategorizing extubation failure vs non-failure...:  23%|██▎       | 1573/6694 [00:06<00:20, 247.28it/s]\rCategorizing extubation failure vs non-failure...:  24%|██▍       | 1598/6694 [00:07<00:21, 241.45it/s]\rCategorizing extubation failure vs non-failure...:  24%|██▍       | 1624/6694 [00:07<00:20, 245.41it/s]\rCategorizing extubation failure vs non-failure...:  25%|██▍       | 1649/6694 [00:07<00:21, 234.15it/s]\rCategorizing extubation failure vs non-failure...:  25%|██▌       | 1675/6694 [00:07<00:21, 238.09it/s]\rCategorizing extubation failure vs non-failure...:  25%|██▌       | 1700/6694 [00:07<00:20, 241.13it/s]\rCategorizing extubation failure vs non-failure...:  26%|██▌       | 1725/6694 [00:07<00:30, 164.74it/s]\rCategorizing extubation failure vs non-failure...:  26%|██▌       | 1750/6694 [00:07<00:27, 182.74it/s]\rCategorizing extubation failure vs non-failure...:  26%|██▋       | 1773/6694 [00:07<00:25, 191.36it/s]\rCategorizing extubation failure vs non-failure...:  27%|██▋       | 1800/6694 [00:08<00:23, 210.59it/s]\rCategorizing extubation failure vs non-failure...:  27%|██▋       | 1823/6694 [00:08<00:22, 215.11it/s]\rCategorizing extubation failure vs non-failure...:  28%|██▊       | 1848/6694 [00:08<00:21, 222.04it/s]\rCategorizing extubation failure vs non-failure...:  28%|██▊       | 1872/6694 [00:08<00:21, 223.49it/s]\rCategorizing extubation failure vs non-failure...:  28%|██▊       | 1896/6694 [00:08<00:21, 221.40it/s]\rCategorizing extubation failure vs non-failure...:  29%|██▊       | 1921/6694 [00:08<00:21, 226.24it/s]\rCategorizing extubation failure vs non-failure...:  29%|██▉       | 1947/6694 [00:08<00:20, 234.30it/s]\rCategorizing extubation failure vs non-failure...:  29%|██▉       | 1972/6694 [00:08<00:19, 238.79it/s]\rCategorizing extubation failure vs non-failure...:  30%|██▉       | 1998/6694 [00:08<00:19, 243.88it/s]\rCategorizing extubation failure vs non-failure...:  30%|███       | 2024/6694 [00:08<00:18, 247.12it/s]\rCategorizing extubation failure vs non-failure...:  31%|███       | 2049/6694 [00:09<00:19, 238.81it/s]\rCategorizing extubation failure vs non-failure...:  31%|███       | 2074/6694 [00:09<00:19, 235.29it/s]\rCategorizing extubation failure vs non-failure...:  31%|███▏      | 2101/6694 [00:09<00:18, 244.50it/s]\rCategorizing extubation failure vs non-failure...:  32%|███▏      | 2126/6694 [00:09<00:18, 241.88it/s]\rCategorizing extubation failure vs non-failure...:  32%|███▏      | 2153/6694 [00:09<00:18, 249.98it/s]\rCategorizing extubation failure vs non-failure...:  33%|███▎      | 2179/6694 [00:09<00:18, 246.77it/s]\rCategorizing extubation failure vs non-failure...:  33%|███▎      | 2204/6694 [00:09<00:18, 244.16it/s]\rCategorizing extubation failure vs non-failure...:  33%|███▎      | 2229/6694 [00:09<00:18, 245.82it/s]\rCategorizing extubation failure vs non-failure...:  34%|███▎      | 2255/6694 [00:09<00:17, 247.42it/s]\rCategorizing extubation failure vs non-failure...:  34%|███▍      | 2281/6694 [00:10<00:17, 248.20it/s]\rCategorizing extubation failure vs non-failure...:  34%|███▍      | 2306/6694 [00:10<00:17, 244.45it/s]\rCategorizing extubation failure vs non-failure...:  35%|███▍      | 2333/6694 [00:10<00:17, 251.54it/s]\rCategorizing extubation failure vs non-failure...:  35%|███▌      | 2359/6694 [00:10<00:17, 242.95it/s]\rCategorizing extubation failure vs non-failure...:  36%|███▌      | 2384/6694 [00:10<00:17, 240.80it/s]\rCategorizing extubation failure vs non-failure...:  36%|███▌      | 2410/6694 [00:10<00:17, 246.00it/s]\rCategorizing extubation failure vs non-failure...:  36%|███▋      | 2435/6694 [00:10<00:17, 245.03it/s]\rCategorizing extubation failure vs non-failure...:  37%|███▋      | 2461/6694 [00:10<00:17, 248.57it/s]\rCategorizing extubation failure vs non-failure...:  37%|███▋      | 2486/6694 [00:10<00:17, 247.15it/s]\rCategorizing extubation failure vs non-failure...:  38%|███▊      | 2511/6694 [00:11<00:26, 155.27it/s]\rCategorizing extubation failure vs non-failure...:  38%|███▊      | 2536/6694 [00:11<00:23, 174.98it/s]\rCategorizing extubation failure vs non-failure...:  38%|███▊      | 2560/6694 [00:11<00:21, 188.15it/s]\rCategorizing extubation failure vs non-failure...:  39%|███▊      | 2586/6694 [00:11<00:20, 204.25it/s]\rCategorizing extubation failure vs non-failure...:  39%|███▉      | 2612/6694 [00:11<00:18, 217.50it/s]\rCategorizing extubation failure vs non-failure...:  39%|███▉      | 2637/6694 [00:11<00:18, 225.22it/s]\rCategorizing extubation failure vs non-failure...:  40%|███▉      | 2661/6694 [00:11<00:18, 222.92it/s]\rCategorizing extubation failure vs non-failure...:  40%|████      | 2685/6694 [00:11<00:19, 210.13it/s]\rCategorizing extubation failure vs non-failure...:  40%|████      | 2709/6694 [00:12<00:18, 217.32it/s]\rCategorizing extubation failure vs non-failure...:  41%|████      | 2736/6694 [00:12<00:17, 229.08it/s]\rCategorizing extubation failure vs non-failure...:  41%|████      | 2761/6694 [00:12<00:16, 234.80it/s]\rCategorizing extubation failure vs non-failure...:  42%|████▏     | 2787/6694 [00:12<00:16, 239.83it/s]\rCategorizing extubation failure vs non-failure...:  42%|████▏     | 2812/6694 [00:12<00:16, 239.55it/s]\rCategorizing extubation failure vs non-failure...:  42%|████▏     | 2837/6694 [00:12<00:16, 236.68it/s]\rCategorizing extubation failure vs non-failure...:  43%|████▎     | 2862/6694 [00:12<00:15, 240.16it/s]\rCategorizing extubation failure vs non-failure...:  43%|████▎     | 2887/6694 [00:12<00:15, 242.38it/s]\rCategorizing extubation failure vs non-failure...:  44%|████▎     | 2912/6694 [00:12<00:15, 243.55it/s]\rCategorizing extubation failure vs non-failure...:  44%|████▍     | 2937/6694 [00:12<00:15, 239.01it/s]\rCategorizing extubation failure vs non-failure...:  44%|████▍     | 2962/6694 [00:13<00:15, 240.51it/s]\rCategorizing extubation failure vs non-failure...:  45%|████▍     | 2988/6694 [00:13<00:15, 244.34it/s]\rCategorizing extubation failure vs non-failure...:  45%|████▌     | 3014/6694 [00:13<00:14, 247.25it/s]\rCategorizing extubation failure vs non-failure...:  45%|████▌     | 3041/6694 [00:13<00:14, 252.79it/s]\rCategorizing extubation failure vs non-failure...:  46%|████▌     | 3067/6694 [00:13<00:14, 247.18it/s]\rCategorizing extubation failure vs non-failure...:  46%|████▌     | 3092/6694 [00:13<00:14, 247.27it/s]\rCategorizing extubation failure vs non-failure...:  47%|████▋     | 3117/6694 [00:13<00:14, 245.90it/s]\rCategorizing extubation failure vs non-failure...:  47%|████▋     | 3144/6694 [00:13<00:14, 250.74it/s]\rCategorizing extubation failure vs non-failure...:  47%|████▋     | 3170/6694 [00:13<00:14, 249.41it/s]\rCategorizing extubation failure vs non-failure...:  48%|████▊     | 3195/6694 [00:14<00:15, 227.15it/s]\rCategorizing extubation failure vs non-failure...:  48%|████▊     | 3219/6694 [00:14<00:15, 225.11it/s]\rCategorizing extubation failure vs non-failure...:  48%|████▊     | 3246/6694 [00:14<00:14, 235.99it/s]\rCategorizing extubation failure vs non-failure...:  49%|████▉     | 3272/6694 [00:14<00:14, 241.04it/s]\rCategorizing extubation failure vs non-failure...:  49%|████▉     | 3298/6694 [00:14<00:13, 243.64it/s]\rCategorizing extubation failure vs non-failure...:  50%|████▉     | 3323/6694 [00:14<00:14, 237.35it/s]\rCategorizing extubation failure vs non-failure...:  50%|█████     | 3351/6694 [00:14<00:13, 248.33it/s]\rCategorizing extubation failure vs non-failure...:  50%|█████     | 3376/6694 [00:14<00:14, 227.19it/s]\rCategorizing extubation failure vs non-failure...:  51%|█████     | 3402/6694 [00:14<00:14, 234.59it/s]\rCategorizing extubation failure vs non-failure...:  51%|█████     | 3427/6694 [00:15<00:13, 238.52it/s]\rCategorizing extubation failure vs non-failure...:  52%|█████▏    | 3453/6694 [00:15<00:13, 240.88it/s]\rCategorizing extubation failure vs non-failure...:  52%|█████▏    | 3478/6694 [00:15<00:23, 134.66it/s]\rCategorizing extubation failure vs non-failure...:  52%|█████▏    | 3504/6694 [00:15<00:20, 157.01it/s]\rCategorizing extubation failure vs non-failure...:  53%|█████▎    | 3527/6694 [00:15<00:18, 171.69it/s]\rCategorizing extubation failure vs non-failure...:  53%|█████▎    | 3554/6694 [00:15<00:16, 194.12it/s]\rCategorizing extubation failure vs non-failure...:  53%|█████▎    | 3580/6694 [00:15<00:14, 209.78it/s]\rCategorizing extubation failure vs non-failure...:  54%|█████▍    | 3604/6694 [00:16<00:14, 213.93it/s]\rCategorizing extubation failure vs non-failure...:  54%|█████▍    | 3629/6694 [00:16<00:13, 221.89it/s]\rCategorizing extubation failure vs non-failure...:  55%|█████▍    | 3655/6694 [00:16<00:13, 231.71it/s]\rCategorizing extubation failure vs non-failure...:  55%|█████▍    | 3680/6694 [00:16<00:13, 227.43it/s]\rCategorizing extubation failure vs non-failure...:  55%|█████▌    | 3705/6694 [00:16<00:12, 232.61it/s]\rCategorizing extubation failure vs non-failure...:  56%|█████▌    | 3729/6694 [00:16<00:13, 224.49it/s]\rCategorizing extubation failure vs non-failure...:  56%|█████▌    | 3755/6694 [00:16<00:12, 234.07it/s]\rCategorizing extubation failure vs non-failure...:  56%|█████▋    | 3779/6694 [00:16<00:12, 228.58it/s]\rCategorizing extubation failure vs non-failure...:  57%|█████▋    | 3804/6694 [00:16<00:12, 233.31it/s]\rCategorizing extubation failure vs non-failure...:  57%|█████▋    | 3829/6694 [00:16<00:12, 237.09it/s]\rCategorizing extubation failure vs non-failure...:  58%|█████▊    | 3857/6694 [00:17<00:11, 246.59it/s]\rCategorizing extubation failure vs non-failure...:  58%|█████▊    | 3883/6694 [00:17<00:11, 249.75it/s]\rCategorizing extubation failure vs non-failure...:  58%|█████▊    | 3909/6694 [00:17<00:11, 244.50it/s]\rCategorizing extubation failure vs non-failure...:  59%|█████▉    | 3934/6694 [00:17<00:11, 232.31it/s]\rCategorizing extubation failure vs non-failure...:  59%|█████▉    | 3959/6694 [00:17<00:11, 236.59it/s]\rCategorizing extubation failure vs non-failure...:  60%|█████▉    | 3985/6694 [00:17<00:11, 241.86it/s]\rCategorizing extubation failure vs non-failure...:  60%|█████▉    | 4011/6694 [00:17<00:10, 246.36it/s]\rCategorizing extubation failure vs non-failure...:  60%|██████    | 4037/6694 [00:17<00:10, 250.31it/s]\rCategorizing extubation failure vs non-failure...:  61%|██████    | 4063/6694 [00:17<00:10, 252.39it/s]\rCategorizing extubation failure vs non-failure...:  61%|██████    | 4089/6694 [00:18<00:10, 252.82it/s]\rCategorizing extubation failure vs non-failure...:  61%|██████▏   | 4115/6694 [00:18<00:10, 247.53it/s]\rCategorizing extubation failure vs non-failure...:  62%|██████▏   | 4140/6694 [00:18<00:10, 238.56it/s]\rCategorizing extubation failure vs non-failure...:  62%|██████▏   | 4164/6694 [00:18<00:10, 237.77it/s]\rCategorizing extubation failure vs non-failure...:  63%|██████▎   | 4188/6694 [00:18<00:10, 235.54it/s]\rCategorizing extubation failure vs non-failure...:  63%|██████▎   | 4215/6694 [00:18<00:10, 243.20it/s]\rCategorizing extubation failure vs non-failure...:  63%|██████▎   | 4240/6694 [00:18<00:10, 242.32it/s]\rCategorizing extubation failure vs non-failure...:  64%|██████▎   | 4265/6694 [00:18<00:10, 236.54it/s]\rCategorizing extubation failure vs non-failure...:  64%|██████▍   | 4291/6694 [00:18<00:09, 240.50it/s]\rCategorizing extubation failure vs non-failure...:  64%|██████▍   | 4316/6694 [00:18<00:09, 243.00it/s]\rCategorizing extubation failure vs non-failure...:  65%|██████▍   | 4341/6694 [00:19<00:09, 243.29it/s]\rCategorizing extubation failure vs non-failure...:  65%|██████▌   | 4366/6694 [00:19<00:09, 244.14it/s]\rCategorizing extubation failure vs non-failure...:  66%|██████▌   | 4391/6694 [00:19<00:09, 241.89it/s]\rCategorizing extubation failure vs non-failure...:  66%|██████▌   | 4416/6694 [00:19<00:09, 242.34it/s]\rCategorizing extubation failure vs non-failure...:  66%|██████▋   | 4441/6694 [00:19<00:09, 240.81it/s]\rCategorizing extubation failure vs non-failure...:  67%|██████▋   | 4466/6694 [00:19<00:09, 240.24it/s]\rCategorizing extubation failure vs non-failure...:  67%|██████▋   | 4492/6694 [00:19<00:08, 245.73it/s]\rCategorizing extubation failure vs non-failure...:  67%|██████▋   | 4518/6694 [00:19<00:08, 248.02it/s]\rCategorizing extubation failure vs non-failure...:  68%|██████▊   | 4543/6694 [00:19<00:08, 241.26it/s]\rCategorizing extubation failure vs non-failure...:  68%|██████▊   | 4569/6694 [00:19<00:08, 245.95it/s]\rCategorizing extubation failure vs non-failure...:  69%|██████▊   | 4594/6694 [00:20<00:16, 129.92it/s]\rCategorizing extubation failure vs non-failure...:  69%|██████▉   | 4616/6694 [00:20<00:14, 145.58it/s]\rCategorizing extubation failure vs non-failure...:  69%|██████▉   | 4639/6694 [00:20<00:12, 161.59it/s]\rCategorizing extubation failure vs non-failure...:  70%|██████▉   | 4660/6694 [00:20<00:11, 170.71it/s]\rCategorizing extubation failure vs non-failure...:  70%|██████▉   | 4684/6694 [00:20<00:10, 187.38it/s]\rCategorizing extubation failure vs non-failure...:  70%|███████   | 4710/6694 [00:20<00:09, 204.84it/s]\rCategorizing extubation failure vs non-failure...:  71%|███████   | 4737/6694 [00:21<00:08, 221.29it/s]\rCategorizing extubation failure vs non-failure...:  71%|███████   | 4761/6694 [00:21<00:08, 226.09it/s]\rCategorizing extubation failure vs non-failure...:  72%|███████▏  | 4788/6694 [00:21<00:08, 235.14it/s]\rCategorizing extubation failure vs non-failure...:  72%|███████▏  | 4813/6694 [00:21<00:07, 238.32it/s]\rCategorizing extubation failure vs non-failure...:  72%|███████▏  | 4838/6694 [00:21<00:07, 238.68it/s]\rCategorizing extubation failure vs non-failure...:  73%|███████▎  | 4863/6694 [00:21<00:07, 238.46it/s]\rCategorizing extubation failure vs non-failure...:  73%|███████▎  | 4889/6694 [00:21<00:07, 243.99it/s]\rCategorizing extubation failure vs non-failure...:  73%|███████▎  | 4914/6694 [00:21<00:07, 245.59it/s]\rCategorizing extubation failure vs non-failure...:  74%|███████▍  | 4939/6694 [00:21<00:07, 246.87it/s]\rCategorizing extubation failure vs non-failure...:  74%|███████▍  | 4966/6694 [00:21<00:06, 251.48it/s]\rCategorizing extubation failure vs non-failure...:  75%|███████▍  | 4992/6694 [00:22<00:06, 252.50it/s]\rCategorizing extubation failure vs non-failure...:  75%|███████▍  | 5019/6694 [00:22<00:06, 256.11it/s]\rCategorizing extubation failure vs non-failure...:  75%|███████▌  | 5045/6694 [00:22<00:06, 243.57it/s]\rCategorizing extubation failure vs non-failure...:  76%|███████▌  | 5070/6694 [00:22<00:06, 239.92it/s]\rCategorizing extubation failure vs non-failure...:  76%|███████▌  | 5096/6694 [00:22<00:06, 241.81it/s]\rCategorizing extubation failure vs non-failure...:  77%|███████▋  | 5122/6694 [00:22<00:06, 245.92it/s]\rCategorizing extubation failure vs non-failure...:  77%|███████▋  | 5148/6694 [00:22<00:06, 247.26it/s]\rCategorizing extubation failure vs non-failure...:  77%|███████▋  | 5173/6694 [00:22<00:06, 239.54it/s]\rCategorizing extubation failure vs non-failure...:  78%|███████▊  | 5200/6694 [00:22<00:06, 244.07it/s]\rCategorizing extubation failure vs non-failure...:  78%|███████▊  | 5225/6694 [00:23<00:06, 242.98it/s]\rCategorizing extubation failure vs non-failure...:  78%|███████▊  | 5251/6694 [00:23<00:05, 245.76it/s]\rCategorizing extubation failure vs non-failure...:  79%|███████▉  | 5276/6694 [00:23<00:05, 245.84it/s]\rCategorizing extubation failure vs non-failure...:  79%|███████▉  | 5302/6694 [00:23<00:05, 245.63it/s]\rCategorizing extubation failure vs non-failure...:  80%|███████▉  | 5327/6694 [00:23<00:05, 238.00it/s]\rCategorizing extubation failure vs non-failure...:  80%|███████▉  | 5351/6694 [00:23<00:05, 224.17it/s]\rCategorizing extubation failure vs non-failure...:  80%|████████  | 5374/6694 [00:23<00:05, 223.01it/s]\rCategorizing extubation failure vs non-failure...:  81%|████████  | 5397/6694 [00:23<00:06, 199.96it/s]\rCategorizing extubation failure vs non-failure...:  81%|████████  | 5418/6694 [00:23<00:06, 191.04it/s]\rCategorizing extubation failure vs non-failure...:  81%|████████▏ | 5444/6694 [00:24<00:06, 208.31it/s]\rCategorizing extubation failure vs non-failure...:  82%|████████▏ | 5469/6694 [00:24<00:05, 218.40it/s]\rCategorizing extubation failure vs non-failure...:  82%|████████▏ | 5495/6694 [00:24<00:05, 229.93it/s]\rCategorizing extubation failure vs non-failure...:  82%|████████▏ | 5521/6694 [00:24<00:04, 236.44it/s]\rCategorizing extubation failure vs non-failure...:  83%|████████▎ | 5546/6694 [00:24<00:04, 238.01it/s]\rCategorizing extubation failure vs non-failure...:  83%|████████▎ | 5574/6694 [00:24<00:04, 247.49it/s]\rCategorizing extubation failure vs non-failure...:  84%|████████▎ | 5599/6694 [00:24<00:04, 241.99it/s]\rCategorizing extubation failure vs non-failure...:  84%|████████▍ | 5624/6694 [00:24<00:04, 236.19it/s]\rCategorizing extubation failure vs non-failure...:  84%|████████▍ | 5649/6694 [00:24<00:04, 238.60it/s]\rCategorizing extubation failure vs non-failure...:  85%|████████▍ | 5674/6694 [00:24<00:04, 239.13it/s]\rCategorizing extubation failure vs non-failure...:  85%|████████▌ | 5698/6694 [00:25<00:04, 235.95it/s]\rCategorizing extubation failure vs non-failure...:  86%|████████▌ | 5724/6694 [00:25<00:04, 240.77it/s]\rCategorizing extubation failure vs non-failure...:  86%|████████▌ | 5749/6694 [00:25<00:03, 243.44it/s]\rCategorizing extubation failure vs non-failure...:  86%|████████▋ | 5774/6694 [00:25<00:03, 237.01it/s]\rCategorizing extubation failure vs non-failure...:  87%|████████▋ | 5799/6694 [00:25<00:03, 238.95it/s]\rCategorizing extubation failure vs non-failure...:  87%|████████▋ | 5827/6694 [00:25<00:03, 249.73it/s]\rCategorizing extubation failure vs non-failure...:  87%|████████▋ | 5853/6694 [00:25<00:03, 240.77it/s]\rCategorizing extubation failure vs non-failure...:  88%|████████▊ | 5878/6694 [00:25<00:03, 242.70it/s]\rCategorizing extubation failure vs non-failure...:  88%|████████▊ | 5904/6694 [00:25<00:03, 242.73it/s]\rCategorizing extubation failure vs non-failure...:  89%|████████▊ | 5929/6694 [00:26<00:03, 239.98it/s]\rCategorizing extubation failure vs non-failure...:  89%|████████▉ | 5954/6694 [00:26<00:03, 241.80it/s]\rCategorizing extubation failure vs non-failure...:  89%|████████▉ | 5980/6694 [00:26<00:02, 245.25it/s]\rCategorizing extubation failure vs non-failure...:  90%|████████▉ | 6005/6694 [00:26<00:05, 119.26it/s]\rCategorizing extubation failure vs non-failure...:  90%|█████████ | 6032/6694 [00:26<00:04, 143.75it/s]\rCategorizing extubation failure vs non-failure...:  90%|█████████ | 6057/6694 [00:26<00:03, 163.56it/s]\rCategorizing extubation failure vs non-failure...:  91%|█████████ | 6082/6694 [00:26<00:03, 182.09it/s]\rCategorizing extubation failure vs non-failure...:  91%|█████████ | 6106/6694 [00:27<00:03, 194.55it/s]\rCategorizing extubation failure vs non-failure...:  92%|█████████▏| 6133/6694 [00:27<00:02, 212.23it/s]\rCategorizing extubation failure vs non-failure...:  92%|█████████▏| 6158/6694 [00:27<00:02, 221.46it/s]\rCategorizing extubation failure vs non-failure...:  92%|█████████▏| 6183/6694 [00:27<00:02, 228.58it/s]\rCategorizing extubation failure vs non-failure...:  93%|█████████▎| 6208/6694 [00:27<00:02, 234.24it/s]\rCategorizing extubation failure vs non-failure...:  93%|█████████▎| 6233/6694 [00:27<00:02, 220.11it/s]\rCategorizing extubation failure vs non-failure...:  94%|█████████▎| 6259/6694 [00:27<00:01, 228.61it/s]\rCategorizing extubation failure vs non-failure...:  94%|█████████▍| 6283/6694 [00:27<00:01, 229.84it/s]\rCategorizing extubation failure vs non-failure...:  94%|█████████▍| 6307/6694 [00:27<00:01, 227.20it/s]\rCategorizing extubation failure vs non-failure...:  95%|█████████▍| 6333/6694 [00:28<00:01, 235.22it/s]\rCategorizing extubation failure vs non-failure...:  95%|█████████▍| 6357/6694 [00:28<00:01, 236.42it/s]\rCategorizing extubation failure vs non-failure...:  95%|█████████▌| 6381/6694 [00:28<00:01, 227.17it/s]\rCategorizing extubation failure vs non-failure...:  96%|█████████▌| 6405/6694 [00:28<00:01, 228.10it/s]\rCategorizing extubation failure vs non-failure...:  96%|█████████▌| 6430/6694 [00:28<00:01, 233.00it/s]\rCategorizing extubation failure vs non-failure...:  96%|█████████▋| 6454/6694 [00:28<00:01, 232.07it/s]\rCategorizing extubation failure vs non-failure...:  97%|█████████▋| 6480/6694 [00:28<00:00, 237.35it/s]\rCategorizing extubation failure vs non-failure...:  97%|█████████▋| 6506/6694 [00:28<00:00, 241.91it/s]\rCategorizing extubation failure vs non-failure...:  98%|█████████▊| 6531/6694 [00:28<00:00, 236.68it/s]\rCategorizing extubation failure vs non-failure...:  98%|█████████▊| 6555/6694 [00:28<00:00, 235.03it/s]\rCategorizing extubation failure vs non-failure...:  98%|█████████▊| 6579/6694 [00:29<00:00, 235.73it/s]\rCategorizing extubation failure vs non-failure...:  99%|█████████▊| 6603/6694 [00:29<00:00, 233.87it/s]\rCategorizing extubation failure vs non-failure...:  99%|█████████▉| 6627/6694 [00:29<00:00, 232.92it/s]\rCategorizing extubation failure vs non-failure...:  99%|█████████▉| 6653/6694 [00:29<00:00, 239.82it/s]\rCategorizing extubation failure vs non-failure...: 100%|█████████▉| 6679/6694 [00:29<00:00, 242.83it/s]\rCategorizing extubation failure vs non-failure...: 100%|██████████| 6694/6694 [00:29<00:00, 226.36it/s]\n"
     ]
    },
    {
     "name": "stdout",
     "output_type": "stream",
     "text": [
      "--- RUNTIME: 32.77 seconds ---\n",
      "Processed subjectlist1: (9003, 27)\n",
      "Processed subjectlist2: (6823, 27)\n"
     ]
    },
    {
     "data": {
      "text/plain": [
       "Index(['subject_id', 'hadm_id', 'int_stayid', 'admittime', 'intubationtime',\n",
       "       'int_itemid', 'int_weight', 'ext_stayid', 'extubationtime',\n",
       "       'ext_itemid', 'ext_weight', 'extubationcause', 'dischtime', 'deathtime',\n",
       "       'marker', 'reint_marker', 'intext_duration', 'reintubation_eventtime',\n",
       "       'reintubationtime', 'seq_num', 'mvtime', 'final_event', 'ext_to_death',\n",
       "       'ext_to_disch', 'disch_to_death', 'class_code', 'class'],\n",
       "      dtype='object')"
      ]
     },
     "execution_count": 19,
     "metadata": {},
     "output_type": "execute_result"
    }
   ],
   "source": [
    "subjectlist1 = categorize_patients(reintubation_df2)\n",
    "subjectlist2 = subjectlist1[subjectlist1.mvtime == False]   # mvtime 제거\n",
    "\n",
    "print(f'Processed subjectlist1: {subjectlist1.shape}')   # (9003, 27)\n",
    "print(f'Processed subjectlist2: {subjectlist2.shape}')   # (6823, 27)\n",
    "\n",
    "subjectlist1.columns"
   ]
  },
  {
   "cell_type": "code",
   "execution_count": 20,
   "metadata": {},
   "outputs": [],
   "source": [
    "# 저장\n",
    "subjectlist1.to_csv('./data/subjectlist1.csv')\n",
    "subjectlist2.to_csv('./data/subjectlist2.csv')"
   ]
  },
  {
   "cell_type": "code",
   "execution_count": 21,
   "metadata": {},
   "outputs": [
    {
     "data": {
      "image/png": "[encoded data removed]",
      "text/plain": [
       "<Figure size 1000x600 with 1 Axes>"
      ]
     },
     "metadata": {},
     "output_type": "display_data"
    }
   ],
   "source": [
    "# Count the occurrences of each class\n",
    "class_counts = subjectlist1['class'].value_counts()\n",
    "\n",
    "# Create a bar chart\n",
    "plt.figure(figsize=(10, 6))\n",
    "plt.bar(class_counts.index, class_counts.values, edgecolor='k', alpha=0.7)\n",
    "plt.title('Distribution of Class Categories')\n",
    "plt.xlabel('Class')\n",
    "plt.ylabel('Frequency')\n",
    "plt.grid(axis='y', alpha=0.75)\n",
    "plt.xticks(rotation=45, ha='right')  # Rotate x-axis labels for readability\n",
    "plt.show()"
   ]
  },
  {
   "cell_type": "code",
   "execution_count": null,
   "metadata": {},
   "outputs": [],
   "source": []
  }
 ],
 "metadata": {
  "kernelspec": {
   "display_name": "mimic",
   "language": "python",
   "name": "python3"
  },
  "language_info": {
   "codemirror_mode": {
    "name": "ipython",
    "version": 3
   },
   "file_extension": ".py",
   "mimetype": "text/x-python",
   "name": "python",
   "nbconvert_exporter": "python",
   "pygments_lexer": "ipython3",
   "version": "3.10.9 | packaged by Anaconda, Inc. | (main, Mar  8 2023, 10:42:25) [MSC v.1916 64 bit (AMD64)]"
  },
  "vscode": {
   "interpreter": {
    "hash": "08a5d306251160da1020f1cc49fc3a531c8493d68136136759768e504de1bc8f"
   }
  }
 },
 "nbformat": 4,
 "nbformat_minor": 2
}
