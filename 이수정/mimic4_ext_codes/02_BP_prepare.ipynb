{
 "cells": [
  {
   "cell_type": "code",
   "execution_count": 4,
   "metadata": {},
   "outputs": [],
   "source": [
    "import pandas as pd\n",
    "from pandas import Series, DataFrame\n",
    "import numpy as np\n",
    "import pprint\n",
    "from datetime import datetime, timedelta\n",
    "#import tim\n",
    "from dfply import *\n",
    "import matplotlib.pyplot as plt\n",
    "import seaborn as sns\n",
    "import impyute as impy\n",
    "from impyute.imputation.cs import mice\n",
    "#from sqlalchemy import create_engine\n",
    "#https://chmodi.tistory.com/114"
   ]
  },
  {
   "cell_type": "code",
   "execution_count": 2,
   "metadata": {},
   "outputs": [
    {
     "name": "stdout",
     "output_type": "stream",
     "text": [
      "tunnel connected\n",
      "database connected\n"
     ]
    }
   ],
   "source": [
    "import psycopg2\n",
    "from sshtunnel import SSHTunnelForwarder\n",
    "\n",
    "try:\n",
    "    tunnel= SSHTunnelForwarder(\n",
    "         ('210.91.223.248', 35430),\n",
    "         #ssh_private_key=\"</path/to/private/ssh/key>\",\n",
    "         ### in my case, I used a password instead of a private key\n",
    "         ssh_username=\"medicalai\",\n",
    "         ssh_password=\"medicalai731!\", \n",
    "         remote_bind_address=('localhost', 35432))\n",
    "         \n",
    "    tunnel.start()\n",
    "    print(\"tunnel connected\")\n",
    "\n",
    "    params = {\n",
    "             'database': 'mimiciv',\n",
    "             'user': 'mai_admin',\n",
    "             'password': 'admin1q2w!@',\n",
    "             'host': 'localhost',\n",
    "             'port': tunnel.local_bind_port\n",
    "             }\n",
    "\n",
    "    conn = psycopg2.connect(**params)\n",
    "    conn.autocommit = True\n",
    "    curs = conn.cursor()\n",
    "    print(\"database connected\")\n",
    "\n",
    "except Exception as e:\n",
    "    print(\"Connection Failed due to {e}\")\n",
    "\n",
    "# Remember to close the SSH tunnel\n",
    "#tunnel.close()\n"
   ]
  },
  {
   "cell_type": "code",
   "execution_count": 6,
   "metadata": {},
   "outputs": [],
   "source": [
    "#DB 에서 데이터 가져오기\n",
    "\n",
    "curs.execute(\"select * from mimiciv_derived.vitalsign;\")\n",
    "columns_name = [desc[0] for desc in curs.description]\n"
   ]
  },
  {
   "cell_type": "code",
   "execution_count": 7,
   "metadata": {},
   "outputs": [],
   "source": [
    "vitalsign = pd.DataFrame(curs.fetchall(), columns=columns_name) "
   ]
  },
  {
   "cell_type": "code",
   "execution_count": 8,
   "metadata": {},
   "outputs": [
    {
     "name": "stdout",
     "output_type": "stream",
     "text": [
      "<class 'pandas.core.frame.DataFrame'>\n",
      "RangeIndex: 9745500 entries, 0 to 9745499\n",
      "Data columns (total 15 columns):\n",
      " #   Column            Dtype         \n",
      "---  ------            -----         \n",
      " 0   subject_id        int64         \n",
      " 1   stay_id           int64         \n",
      " 2   charttime         datetime64[ns]\n",
      " 3   heart_rate        float64       \n",
      " 4   sbp               float64       \n",
      " 5   dbp               float64       \n",
      " 6   mbp               float64       \n",
      " 7   sbp_ni            float64       \n",
      " 8   dbp_ni            float64       \n",
      " 9   mbp_ni            float64       \n",
      " 10  resp_rate         float64       \n",
      " 11  temperature       object        \n",
      " 12  temperature_site  object        \n",
      " 13  spo2              float64       \n",
      " 14  glucose           float64       \n",
      "dtypes: datetime64[ns](1), float64(10), int64(2), object(2)\n",
      "memory usage: 1.1+ GB\n"
     ]
    }
   ],
   "source": [
    "vitalsign.info()"
   ]
  },
  {
   "cell_type": "markdown",
   "metadata": {},
   "source": [
    "### 환자정보와 join"
   ]
  },
  {
   "cell_type": "code",
   "execution_count": 9,
   "metadata": {},
   "outputs": [
    {
     "name": "stdout",
     "output_type": "stream",
     "text": [
      "<class 'pandas.core.frame.DataFrame'>\n",
      "RangeIndex: 6725 entries, 0 to 6724\n",
      "Data columns (total 6 columns):\n",
      " #   Column      Non-Null Count  Dtype         \n",
      "---  ------      --------------  -----         \n",
      " 0   Unnamed: 0  6725 non-null   int64         \n",
      " 1   subject_id  6725 non-null   int64         \n",
      " 2   hadm_id     6725 non-null   int64         \n",
      " 3   stay_id     6724 non-null   float64       \n",
      " 4   admittime   6725 non-null   datetime64[ns]\n",
      " 5   dischtime   6725 non-null   datetime64[ns]\n",
      "dtypes: datetime64[ns](2), float64(1), int64(3)\n",
      "memory usage: 315.4 KB\n"
     ]
    }
   ],
   "source": [
    "subjectlist1 = pd.read_csv('./data/sub1list.csv', parse_dates=['admittime','dischtime'])\n",
    "subjectlist1.info()"
   ]
  },
  {
   "cell_type": "code",
   "execution_count": 10,
   "metadata": {},
   "outputs": [],
   "source": [
    "sub1list = subjectlist1 >> select('subject_id','hadm_id','stay_id')"
   ]
  },
  {
   "cell_type": "code",
   "execution_count": 11,
   "metadata": {},
   "outputs": [],
   "source": [
    "sub1_mbp = sub1list >> left_join(vitalsign, by=['subject_id','stay_id']) >> select('subject_id', 'stay_id', 'charttime', 'mbp')"
   ]
  },
  {
   "cell_type": "markdown",
   "metadata": {},
   "source": [
    "### mbp null 값 제거, 중복값 확인\n",
    "- 주의: vital 데이터의 경우 완전 중복값이 아닌 근접값도 고려할 필요 있음"
   ]
  },
  {
   "cell_type": "code",
   "execution_count": 12,
   "metadata": {},
   "outputs": [
    {
     "data": {
      "text/html": [
       "<div>\n",
       "<style scoped>\n",
       "    .dataframe tbody tr th:only-of-type {\n",
       "        vertical-align: middle;\n",
       "    }\n",
       "\n",
       "    .dataframe tbody tr th {\n",
       "        vertical-align: top;\n",
       "    }\n",
       "\n",
       "    .dataframe thead th {\n",
       "        text-align: right;\n",
       "    }\n",
       "</style>\n",
       "<table border=\"1\" class=\"dataframe\">\n",
       "  <thead>\n",
       "    <tr style=\"text-align: right;\">\n",
       "      <th></th>\n",
       "      <th>subject_id</th>\n",
       "      <th>stay_id</th>\n",
       "      <th>charttime</th>\n",
       "      <th>mbp</th>\n",
       "    </tr>\n",
       "  </thead>\n",
       "  <tbody>\n",
       "    <tr>\n",
       "      <th>3</th>\n",
       "      <td>10001884</td>\n",
       "      <td>37510196.0</td>\n",
       "      <td>2131-01-11 04:25:00</td>\n",
       "      <td>46.0</td>\n",
       "    </tr>\n",
       "    <tr>\n",
       "      <th>5</th>\n",
       "      <td>10001884</td>\n",
       "      <td>37510196.0</td>\n",
       "      <td>2131-01-11 05:01:00</td>\n",
       "      <td>70.0</td>\n",
       "    </tr>\n",
       "    <tr>\n",
       "      <th>7</th>\n",
       "      <td>10001884</td>\n",
       "      <td>37510196.0</td>\n",
       "      <td>2131-01-11 06:01:00</td>\n",
       "      <td>75.0</td>\n",
       "    </tr>\n",
       "    <tr>\n",
       "      <th>11</th>\n",
       "      <td>10001884</td>\n",
       "      <td>37510196.0</td>\n",
       "      <td>2131-01-11 06:47:00</td>\n",
       "      <td>84.0</td>\n",
       "    </tr>\n",
       "    <tr>\n",
       "      <th>13</th>\n",
       "      <td>10001884</td>\n",
       "      <td>37510196.0</td>\n",
       "      <td>2131-01-11 07:01:00</td>\n",
       "      <td>73.0</td>\n",
       "    </tr>\n",
       "    <tr>\n",
       "      <th>...</th>\n",
       "      <td>...</td>\n",
       "      <td>...</td>\n",
       "      <td>...</td>\n",
       "      <td>...</td>\n",
       "    </tr>\n",
       "    <tr>\n",
       "      <th>2090334</th>\n",
       "      <td>19999840</td>\n",
       "      <td>38978960.0</td>\n",
       "      <td>2164-09-17 12:00:00</td>\n",
       "      <td>65.0</td>\n",
       "    </tr>\n",
       "    <tr>\n",
       "      <th>2090335</th>\n",
       "      <td>19999840</td>\n",
       "      <td>38978960.0</td>\n",
       "      <td>2164-09-17 13:00:00</td>\n",
       "      <td>45.0</td>\n",
       "    </tr>\n",
       "    <tr>\n",
       "      <th>2090336</th>\n",
       "      <td>19999840</td>\n",
       "      <td>38978960.0</td>\n",
       "      <td>2164-09-17 13:05:00</td>\n",
       "      <td>51.0</td>\n",
       "    </tr>\n",
       "    <tr>\n",
       "      <th>2090337</th>\n",
       "      <td>19999840</td>\n",
       "      <td>38978960.0</td>\n",
       "      <td>2164-09-17 13:10:00</td>\n",
       "      <td>33.0</td>\n",
       "    </tr>\n",
       "    <tr>\n",
       "      <th>2090341</th>\n",
       "      <td>19999840</td>\n",
       "      <td>38978960.0</td>\n",
       "      <td>2164-09-17 13:17:00</td>\n",
       "      <td>44.0</td>\n",
       "    </tr>\n",
       "  </tbody>\n",
       "</table>\n",
       "<p>1465060 rows × 4 columns</p>\n",
       "</div>"
      ],
      "text/plain": [
       "         subject_id     stay_id           charttime   mbp\n",
       "3          10001884  37510196.0 2131-01-11 04:25:00  46.0\n",
       "5          10001884  37510196.0 2131-01-11 05:01:00  70.0\n",
       "7          10001884  37510196.0 2131-01-11 06:01:00  75.0\n",
       "11         10001884  37510196.0 2131-01-11 06:47:00  84.0\n",
       "13         10001884  37510196.0 2131-01-11 07:01:00  73.0\n",
       "...             ...         ...                 ...   ...\n",
       "2090334    19999840  38978960.0 2164-09-17 12:00:00  65.0\n",
       "2090335    19999840  38978960.0 2164-09-17 13:00:00  45.0\n",
       "2090336    19999840  38978960.0 2164-09-17 13:05:00  51.0\n",
       "2090337    19999840  38978960.0 2164-09-17 13:10:00  33.0\n",
       "2090341    19999840  38978960.0 2164-09-17 13:17:00  44.0\n",
       "\n",
       "[1465060 rows x 4 columns]"
      ]
     },
     "execution_count": 12,
     "metadata": {},
     "output_type": "execute_result"
    }
   ],
   "source": [
    "# null 값 확인\n",
    "sub1_mbp_notna = sub1_mbp[sub1_mbp.mbp.notna()]\n",
    "sub1_mbp_notna"
   ]
  },
  {
   "cell_type": "code",
   "execution_count": 13,
   "metadata": {},
   "outputs": [
    {
     "name": "stdout",
     "output_type": "stream",
     "text": [
      "stay_id COUNT BEFORE: 6724\n",
      "stay_id COUNT AFTER: 6724\n"
     ]
    }
   ],
   "source": [
    "# null 값 제거 후 stay id 카운트 동일.\n",
    "\n",
    "print(f'stay_id COUNT BEFORE: {sub1_mbp.stay_id.nunique()}')\n",
    "print(f'stay_id COUNT AFTER: {sub1_mbp_notna.stay_id.nunique()}')"
   ]
  },
  {
   "cell_type": "code",
   "execution_count": 14,
   "metadata": {},
   "outputs": [
    {
     "data": {
      "text/html": [
       "<div>\n",
       "<style scoped>\n",
       "    .dataframe tbody tr th:only-of-type {\n",
       "        vertical-align: middle;\n",
       "    }\n",
       "\n",
       "    .dataframe tbody tr th {\n",
       "        vertical-align: top;\n",
       "    }\n",
       "\n",
       "    .dataframe thead th {\n",
       "        text-align: right;\n",
       "    }\n",
       "</style>\n",
       "<table border=\"1\" class=\"dataframe\">\n",
       "  <thead>\n",
       "    <tr style=\"text-align: right;\">\n",
       "      <th></th>\n",
       "      <th>subject_id</th>\n",
       "      <th>stay_id</th>\n",
       "      <th>charttime</th>\n",
       "      <th>mbp</th>\n",
       "    </tr>\n",
       "  </thead>\n",
       "  <tbody>\n",
       "  </tbody>\n",
       "</table>\n",
       "</div>"
      ],
      "text/plain": [
       "Empty DataFrame\n",
       "Columns: [subject_id, stay_id, charttime, mbp]\n",
       "Index: []"
      ]
     },
     "execution_count": 14,
     "metadata": {},
     "output_type": "execute_result"
    }
   ],
   "source": [
    "# 중복값 확인 --> 없음\n",
    "## 중복값 정의: stay_id 내에서 charttime 동일한 경우\n",
    "duplicates = sub1_mbp_notna[sub1_mbp_notna.duplicated(subset=['stay_id', 'charttime'], keep=False)]\n",
    "duplicates_sorted = duplicates.sort_values(by=['stay_id', 'charttime'])   # optional\n",
    "\n",
    "duplicates_sorted\n"
   ]
  },
  {
   "cell_type": "code",
   "execution_count": 16,
   "metadata": {},
   "outputs": [],
   "source": [
    "sub1_mbp_notna.to_csv('../outputs/sub1_mbp_notna.csv', index=False, encoding='utf-8-sig')\n"
   ]
  },
  {
   "cell_type": "code",
   "execution_count": null,
   "metadata": {},
   "outputs": [],
   "source": []
  }
 ],
 "metadata": {
  "kernelspec": {
   "display_name": "mimic",
   "language": "python",
   "name": "python3"
  },
  "language_info": {
   "codemirror_mode": {
    "name": "ipython",
    "version": 3
   },
   "file_extension": ".py",
   "mimetype": "text/x-python",
   "name": "python",
   "nbconvert_exporter": "python",
   "pygments_lexer": "ipython3",
   "version": "3.10.13"
  },
  "orig_nbformat": 4,
  "vscode": {
   "interpreter": {
    "hash": "08a5d306251160da1020f1cc49fc3a531c8493d68136136759768e504de1bc8f"
   }
  }
 },
 "nbformat": 4,
 "nbformat_minor": 2
}
