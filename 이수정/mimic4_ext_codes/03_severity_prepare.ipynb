{
 "cells": [
  {
   "cell_type": "markdown",
   "metadata": {},
   "source": [
    "# Severity\n",
    "#### 이전연구에서 사용했던 potential varibales는 다음과 같습니다.\n",
    "*SAPS II \\\n",
    "*APACHE \\\n",
    "*MIMIC-IV 는 더 다양할 수 있습니다."
   ]
  },
  {
   "cell_type": "code",
   "execution_count": 2,
   "metadata": {},
   "outputs": [],
   "source": [
    "#potential tables\n",
    "#mimiciv_derived, charlson, mai_admin, None, False, False, False, False\n",
    "#mimiciv_derived, apsiii, mai_admin, None, False, False, False, False\n",
    "#mimiciv_derived, oasis, mai_admin, None, False, False, False, False\n",
    "#mimiciv_derived, sapsii, mai_admin, None, False, False, False, False\n",
    "#mimiciv_derived, sofa, mai_admin, None, False, False, False, False\n",
    "#mimiciv_derived, first_day_sofa, mai_admin, None, False, False, False, False\n",
    "#mimiciv_derived, sepsis3, mai_admin, None, False, False, False, False\n",
    "#https://www.mdcalc.com/calc/3917/charlson-comorbidity-index-cci"
   ]
  },
  {
   "cell_type": "code",
   "execution_count": 1,
   "metadata": {},
   "outputs": [],
   "source": [
    "import pandas as pd\n",
    "from pandas import Series, DataFrame\n",
    "import numpy as np\n",
    "import pprint\n",
    "from datetime import datetime, timedelta\n",
    "#import tim\n",
    "from dfply import *\n",
    "import matplotlib.pyplot as plt\n",
    "import seaborn as sns\n",
    "import impyute as impy\n",
    "from impyute.imputation.cs import mice\n",
    "#from sqlalchemy import create_engine\n",
    "#https://chmodi.tistory.com/114"
   ]
  },
  {
   "cell_type": "code",
   "execution_count": 4,
   "metadata": {},
   "outputs": [
    {
     "name": "stdout",
     "output_type": "stream",
     "text": [
      "tunnel connected\n",
      "database connected\n"
     ]
    }
   ],
   "source": [
    "import psycopg2\n",
    "from sshtunnel import SSHTunnelForwarder\n",
    "\n",
    "try:\n",
    "    tunnel= SSHTunnelForwarder(\n",
    "         ('210.91.223.248', 35430),\n",
    "         #ssh_private_key=\"</path/to/private/ssh/key>\",\n",
    "         ### in my case, I used a password instead of a private key\n",
    "         ssh_username=\"medicalai\",\n",
    "         ssh_password=\"medicalai731!\", \n",
    "         remote_bind_address=('localhost', 35432))\n",
    "         \n",
    "    tunnel.start()\n",
    "    print(\"tunnel connected\")\n",
    "\n",
    "    params = {\n",
    "             'database': 'mimiciv',\n",
    "             'user': 'mai_admin',\n",
    "             'password': 'admin1q2w!@',\n",
    "             'host': 'localhost',\n",
    "             'port': tunnel.local_bind_port\n",
    "             }\n",
    "\n",
    "    conn = psycopg2.connect(**params)\n",
    "    conn.autocommit = True\n",
    "    curs = conn.cursor()\n",
    "    print(\"database connected\")\n",
    "\n",
    "except Exception as e:\n",
    "    print(\"Connection Failed due to {e}\")\n",
    "\n",
    "# Remember to close the SSH tunnel\n",
    "#tunnel.close()\n"
   ]
  },
  {
   "cell_type": "markdown",
   "metadata": {},
   "source": [
    "*saps ii (derived), dasis(derived), apsiii(derived), oasis(derived)"
   ]
  },
  {
   "cell_type": "code",
   "execution_count": 49,
   "metadata": {},
   "outputs": [],
   "source": [
    "#DB 에서 데이터 가져오기\n",
    "\n",
    "# curs.execute(\"select * from mimiciv_derived.charlson;\")\n",
    "# columns_name = [desc[0] for desc in curs.description]\n",
    "# charlson = pd.DataFrame(curs.fetchall(), columns=columns_name) \n",
    "\n",
    "# curs.execute(\"select * from mimiciv_derived.apsiii;\")\n",
    "# columns_name = [desc[0] for desc in curs.description]\n",
    "# apsiii = pd.DataFrame(curs.fetchall(), columns=columns_name) \n",
    "\n",
    "# curs.execute(\"select * from mimiciv_derived.oasis;\")\n",
    "# columns_name = [desc[0] for desc in curs.description]\n",
    "# oasis = pd.DataFrame(curs.fetchall(), columns=columns_name) \n",
    "\n",
    "# curs.execute(\"select * from mimiciv_derived.sapsii;\")\n",
    "# columns_name = [desc[0] for desc in curs.description]\n",
    "# sapsii = pd.DataFrame(curs.fetchall(), columns=columns_name) \n",
    "\n",
    "# curs.execute(\"select * from mimiciv_derived.sofa;\")\n",
    "# columns_name = [desc[0] for desc in curs.description]\n",
    "# sofa = pd.DataFrame(curs.fetchall(), columns=columns_name) \n",
    "\n",
    "# curs.execute(\"select * from mimiciv_derived.sepsis3;\")\n",
    "# columns_name = [desc[0] for desc in curs.description]\n",
    "# sepsis3 = pd.DataFrame(curs.fetchall(), columns=columns_name) "
   ]
  },
  {
   "cell_type": "code",
   "execution_count": 17,
   "metadata": {},
   "outputs": [],
   "source": [
    "# charlson.to_csv('../outputs/charlson.csv', index=False, encoding='utf-8-sig')\n",
    "# apsiii.to_csv('../outputs/apsiii.csv', index=False, encoding='utf-8-sig')\n",
    "# oasis.to_csv('../outputs/oasis.csv', index=False, encoding='utf-8-sig')\n",
    "# sapsii.to_csv('../outputs/sapsii.csv', index=False, encoding='utf-8-sig')\n",
    "# sofa.to_csv('../outputs/sofa.csv', index=False, encoding='utf-8-sig')\n",
    "# sepsis3.to_csv('../outputs/sepsis3.csv', index=False, encoding='utf-8-sig')"
   ]
  },
  {
   "cell_type": "code",
   "execution_count": 2,
   "metadata": {},
   "outputs": [],
   "source": [
    "charlson = pd.read_csv('../outputs/charlson.csv')\n",
    "apsiii = pd.read_csv('../outputs/apsiii.csv')\n",
    "oasis = pd.read_csv('../outputs/oasis.csv')\n",
    "sapsii = pd.read_csv('../outputs/sapsii.csv', parse_dates=['starttime','endtime'])\n",
    "sofa = pd.read_csv('../outputs/sofa.csv', parse_dates=['starttime','endtime'])\n",
    "sepsis3 = pd.read_csv('../outputs/sepsis3.csv', parse_dates=['antibiotic_time','culture_time','suspected_infection_time','sofa_time'])"
   ]
  },
  {
   "cell_type": "code",
   "execution_count": 19,
   "metadata": {},
   "outputs": [],
   "source": [
    "#charlson, apsiii, oasis 는 입원 시 측정하는 점수인듯\n",
    "#aps iii 는 APACHE-III 이전에 생리학검사 점수임. => 계산할 필요가 있을지?https://github.com/MIT-LCP/mimic-code/issues/653\n",
    "#oasis는 그대로 사용\n",
    "#sapsii 도 그대로 사용\n",
    "#sofa는 spo2/fio2 ratio 인듯? pao2fio2ratio_novent\tpao2fio2ratio_vent meta정보가 많은데 왜 많은지 봐야할듯.\n",
    "#sepsis3 는 deathcosality 와 연관해서 볼 정보같고, severity 점수로 학습에 포함하지는 않을 것.\n"
   ]
  },
  {
   "cell_type": "markdown",
   "metadata": {},
   "source": [
    "### 각 정보 환자정보와 join"
   ]
  },
  {
   "cell_type": "code",
   "execution_count": 3,
   "metadata": {},
   "outputs": [
    {
     "name": "stdout",
     "output_type": "stream",
     "text": [
      "<class 'pandas.core.frame.DataFrame'>\n",
      "RangeIndex: 6725 entries, 0 to 6724\n",
      "Data columns (total 6 columns):\n",
      " #   Column      Non-Null Count  Dtype         \n",
      "---  ------      --------------  -----         \n",
      " 0   Unnamed: 0  6725 non-null   int64         \n",
      " 1   subject_id  6725 non-null   int64         \n",
      " 2   hadm_id     6725 non-null   int64         \n",
      " 3   stay_id     6724 non-null   float64       \n",
      " 4   admittime   6725 non-null   datetime64[ns]\n",
      " 5   dischtime   6725 non-null   datetime64[ns]\n",
      "dtypes: datetime64[ns](2), float64(1), int64(3)\n",
      "memory usage: 315.4 KB\n"
     ]
    }
   ],
   "source": [
    "subjectlist1 = pd.read_csv('./data/sub1list.csv', parse_dates=['admittime','dischtime'])\n",
    "subjectlist1.info()"
   ]
  },
  {
   "cell_type": "code",
   "execution_count": 4,
   "metadata": {},
   "outputs": [],
   "source": [
    "sub1list = subjectlist1 >> select('subject_id','hadm_id','stay_id')"
   ]
  },
  {
   "cell_type": "code",
   "execution_count": 5,
   "metadata": {},
   "outputs": [],
   "source": [
    "sub1_charlson = sub1list >> left_join(charlson, by=['subject_id','hadm_id']) >> select('subject_id','hadm_id','stay_id','charlson_comorbidity_index')"
   ]
  },
  {
   "cell_type": "code",
   "execution_count": 6,
   "metadata": {},
   "outputs": [
    {
     "name": "stdout",
     "output_type": "stream",
     "text": [
      "<class 'pandas.core.frame.DataFrame'>\n",
      "RangeIndex: 6725 entries, 0 to 6724\n",
      "Data columns (total 4 columns):\n",
      " #   Column                      Non-Null Count  Dtype  \n",
      "---  ------                      --------------  -----  \n",
      " 0   subject_id                  6725 non-null   int64  \n",
      " 1   hadm_id                     6725 non-null   int64  \n",
      " 2   stay_id                     6724 non-null   float64\n",
      " 3   charlson_comorbidity_index  6725 non-null   int64  \n",
      "dtypes: float64(1), int64(3)\n",
      "memory usage: 210.3 KB\n"
     ]
    }
   ],
   "source": [
    "sub1_charlson.info()"
   ]
  },
  {
   "cell_type": "code",
   "execution_count": 7,
   "metadata": {},
   "outputs": [
    {
     "data": {
      "text/html": [
       "<div>\n",
       "<style scoped>\n",
       "    .dataframe tbody tr th:only-of-type {\n",
       "        vertical-align: middle;\n",
       "    }\n",
       "\n",
       "    .dataframe tbody tr th {\n",
       "        vertical-align: top;\n",
       "    }\n",
       "\n",
       "    .dataframe thead th {\n",
       "        text-align: right;\n",
       "    }\n",
       "</style>\n",
       "<table border=\"1\" class=\"dataframe\">\n",
       "  <thead>\n",
       "    <tr style=\"text-align: right;\">\n",
       "      <th></th>\n",
       "      <th>subject_id</th>\n",
       "      <th>hadm_id</th>\n",
       "      <th>stay_id</th>\n",
       "      <th>apsiii</th>\n",
       "      <th>apsiii_prob</th>\n",
       "      <th>hr_score</th>\n",
       "      <th>mbp_score</th>\n",
       "      <th>temp_score</th>\n",
       "      <th>resp_rate_score</th>\n",
       "      <th>pao2_aado2_score</th>\n",
       "      <th>...</th>\n",
       "      <th>wbc_score</th>\n",
       "      <th>creatinine_score</th>\n",
       "      <th>uo_score</th>\n",
       "      <th>bun_score</th>\n",
       "      <th>sodium_score</th>\n",
       "      <th>albumin_score</th>\n",
       "      <th>bilirubin_score</th>\n",
       "      <th>glucose_score</th>\n",
       "      <th>acidbase_score</th>\n",
       "      <th>gcs_score</th>\n",
       "    </tr>\n",
       "  </thead>\n",
       "  <tbody>\n",
       "    <tr>\n",
       "      <th>0</th>\n",
       "      <td>12466550</td>\n",
       "      <td>23998182</td>\n",
       "      <td>30000153</td>\n",
       "      <td>44</td>\n",
       "      <td>0.086546</td>\n",
       "      <td>7.0</td>\n",
       "      <td>6.0</td>\n",
       "      <td>0.0</td>\n",
       "      <td>0.0</td>\n",
       "      <td>NaN</td>\n",
       "      <td>...</td>\n",
       "      <td>0.0</td>\n",
       "      <td>0.0</td>\n",
       "      <td>5.0</td>\n",
       "      <td>7.0</td>\n",
       "      <td>0.0</td>\n",
       "      <td>NaN</td>\n",
       "      <td>NaN</td>\n",
       "      <td>0.0</td>\n",
       "      <td>1.0</td>\n",
       "      <td>15.0</td>\n",
       "    </tr>\n",
       "    <tr>\n",
       "      <th>1</th>\n",
       "      <td>13180007</td>\n",
       "      <td>27543152</td>\n",
       "      <td>30000213</td>\n",
       "      <td>44</td>\n",
       "      <td>0.086546</td>\n",
       "      <td>0.0</td>\n",
       "      <td>7.0</td>\n",
       "      <td>0.0</td>\n",
       "      <td>6.0</td>\n",
       "      <td>NaN</td>\n",
       "      <td>...</td>\n",
       "      <td>0.0</td>\n",
       "      <td>7.0</td>\n",
       "      <td>0.0</td>\n",
       "      <td>11.0</td>\n",
       "      <td>2.0</td>\n",
       "      <td>0.0</td>\n",
       "      <td>0.0</td>\n",
       "      <td>5.0</td>\n",
       "      <td>NaN</td>\n",
       "      <td>3.0</td>\n",
       "    </tr>\n",
       "    <tr>\n",
       "      <th>2</th>\n",
       "      <td>18421337</td>\n",
       "      <td>22413411</td>\n",
       "      <td>30000484</td>\n",
       "      <td>79</td>\n",
       "      <td>0.331267</td>\n",
       "      <td>1.0</td>\n",
       "      <td>15.0</td>\n",
       "      <td>2.0</td>\n",
       "      <td>8.0</td>\n",
       "      <td>NaN</td>\n",
       "      <td>...</td>\n",
       "      <td>5.0</td>\n",
       "      <td>0.0</td>\n",
       "      <td>5.0</td>\n",
       "      <td>11.0</td>\n",
       "      <td>0.0</td>\n",
       "      <td>0.0</td>\n",
       "      <td>0.0</td>\n",
       "      <td>0.0</td>\n",
       "      <td>NaN</td>\n",
       "      <td>29.0</td>\n",
       "    </tr>\n",
       "  </tbody>\n",
       "</table>\n",
       "<p>3 rows × 21 columns</p>\n",
       "</div>"
      ],
      "text/plain": [
       "   subject_id   hadm_id   stay_id  apsiii  apsiii_prob  hr_score  mbp_score  \\\n",
       "0    12466550  23998182  30000153      44     0.086546       7.0        6.0   \n",
       "1    13180007  27543152  30000213      44     0.086546       0.0        7.0   \n",
       "2    18421337  22413411  30000484      79     0.331267       1.0       15.0   \n",
       "\n",
       "   temp_score  resp_rate_score  pao2_aado2_score  ...  wbc_score  \\\n",
       "0         0.0              0.0               NaN  ...        0.0   \n",
       "1         0.0              6.0               NaN  ...        0.0   \n",
       "2         2.0              8.0               NaN  ...        5.0   \n",
       "\n",
       "   creatinine_score  uo_score  bun_score  sodium_score  albumin_score  \\\n",
       "0               0.0       5.0        7.0           0.0            NaN   \n",
       "1               7.0       0.0       11.0           2.0            0.0   \n",
       "2               0.0       5.0       11.0           0.0            0.0   \n",
       "\n",
       "   bilirubin_score  glucose_score  acidbase_score  gcs_score  \n",
       "0              NaN            0.0             1.0       15.0  \n",
       "1              0.0            5.0             NaN        3.0  \n",
       "2              0.0            0.0             NaN       29.0  \n",
       "\n",
       "[3 rows x 21 columns]"
      ]
     },
     "execution_count": 7,
     "metadata": {},
     "output_type": "execute_result"
    }
   ],
   "source": [
    "apsiii.head(3)"
   ]
  },
  {
   "cell_type": "code",
   "execution_count": 8,
   "metadata": {},
   "outputs": [],
   "source": [
    "sub1_apsiii = sub1list >> left_join(apsiii, by=['subject_id','hadm_id','stay_id']) >> select('subject_id','hadm_id','stay_id','apsiii')"
   ]
  },
  {
   "cell_type": "code",
   "execution_count": 9,
   "metadata": {},
   "outputs": [
    {
     "name": "stdout",
     "output_type": "stream",
     "text": [
      "<class 'pandas.core.frame.DataFrame'>\n",
      "RangeIndex: 6725 entries, 0 to 6724\n",
      "Data columns (total 4 columns):\n",
      " #   Column      Non-Null Count  Dtype  \n",
      "---  ------      --------------  -----  \n",
      " 0   subject_id  6725 non-null   int64  \n",
      " 1   hadm_id     6725 non-null   int64  \n",
      " 2   stay_id     6724 non-null   float64\n",
      " 3   apsiii      6724 non-null   float64\n",
      "dtypes: float64(2), int64(2)\n",
      "memory usage: 210.3 KB\n"
     ]
    }
   ],
   "source": [
    "sub1_apsiii.info()"
   ]
  },
  {
   "cell_type": "code",
   "execution_count": 10,
   "metadata": {},
   "outputs": [],
   "source": [
    "sub1_oasis = sub1list >> left_join(oasis, by = ['subject_id','hadm_id','stay_id']) >> select('subject_id','hadm_id','stay_id','stay_id','oasis')"
   ]
  },
  {
   "cell_type": "code",
   "execution_count": 11,
   "metadata": {},
   "outputs": [
    {
     "name": "stdout",
     "output_type": "stream",
     "text": [
      "<class 'pandas.core.frame.DataFrame'>\n",
      "RangeIndex: 6725 entries, 0 to 6724\n",
      "Data columns (total 4 columns):\n",
      " #   Column      Non-Null Count  Dtype  \n",
      "---  ------      --------------  -----  \n",
      " 0   subject_id  6725 non-null   int64  \n",
      " 1   hadm_id     6725 non-null   int64  \n",
      " 2   stay_id     6724 non-null   float64\n",
      " 3   oasis       6724 non-null   float64\n",
      "dtypes: float64(2), int64(2)\n",
      "memory usage: 210.3 KB\n"
     ]
    }
   ],
   "source": [
    "sub1_oasis.info()"
   ]
  },
  {
   "cell_type": "code",
   "execution_count": 12,
   "metadata": {},
   "outputs": [],
   "source": [
    "sub1_sapsii = sub1list >> left_join(sapsii, by = ['subject_id','hadm_id','stay_id']) >> select('subject_id','hadm_id','stay_id','starttime','endtime','sapsii')\n"
   ]
  },
  {
   "cell_type": "code",
   "execution_count": 13,
   "metadata": {},
   "outputs": [
    {
     "name": "stdout",
     "output_type": "stream",
     "text": [
      "<class 'pandas.core.frame.DataFrame'>\n",
      "RangeIndex: 6725 entries, 0 to 6724\n",
      "Data columns (total 6 columns):\n",
      " #   Column      Non-Null Count  Dtype         \n",
      "---  ------      --------------  -----         \n",
      " 0   subject_id  6725 non-null   int64         \n",
      " 1   hadm_id     6725 non-null   int64         \n",
      " 2   stay_id     6724 non-null   float64       \n",
      " 3   starttime   6724 non-null   datetime64[ns]\n",
      " 4   endtime     6724 non-null   datetime64[ns]\n",
      " 5   sapsii      6724 non-null   float64       \n",
      "dtypes: datetime64[ns](2), float64(2), int64(2)\n",
      "memory usage: 315.4 KB\n"
     ]
    }
   ],
   "source": [
    "sub1_sapsii.info()"
   ]
  },
  {
   "cell_type": "code",
   "execution_count": 28,
   "metadata": {},
   "outputs": [],
   "source": [
    "sub1_sofa = sub1list >> left_join(sofa, by = ['stay_id']) >> select('subject_id','hadm_id','stay_id','starttime','endtime','pao2fio2ratio_vent','sofa_24hours')"
   ]
  },
  {
   "cell_type": "code",
   "execution_count": 29,
   "metadata": {},
   "outputs": [
    {
     "name": "stdout",
     "output_type": "stream",
     "text": [
      "NULL COUNT:\n",
      "2\n"
     ]
    }
   ],
   "source": [
    "# null 값 확인 = 2개 확인\n",
    "\n",
    "print('NULL COUNT:')\n",
    "print(len(sub1_sofa[sub1_sofa.sofa_24hours.isna()] ))  # starttime, endtime도 없기 때문에 제거하겠음.\n",
    "sub1_sofa = sub1_sofa[sub1_sofa.sofa_24hours.notna()] "
   ]
  },
  {
   "cell_type": "code",
   "execution_count": 30,
   "metadata": {},
   "outputs": [
    {
     "data": {
      "text/html": [
       "<div>\n",
       "<style scoped>\n",
       "    .dataframe tbody tr th:only-of-type {\n",
       "        vertical-align: middle;\n",
       "    }\n",
       "\n",
       "    .dataframe tbody tr th {\n",
       "        vertical-align: top;\n",
       "    }\n",
       "\n",
       "    .dataframe thead th {\n",
       "        text-align: right;\n",
       "    }\n",
       "</style>\n",
       "<table border=\"1\" class=\"dataframe\">\n",
       "  <thead>\n",
       "    <tr style=\"text-align: right;\">\n",
       "      <th></th>\n",
       "      <th>subject_id</th>\n",
       "      <th>hadm_id</th>\n",
       "      <th>stay_id</th>\n",
       "      <th>starttime</th>\n",
       "      <th>endtime</th>\n",
       "      <th>pao2fio2ratio_vent</th>\n",
       "      <th>sofa_24hours</th>\n",
       "    </tr>\n",
       "  </thead>\n",
       "  <tbody>\n",
       "  </tbody>\n",
       "</table>\n",
       "</div>"
      ],
      "text/plain": [
       "Empty DataFrame\n",
       "Columns: [subject_id, hadm_id, stay_id, starttime, endtime, pao2fio2ratio_vent, sofa_24hours]\n",
       "Index: []"
      ]
     },
     "execution_count": 30,
     "metadata": {},
     "output_type": "execute_result"
    }
   ],
   "source": [
    "# 중복치 확인 -> 없음\n",
    "## 중복치 기준: stay_id 내에서 starttime, endtime이 동일한 경우\n",
    "\n",
    "duplicates = sub1_sofa[sub1_sofa.duplicated(subset=['stay_id', 'starttime', 'endtime'], keep=False)]\n",
    "duplicates_sorted = duplicates.sort_values(by=['stay_id', 'starttime', 'endtime'])   # optional\n",
    "\n",
    "duplicates_sorted"
   ]
  },
  {
   "cell_type": "code",
   "execution_count": 31,
   "metadata": {},
   "outputs": [
    {
     "data": {
      "text/html": [
       "<div>\n",
       "<style scoped>\n",
       "    .dataframe tbody tr th:only-of-type {\n",
       "        vertical-align: middle;\n",
       "    }\n",
       "\n",
       "    .dataframe tbody tr th {\n",
       "        vertical-align: top;\n",
       "    }\n",
       "\n",
       "    .dataframe thead th {\n",
       "        text-align: right;\n",
       "    }\n",
       "</style>\n",
       "<table border=\"1\" class=\"dataframe\">\n",
       "  <thead>\n",
       "    <tr style=\"text-align: right;\">\n",
       "      <th></th>\n",
       "      <th>subject_id</th>\n",
       "      <th>hadm_id</th>\n",
       "      <th>stay_id</th>\n",
       "      <th>starttime</th>\n",
       "      <th>endtime</th>\n",
       "      <th>pao2fio2ratio_vent</th>\n",
       "      <th>sofa_24hours</th>\n",
       "    </tr>\n",
       "  </thead>\n",
       "  <tbody>\n",
       "    <tr>\n",
       "      <th>0</th>\n",
       "      <td>10001884</td>\n",
       "      <td>26184834</td>\n",
       "      <td>37510196.0</td>\n",
       "      <td>2131-01-11 04:00:00</td>\n",
       "      <td>2131-01-11 05:00:00</td>\n",
       "      <td>NaN</td>\n",
       "      <td>3.0</td>\n",
       "    </tr>\n",
       "    <tr>\n",
       "      <th>1</th>\n",
       "      <td>10001884</td>\n",
       "      <td>26184834</td>\n",
       "      <td>37510196.0</td>\n",
       "      <td>2131-01-11 05:00:00</td>\n",
       "      <td>2131-01-11 06:00:00</td>\n",
       "      <td>NaN</td>\n",
       "      <td>3.0</td>\n",
       "    </tr>\n",
       "    <tr>\n",
       "      <th>2</th>\n",
       "      <td>10001884</td>\n",
       "      <td>26184834</td>\n",
       "      <td>37510196.0</td>\n",
       "      <td>2131-01-11 06:00:00</td>\n",
       "      <td>2131-01-11 07:00:00</td>\n",
       "      <td>NaN</td>\n",
       "      <td>3.0</td>\n",
       "    </tr>\n",
       "    <tr>\n",
       "      <th>3</th>\n",
       "      <td>10001884</td>\n",
       "      <td>26184834</td>\n",
       "      <td>37510196.0</td>\n",
       "      <td>2131-01-11 07:00:00</td>\n",
       "      <td>2131-01-11 08:00:00</td>\n",
       "      <td>NaN</td>\n",
       "      <td>3.0</td>\n",
       "    </tr>\n",
       "    <tr>\n",
       "      <th>4</th>\n",
       "      <td>10001884</td>\n",
       "      <td>26184834</td>\n",
       "      <td>37510196.0</td>\n",
       "      <td>2131-01-11 08:00:00</td>\n",
       "      <td>2131-01-11 09:00:00</td>\n",
       "      <td>NaN</td>\n",
       "      <td>3.0</td>\n",
       "    </tr>\n",
       "    <tr>\n",
       "      <th>...</th>\n",
       "      <td>...</td>\n",
       "      <td>...</td>\n",
       "      <td>...</td>\n",
       "      <td>...</td>\n",
       "      <td>...</td>\n",
       "      <td>...</td>\n",
       "      <td>...</td>\n",
       "    </tr>\n",
       "    <tr>\n",
       "      <th>1324038</th>\n",
       "      <td>19999840</td>\n",
       "      <td>21033226</td>\n",
       "      <td>38978960.0</td>\n",
       "      <td>2164-09-17 09:00:00</td>\n",
       "      <td>2164-09-17 10:00:00</td>\n",
       "      <td>NaN</td>\n",
       "      <td>7.0</td>\n",
       "    </tr>\n",
       "    <tr>\n",
       "      <th>1324039</th>\n",
       "      <td>19999840</td>\n",
       "      <td>21033226</td>\n",
       "      <td>38978960.0</td>\n",
       "      <td>2164-09-17 10:00:00</td>\n",
       "      <td>2164-09-17 11:00:00</td>\n",
       "      <td>NaN</td>\n",
       "      <td>7.0</td>\n",
       "    </tr>\n",
       "    <tr>\n",
       "      <th>1324040</th>\n",
       "      <td>19999840</td>\n",
       "      <td>21033226</td>\n",
       "      <td>38978960.0</td>\n",
       "      <td>2164-09-17 11:00:00</td>\n",
       "      <td>2164-09-17 12:00:00</td>\n",
       "      <td>NaN</td>\n",
       "      <td>7.0</td>\n",
       "    </tr>\n",
       "    <tr>\n",
       "      <th>1324041</th>\n",
       "      <td>19999840</td>\n",
       "      <td>21033226</td>\n",
       "      <td>38978960.0</td>\n",
       "      <td>2164-09-17 12:00:00</td>\n",
       "      <td>2164-09-17 13:00:00</td>\n",
       "      <td>NaN</td>\n",
       "      <td>7.0</td>\n",
       "    </tr>\n",
       "    <tr>\n",
       "      <th>1324042</th>\n",
       "      <td>19999840</td>\n",
       "      <td>21033226</td>\n",
       "      <td>38978960.0</td>\n",
       "      <td>2164-09-17 13:00:00</td>\n",
       "      <td>2164-09-17 14:00:00</td>\n",
       "      <td>NaN</td>\n",
       "      <td>7.0</td>\n",
       "    </tr>\n",
       "  </tbody>\n",
       "</table>\n",
       "<p>1324041 rows × 7 columns</p>\n",
       "</div>"
      ],
      "text/plain": [
       "         subject_id   hadm_id     stay_id           starttime  \\\n",
       "0          10001884  26184834  37510196.0 2131-01-11 04:00:00   \n",
       "1          10001884  26184834  37510196.0 2131-01-11 05:00:00   \n",
       "2          10001884  26184834  37510196.0 2131-01-11 06:00:00   \n",
       "3          10001884  26184834  37510196.0 2131-01-11 07:00:00   \n",
       "4          10001884  26184834  37510196.0 2131-01-11 08:00:00   \n",
       "...             ...       ...         ...                 ...   \n",
       "1324038    19999840  21033226  38978960.0 2164-09-17 09:00:00   \n",
       "1324039    19999840  21033226  38978960.0 2164-09-17 10:00:00   \n",
       "1324040    19999840  21033226  38978960.0 2164-09-17 11:00:00   \n",
       "1324041    19999840  21033226  38978960.0 2164-09-17 12:00:00   \n",
       "1324042    19999840  21033226  38978960.0 2164-09-17 13:00:00   \n",
       "\n",
       "                    endtime  pao2fio2ratio_vent  sofa_24hours  \n",
       "0       2131-01-11 05:00:00                 NaN           3.0  \n",
       "1       2131-01-11 06:00:00                 NaN           3.0  \n",
       "2       2131-01-11 07:00:00                 NaN           3.0  \n",
       "3       2131-01-11 08:00:00                 NaN           3.0  \n",
       "4       2131-01-11 09:00:00                 NaN           3.0  \n",
       "...                     ...                 ...           ...  \n",
       "1324038 2164-09-17 10:00:00                 NaN           7.0  \n",
       "1324039 2164-09-17 11:00:00                 NaN           7.0  \n",
       "1324040 2164-09-17 12:00:00                 NaN           7.0  \n",
       "1324041 2164-09-17 13:00:00                 NaN           7.0  \n",
       "1324042 2164-09-17 14:00:00                 NaN           7.0  \n",
       "\n",
       "[1324041 rows x 7 columns]"
      ]
     },
     "execution_count": 31,
     "metadata": {},
     "output_type": "execute_result"
    }
   ],
   "source": [
    "# hadm_id, stay_id 별로 시간순 (charttime) 정렬 (Optional)\n",
    "sub1_sofa.sort_values(by=['subject_id', 'hadm_id', 'starttime', 'endtime'], inplace=True)\n",
    "sub1_sofa"
   ]
  },
  {
   "cell_type": "code",
   "execution_count": 32,
   "metadata": {},
   "outputs": [
    {
     "data": {
      "text/plain": [
       "subject_id            1324041\n",
       "hadm_id               1324041\n",
       "stay_id               1324041\n",
       "starttime             1324041\n",
       "endtime               1324041\n",
       "pao2fio2ratio_vent      69458\n",
       "sofa_24hours          1324041\n",
       "dtype: int64"
      ]
     },
     "execution_count": 32,
     "metadata": {},
     "output_type": "execute_result"
    }
   ],
   "source": [
    "sub1_sofa.count()"
   ]
  },
  {
   "cell_type": "code",
   "execution_count": 33,
   "metadata": {},
   "outputs": [],
   "source": [
    "sub1_charlson.to_csv('../outputs/sub1_charlson.csv', index=False, encoding='utf-8-sig')\n",
    "sub1_apsiii.to_csv('../outputs/sub1_apsiii.csv', index=False, encoding='utf-8-sig')\n",
    "sub1_oasis.to_csv('../outputs/sub1_oasis.csv', index=False, encoding='utf-8-sig')\n",
    "sub1_sapsii.to_csv('../outputs/sub1_sapsii.csv', index=False, encoding='utf-8-sig')\n",
    "sub1_sofa.to_csv('../outputs/sub1_sofa.csv', index=False, encoding='utf-8-sig')"
   ]
  },
  {
   "cell_type": "code",
   "execution_count": null,
   "metadata": {},
   "outputs": [],
   "source": []
  }
 ],
 "metadata": {
  "kernelspec": {
   "display_name": "mimic",
   "language": "python",
   "name": "python3"
  },
  "language_info": {
   "codemirror_mode": {
    "name": "ipython",
    "version": 3
   },
   "file_extension": ".py",
   "mimetype": "text/x-python",
   "name": "python",
   "nbconvert_exporter": "python",
   "pygments_lexer": "ipython3",
   "version": "3.10.13"
  },
  "orig_nbformat": 4,
  "vscode": {
   "interpreter": {
    "hash": "08a5d306251160da1020f1cc49fc3a531c8493d68136136759768e504de1bc8f"
   }
  }
 },
 "nbformat": 4,
 "nbformat_minor": 2
}
