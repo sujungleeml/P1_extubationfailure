{
 "cells": [
  {
   "cell_type": "code",
   "execution_count": null,
   "metadata": {},
   "outputs": [],
   "source": [
    "#이전연구에서 사용했던 potential varibales는 다음과 같습니다.\n",
    "#Demographics\n",
    "#Age(years),mean(SD)\n",
    "#Gender(Femail/Male)\n",
    "#Height(cm), mean(SD)\n",
    "#GCS, mean(SD)\n",
    "\n",
    "#Relevant Diagnosis \n",
    "#COPD (Diagnosed/Non-diagnosed)\n",
    "\n",
    "#Severity Score \n",
    "#SAPS II, mean(SD)\n",
    "#OASIS, mean(SD)\n",
    "\n",
    "#Ventilation factors\n",
    "#Vt, mean(SD)\n",
    "#Ve, mean(SD)\n",
    "#HR, mean(SD)\n",
    "#MBP, mean(SD)\n",
    "#RR, mean(SD)\n",
    "#Pimax(cmH2O), mean(SD)\n",
    "#SpO2, mean(SD) \n",
    "#FiO2, mean(SD) \n",
    "#PaCO2, maen(SD)\n",
    "\n",
    "\n"
   ]
  }
 ],
 "metadata": {
  "language_info": {
   "name": "python"
  },
  "orig_nbformat": 4
 },
 "nbformat": 4,
 "nbformat_minor": 2
}
