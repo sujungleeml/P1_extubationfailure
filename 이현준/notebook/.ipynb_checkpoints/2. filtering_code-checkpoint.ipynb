{
 "cells": [
  {
   "cell_type": "markdown",
   "id": "8440b69a-974c-4ffb-b3cf-1f93e52b7bbe",
   "metadata": {},
   "source": [
    "# 목표\n",
    "## 중복 이벤트 삭제 함수 만들기"
   ]
  },
  {
   "cell_type": "markdown",
   "id": "12106c15-e9a4-44c1-a076-032747213fe7",
   "metadata": {},
   "source": [
    "### 1. 삽관 및 발관 중복 이벤트 삭제하기"
   ]
  },
  {
   "cell_type": "markdown",
   "id": "a01d312e-e6d3-4af7-98d3-b2c64e1a5e94",
   "metadata": {},
   "source": [
    "* time_col1(intubation), time_col2(extubation) 데이터 프레임 각각 할당\n",
    "\n",
    "* 개별 데이터 프레임 sort_values 진행\n",
    "\n",
    "* time_diff를 계산하는 함수를 제작, 개별 데이터 프레임에 lambda 함수를 활용하여 적용\n",
    "\n",
    "* 적용 뒤엔 각각의 데이터 프레임에 time_diff, dup 컬럼이 만들어졌으므로, 이를 원본 df 데이터에 loc 함수를 이용하여 할당"
   ]
  },
  {
   "cell_type": "code",
   "execution_count": 1,
   "id": "4d47a7a3-37df-48dd-a012-57c1a02f3fb3",
   "metadata": {},
   "outputs": [],
   "source": [
    "import time\n",
    "import pandas as pd\n",
    "\n",
    "subjectlist = pd.read_csv('../Data/subjectlist1_edit.csv', parse_dates=['admittime','intubationtime','dischtime', 'deathtime','extubationtime','reintubation_eventtime'], index_col=\"Unnamed: 0\")"
   ]
  },
  {
   "cell_type": "code",
   "execution_count": 2,
   "id": "40b2645b-bc85-46e7-89e8-a0d053897da0",
   "metadata": {},
   "outputs": [],
   "source": [
    "def time_duplicate_event_new(df_original, time_col1, time_col2, time_delta_minute):\n",
    "\n",
    "    df = df_original.copy()\n",
    "    \n",
    "    # 시간 열을 datetime 형식으로 변환\n",
    "    df[time_col1] = pd.to_datetime(df[time_col1])\n",
    "    df[time_col2] = pd.to_datetime(df[time_col2])\n",
    "\n",
    "    # notnull로 NaN 값이 없는 dataframe을 제작\n",
    "    col1_df = df[df[time_col1].notnull()]\n",
    "    col2_df = df[df[time_col2].notnull()]\n",
    "\n",
    "    col1_sorted_df = col1_df.sort_values(by=[\"subject_id\", \"hadm_id\", time_col1])\n",
    "    col2_sorted_df = col2_df.sort_values(by=[\"subject_id\", \"hadm_id\", time_col2])\n",
    "    \n",
    "    # 시간 차이를 기반으로 중복을 표시하는 함수\n",
    "    def mark_duplicates(group, time_column):\n",
    "        # 이전 행과의 시간 차이 계산\n",
    "        group[\"time_diff\"] = group[time_column].diff()\n",
    "\n",
    "        result_list = [\"duplicated\" if td <= pd.Timedelta(minutes=time_delta_minute) else \"not_duplicated\" for td in group[\"time_diff\"]]\n",
    "        \n",
    "        group[\"dup\"] = result_list\n",
    "        \n",
    "        # 임계값과 시간 차이를 비교하여 중복 표시\n",
    "        return group\n",
    "\n",
    "    \n",
    "    filter_int = col1_sorted_df.groupby([\"subject_id\", \"hadm_id\"], group_keys=False).apply(lambda x: mark_duplicates(x, time_col1))\n",
    "    filter_ext = col2_sorted_df.groupby([\"subject_id\", \"hadm_id\"], group_keys=False).apply(lambda x: mark_duplicates(x, time_col2))\n",
    "\n",
    "    col1_idx_list = filter_int.index.to_list()\n",
    "    col2_idx_list = filter_ext.index.to_list()\n",
    "\n",
    "    for idx in range(1, len(col1_idx_list)):\n",
    "        # print(\"현재 인덱스:\", idx)\n",
    "        # print(\"filter_int 인덱스:\", col1_idx_list[idx])\n",
    "        if filter_int[\"dup\"][col1_idx_list[idx]] == \"duplicated\":\n",
    "            df.loc[col1_idx_list[idx-1], \"int_dup\"] = \"duplicated\"\n",
    "            df.loc[col1_idx_list[idx], \"int_dup\"] = \"duplicated\"\n",
    "            df.loc[col1_idx_list[idx], \"int_timediff\"] = filter_int.loc[col1_idx_list[idx], \"time_diff\"]\n",
    "            \n",
    "    for idx in range(1, len(col2_idx_list)):\n",
    "        if filter_ext[\"dup\"][col2_idx_list[idx]] == \"duplicated\":\n",
    "            df.loc[col2_idx_list[idx-1], \"ext_dup\"] = \"duplicated\"\n",
    "            df.loc[col2_idx_list[idx], \"ext_dup\"] = \"duplicated\"\n",
    "            df.loc[col2_idx_list[idx], \"ext_timediff\"] = filter_ext.loc[col2_idx_list[idx], \"time_diff\"]\n",
    "\n",
    "    return df"
   ]
  },
  {
   "cell_type": "code",
   "execution_count": 3,
   "id": "c168f849-c005-4c9f-8122-503fb1ffecfa",
   "metadata": {},
   "outputs": [
    {
     "name": "stdout",
     "output_type": "stream",
     "text": [
      "time_delta가 40분 일때\n",
      "----------------------------------------------------------------------\n",
      "intubation 중복 행 개수 : 전체 intubation 행 개수 7860행 중에서, 34개\n",
      "intubation 중복 행 비율 : 0.38 %\n",
      "extubation 중복 행 개수 : 전체 extubation 행 개수 8759행 중에서, 16개\n",
      "extubation 중복 행 비율 : 0.18 %\n",
      "\n",
      "time_delta가 50분 일때\n",
      "----------------------------------------------------------------------\n",
      "intubation 중복 행 개수 : 전체 intubation 행 개수 7860행 중에서, 52개\n",
      "intubation 중복 행 비율 : 0.58 %\n",
      "extubation 중복 행 개수 : 전체 extubation 행 개수 8759행 중에서, 20개\n",
      "extubation 중복 행 비율 : 0.22 %\n",
      "\n",
      "time_delta가 60분 일때\n",
      "----------------------------------------------------------------------\n",
      "intubation 중복 행 개수 : 전체 intubation 행 개수 7860행 중에서, 64개\n",
      "intubation 중복 행 비율 : 0.71 %\n",
      "extubation 중복 행 개수 : 전체 extubation 행 개수 8759행 중에서, 24개\n",
      "extubation 중복 행 비율 : 0.27 %\n",
      "\n",
      "time_delta가 70분 일때\n",
      "----------------------------------------------------------------------\n",
      "intubation 중복 행 개수 : 전체 intubation 행 개수 7860행 중에서, 72개\n",
      "intubation 중복 행 비율 : 0.8 %\n",
      "extubation 중복 행 개수 : 전체 extubation 행 개수 8759행 중에서, 24개\n",
      "extubation 중복 행 비율 : 0.27 %\n",
      "\n",
      "time_delta가 80분 일때\n",
      "----------------------------------------------------------------------\n",
      "intubation 중복 행 개수 : 전체 intubation 행 개수 7860행 중에서, 76개\n",
      "intubation 중복 행 비율 : 0.84 %\n",
      "extubation 중복 행 개수 : 전체 extubation 행 개수 8759행 중에서, 26개\n",
      "extubation 중복 행 비율 : 0.29 %\n",
      "\n",
      "time_delta가 90분 일때\n",
      "----------------------------------------------------------------------\n",
      "intubation 중복 행 개수 : 전체 intubation 행 개수 7860행 중에서, 86개\n",
      "intubation 중복 행 비율 : 0.96 %\n",
      "extubation 중복 행 개수 : 전체 extubation 행 개수 8759행 중에서, 28개\n",
      "extubation 중복 행 비율 : 0.31 %\n",
      "\n"
     ]
    }
   ],
   "source": [
    "minutes = [40, 50, 60, 70, 80, 90]\n",
    "\n",
    "for minute in minutes:\n",
    "    filter_df = time_duplicate_event_new(subjectlist, \"intubationtime\", \"extubationtime\", minute)\n",
    "    total_int_row = len(filter_df[filter_df['intubationtime'].notnull()])\n",
    "    total_ext_row = len(filter_df[filter_df['extubationtime'].notnull()])\n",
    "    portion_dup_int = round((filter_df[\"int_dup\"].value_counts(normalize=True).loc['duplicated']*100), 2)\n",
    "    portion_dup_ext = round((filter_df[\"ext_dup\"].value_counts(normalize=True).loc['duplicated']*100), 2)\n",
    "    \n",
    "    print(f\"time_delta가 {minute}분 일때\")\n",
    "    print(f\"{'-'*70}\")\n",
    "    print(f'intubation 중복 행 개수 : 전체 intubation 행 개수 {total_int_row}행 중에서, {filter_df[\"int_dup\"].value_counts().loc[\"duplicated\"]}개')\n",
    "    print(f'intubation 중복 행 비율 : {portion_dup_int} %')\n",
    "    print(f'extubation 중복 행 개수 : 전체 extubation 행 개수 {total_ext_row}행 중에서, {filter_df[\"ext_dup\"].value_counts().loc[\"duplicated\"]}개')\n",
    "    print(f'extubation 중복 행 비율 : {portion_dup_ext} %')\n",
    "    print(\"\")"
   ]
  }
 ],
 "metadata": {
  "kernelspec": {
   "display_name": "Python 3 (ipykernel)",
   "language": "python",
   "name": "python3"
  },
  "language_info": {
   "codemirror_mode": {
    "name": "ipython",
    "version": 3
   },
   "file_extension": ".py",
   "mimetype": "text/x-python",
   "name": "python",
   "nbconvert_exporter": "python",
   "pygments_lexer": "ipython3",
   "version": "3.11.4"
  },
  "widgets": {
   "application/vnd.jupyter.widget-state+json": {
    "state": {},
    "version_major": 2,
    "version_minor": 0
   }
  }
 },
 "nbformat": 4,
 "nbformat_minor": 5
}
